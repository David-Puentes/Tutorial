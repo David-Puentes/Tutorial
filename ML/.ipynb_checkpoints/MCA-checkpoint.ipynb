{
 "cells": [
  {
   "cell_type": "markdown",
   "metadata": {},
   "source": [
    "## Análisis de correspondencias \n",
    "\n",
    "El análisis de correspondencias es una técnica estadística que permite reducir las dimensiones de un un conjunto de datos categóricos en un sub espacio que contenga la mayor cantidad de información. De igual manera pretende establecer similitudes entre variables\n",
    "\n",
    "Los pasos a seguir en el análisis de correspondencias son:\n",
    "\n",
    "1. Crear la matriz de correspondencias\n",
    "2. Calcular los perfiles fila o columna\n",
    "3. Hallar las distancias chi cuadrado \n",
    "4. Calcular las inercias\n",
    "5. Calcular la matriz residual y descomponerla en vectores singulares\n",
    "6. Determinar la variabilidad explicada por cada nueva dimensión \n",
    "7. Hallar las nuevas coordenadas"
   ]
  },
  {
   "cell_type": "code",
   "execution_count": 142,
   "metadata": {
    "collapsed": true
   },
   "outputs": [],
   "source": [
    "import pandas as pd\n",
    "import numpy as np\n",
    "import matplotlib.pyplot as plt\n",
    "np.set_printoptions(formatter={'float': '{: 0.3f}'.format})\n",
    "pd.set_option('display.precision', 3)"
   ]
  },
  {
   "cell_type": "code",
   "execution_count": 20,
   "metadata": {},
   "outputs": [
    {
     "name": "stdout",
     "output_type": "stream",
     "text": [
      "    NF   B   M   A\n",
      "DS   4   2   3   2\n",
      "DJ   4   3   7   4\n",
      "ES  25  10  12   4\n",
      "EJ  18  24  33  13\n",
      "S   10   6   7   2\n",
      "Totales fila:  DS    11\n",
      "DJ    18\n",
      "ES    51\n",
      "EJ    88\n",
      "S     25\n",
      "dtype: int64 \n",
      " Totales columna:  NF    61\n",
      "B     45\n",
      "M     62\n",
      "A     25\n",
      "dtype: int64\n"
     ]
    }
   ],
   "source": [
    "# Cargar datos\n",
    "data=pd.read_csv(\"MCA_data.txt\",sep=\"\\t\",index_col=[0])\n",
    "Totales_fila=data.sum(axis=1) # Columna con los totales\n",
    "Totales_columna=data.sum(axis=0) # Fila con los totales\n",
    "index= data.index\n",
    "columns= list(data.columns)\n",
    "print(data)\n",
    "print(\"Totales fila: \",Totales_fila,\"\\n\",\"Totales columna: \",Totales_columna)"
   ]
  },
  {
   "cell_type": "markdown",
   "metadata": {},
   "source": [
    "### Paso 1: \n",
    "Crear la matriz de correspondencias"
   ]
  },
  {
   "cell_type": "code",
   "execution_count": 21,
   "metadata": {},
   "outputs": [
    {
     "data": {
      "text/html": [
       "<div>\n",
       "<style>\n",
       "    .dataframe thead tr:only-child th {\n",
       "        text-align: right;\n",
       "    }\n",
       "\n",
       "    .dataframe thead th {\n",
       "        text-align: left;\n",
       "    }\n",
       "\n",
       "    .dataframe tbody tr th {\n",
       "        vertical-align: top;\n",
       "    }\n",
       "</style>\n",
       "<table border=\"1\" class=\"dataframe\">\n",
       "  <thead>\n",
       "    <tr style=\"text-align: right;\">\n",
       "      <th></th>\n",
       "      <th>NF</th>\n",
       "      <th>B</th>\n",
       "      <th>M</th>\n",
       "      <th>A</th>\n",
       "    </tr>\n",
       "  </thead>\n",
       "  <tbody>\n",
       "    <tr>\n",
       "      <th>DS</th>\n",
       "      <td>0.021</td>\n",
       "      <td>0.010</td>\n",
       "      <td>0.016</td>\n",
       "      <td>0.010</td>\n",
       "    </tr>\n",
       "    <tr>\n",
       "      <th>DJ</th>\n",
       "      <td>0.021</td>\n",
       "      <td>0.016</td>\n",
       "      <td>0.036</td>\n",
       "      <td>0.021</td>\n",
       "    </tr>\n",
       "    <tr>\n",
       "      <th>ES</th>\n",
       "      <td>0.130</td>\n",
       "      <td>0.052</td>\n",
       "      <td>0.062</td>\n",
       "      <td>0.021</td>\n",
       "    </tr>\n",
       "    <tr>\n",
       "      <th>EJ</th>\n",
       "      <td>0.093</td>\n",
       "      <td>0.124</td>\n",
       "      <td>0.171</td>\n",
       "      <td>0.067</td>\n",
       "    </tr>\n",
       "    <tr>\n",
       "      <th>S</th>\n",
       "      <td>0.052</td>\n",
       "      <td>0.031</td>\n",
       "      <td>0.036</td>\n",
       "      <td>0.010</td>\n",
       "    </tr>\n",
       "  </tbody>\n",
       "</table>\n",
       "</div>"
      ],
      "text/plain": [
       "       NF      B      M      A\n",
       "DS  0.021  0.010  0.016  0.010\n",
       "DJ  0.021  0.016  0.036  0.021\n",
       "ES  0.130  0.052  0.062  0.021\n",
       "EJ  0.093  0.124  0.171  0.067\n",
       "S   0.052  0.031  0.036  0.010"
      ]
     },
     "execution_count": 21,
     "metadata": {},
     "output_type": "execute_result"
    }
   ],
   "source": [
    "#data=np.asarray(data)\n",
    "corr=data/sum(Totales_columna)\n",
    "corr"
   ]
  },
  {
   "cell_type": "markdown",
   "metadata": {},
   "source": [
    "### Paso 2:\n",
    "\n",
    "Calcular los perfiles fila, la masa de las filas y el perfil medio"
   ]
  },
  {
   "cell_type": "code",
   "execution_count": 22,
   "metadata": {},
   "outputs": [
    {
     "data": {
      "text/html": [
       "<div>\n",
       "<style>\n",
       "    .dataframe thead tr:only-child th {\n",
       "        text-align: right;\n",
       "    }\n",
       "\n",
       "    .dataframe thead th {\n",
       "        text-align: left;\n",
       "    }\n",
       "\n",
       "    .dataframe tbody tr th {\n",
       "        vertical-align: top;\n",
       "    }\n",
       "</style>\n",
       "<table border=\"1\" class=\"dataframe\">\n",
       "  <thead>\n",
       "    <tr style=\"text-align: right;\">\n",
       "      <th></th>\n",
       "      <th>0</th>\n",
       "      <th>1</th>\n",
       "      <th>2</th>\n",
       "      <th>3</th>\n",
       "    </tr>\n",
       "  </thead>\n",
       "  <tbody>\n",
       "    <tr>\n",
       "      <th>0</th>\n",
       "      <td>0.364</td>\n",
       "      <td>0.182</td>\n",
       "      <td>0.273</td>\n",
       "      <td>0.182</td>\n",
       "    </tr>\n",
       "    <tr>\n",
       "      <th>1</th>\n",
       "      <td>0.222</td>\n",
       "      <td>0.167</td>\n",
       "      <td>0.389</td>\n",
       "      <td>0.222</td>\n",
       "    </tr>\n",
       "    <tr>\n",
       "      <th>2</th>\n",
       "      <td>0.490</td>\n",
       "      <td>0.196</td>\n",
       "      <td>0.235</td>\n",
       "      <td>0.078</td>\n",
       "    </tr>\n",
       "    <tr>\n",
       "      <th>3</th>\n",
       "      <td>0.205</td>\n",
       "      <td>0.273</td>\n",
       "      <td>0.375</td>\n",
       "      <td>0.148</td>\n",
       "    </tr>\n",
       "    <tr>\n",
       "      <th>4</th>\n",
       "      <td>0.400</td>\n",
       "      <td>0.240</td>\n",
       "      <td>0.280</td>\n",
       "      <td>0.080</td>\n",
       "    </tr>\n",
       "  </tbody>\n",
       "</table>\n",
       "</div>"
      ],
      "text/plain": [
       "       0      1      2      3\n",
       "0  0.364  0.182  0.273  0.182\n",
       "1  0.222  0.167  0.389  0.222\n",
       "2  0.490  0.196  0.235  0.078\n",
       "3  0.205  0.273  0.375  0.148\n",
       "4  0.400  0.240  0.280  0.080"
      ]
     },
     "execution_count": 22,
     "metadata": {},
     "output_type": "execute_result"
    }
   ],
   "source": [
    "Masa=np.asarray([i/sum(Totales_fila) for i in Totales_fila]) # Fila\n",
    "P_fila=pd.DataFrame([data.values[i]/Totales_fila[i] for i in range(len(Totales_fila))])\n",
    "P_medio= np.asarray([i/sum(Totales_columna) for i in Totales_columna])\n",
    "P_fila"
   ]
  },
  {
   "cell_type": "markdown",
   "metadata": {},
   "source": [
    "### Paso 3:\n",
    "\n",
    "La distancia Chi que se calcula es respecto al perfil medio de las filas"
   ]
  },
  {
   "cell_type": "code",
   "execution_count": 23,
   "metadata": {},
   "outputs": [
    {
     "data": {
      "text/plain": [
       "0    0.217\n",
       "1    0.357\n",
       "2    0.381\n",
       "3    0.240\n",
       "4    0.216\n",
       "dtype: float64"
      ]
     },
     "execution_count": 23,
     "metadata": {},
     "output_type": "execute_result"
    }
   ],
   "source": [
    "dis= (P_fila.loc[:,0:3]-P_medio)**2/P_medio\n",
    "chi=np.sqrt(dis.sum(axis=1)) # Distancias chi cuadrado\n",
    "chi"
   ]
  },
  {
   "cell_type": "markdown",
   "metadata": {},
   "source": [
    "### Paso 4:\n",
    "\n",
    "Calcular la inercia de cada uno de los perfiles"
   ]
  },
  {
   "cell_type": "code",
   "execution_count": 74,
   "metadata": {},
   "outputs": [
    {
     "name": "stdout",
     "output_type": "stream",
     "text": [
      "0    0.003\n",
      "1    0.012\n",
      "2    0.038\n",
      "3    0.026\n",
      "4    0.006\n",
      "dtype: float64\n"
     ]
    }
   ],
   "source": [
    "Mat_inercia=dis.mul(Masa,axis=0)\n",
    "Inercia=Mat_inercia.sum(axis=1)\n",
    "print(Inercia)"
   ]
  },
  {
   "cell_type": "markdown",
   "metadata": {},
   "source": [
    "### Paso 5:\n",
    "\n",
    "Matriz de residuales"
   ]
  },
  {
   "cell_type": "code",
   "execution_count": 55,
   "metadata": {},
   "outputs": [
    {
     "data": {
      "text/html": [
       "<div>\n",
       "<style>\n",
       "    .dataframe thead tr:only-child th {\n",
       "        text-align: right;\n",
       "    }\n",
       "\n",
       "    .dataframe thead th {\n",
       "        text-align: left;\n",
       "    }\n",
       "\n",
       "    .dataframe tbody tr th {\n",
       "        vertical-align: top;\n",
       "    }\n",
       "</style>\n",
       "<table border=\"1\" class=\"dataframe\">\n",
       "  <thead>\n",
       "    <tr style=\"text-align: right;\">\n",
       "      <th></th>\n",
       "      <th>NF</th>\n",
       "      <th>B</th>\n",
       "      <th>M</th>\n",
       "      <th>A</th>\n",
       "    </tr>\n",
       "  </thead>\n",
       "  <tbody>\n",
       "    <tr>\n",
       "      <th>DS</th>\n",
       "      <td>0.020</td>\n",
       "      <td>-0.025</td>\n",
       "      <td>-0.020</td>\n",
       "      <td>0.035</td>\n",
       "    </tr>\n",
       "    <tr>\n",
       "      <th>DJ</th>\n",
       "      <td>-0.051</td>\n",
       "      <td>-0.042</td>\n",
       "      <td>0.036</td>\n",
       "      <td>0.079</td>\n",
       "    </tr>\n",
       "    <tr>\n",
       "      <th>ES</th>\n",
       "      <td>0.159</td>\n",
       "      <td>-0.039</td>\n",
       "      <td>-0.078</td>\n",
       "      <td>-0.073</td>\n",
       "    </tr>\n",
       "    <tr>\n",
       "      <th>EJ</th>\n",
       "      <td>-0.134</td>\n",
       "      <td>0.055</td>\n",
       "      <td>0.064</td>\n",
       "      <td>0.034</td>\n",
       "    </tr>\n",
       "    <tr>\n",
       "      <th>S</th>\n",
       "      <td>0.054</td>\n",
       "      <td>0.005</td>\n",
       "      <td>-0.026</td>\n",
       "      <td>-0.050</td>\n",
       "    </tr>\n",
       "  </tbody>\n",
       "</table>\n",
       "</div>"
      ],
      "text/plain": [
       "       NF      B      M      A\n",
       "DS  0.020 -0.025 -0.020  0.035\n",
       "DJ -0.051 -0.042  0.036  0.079\n",
       "ES  0.159 -0.039 -0.078 -0.073\n",
       "EJ -0.134  0.055  0.064  0.034\n",
       "S   0.054  0.005 -0.026 -0.050"
      ]
     },
     "execution_count": 55,
     "metadata": {},
     "output_type": "execute_result"
    }
   ],
   "source": [
    "prod=[] # Se crea una lista para almacenar el producto de los perfiles medio y la mas\n",
    "for i in Masa:\n",
    "    a=[]\n",
    "    prod.append(a)\n",
    "    for e in P_medio:\n",
    "        a.append(i*e)\n",
    "prod=np.asarray(prod)\n",
    "\n",
    "Residuales=(corr-prod)/np.sqrt(prod)\n",
    "Residuales"
   ]
  },
  {
   "cell_type": "markdown",
   "metadata": {},
   "source": [
    "Se procede a descomponer la matriz de residuales para determinar los vectores singular y posteriormente las coordenadas"
   ]
  },
  {
   "cell_type": "code",
   "execution_count": 70,
   "metadata": {},
   "outputs": [
    {
     "name": "stdout",
     "output_type": "stream",
     "text": [
      "Valores singulares:\n",
      "  [ 0.273  0.100  0.020  0.000]\n",
      "\n",
      " Vectores singulares izquierdos:\n",
      "  [[-0.057 -0.462  0.833  0.119  0.273]\n",
      " [ 0.289 -0.742 -0.506  0.053  0.326]\n",
      " [-0.716 -0.055 -0.130 -0.556  0.398]\n",
      " [ 0.575  0.390  0.110 -0.369  0.607]\n",
      " [-0.265  0.284 -0.143  0.733  0.540]]\n",
      "\n",
      " Vectores singulares derechos:\n",
      "  [[-0.809  0.176  0.407  0.387]\n",
      " [-0.171  0.681  0.042 -0.711]\n",
      " [-0.025  0.522 -0.715  0.464]\n",
      " [ 0.562  0.483  0.567  0.360]]\n"
     ]
    }
   ],
   "source": [
    "Vec_izq,V_singular,Vec_der=np.linalg.svd(Residuales)\n",
    "print(\"Valores singulares:\\n \",V_singular)\n",
    "print(\"\\n Vectores singulares izquierdos:\\n \", Vec_izq)\n",
    "print(\"\\n Vectores singulares derechos:\\n \", Vec_der)"
   ]
  },
  {
   "cell_type": "markdown",
   "metadata": {},
   "source": [
    "### Paso 6:\n",
    "\n",
    "Determinar la variabilidad explicada por cada nueva dimensión\n",
    "El número posible de dimensiones es K= min(M-1,N-1) donde M y N son las dimensiones de la matriz de correspondencia"
   ]
  },
  {
   "cell_type": "code",
   "execution_count": 131,
   "metadata": {},
   "outputs": [
    {
     "name": "stdout",
     "output_type": "stream",
     "text": [
      "   Inercia de la dimensión   Porcentaje explicado\n",
      "1                7.476e-02              8.776e+01\n",
      "2                1.002e-02              1.176e+01\n",
      "3                4.136e-04              4.855e-01\n",
      "4                2.289e-33              2.687e-30\n",
      "La varianza explicada por 2 dimensiones es:\n",
      "   Porcentaje explicado    99.515\n",
      "dtype: float64\n"
     ]
    }
   ],
   "source": [
    "K=min(len(Masa)-1,len(P_medio)-1)\n",
    "Var={}\n",
    "for i in range(len(V_singular)):\n",
    "    Var[i+1]=(V_singular[i]**2,(V_singular[i]**2)*100/sum(Inercia))\n",
    "Var=pd.DataFrame(Var).T\n",
    "Var.columns=[\"Inercia de la dimensión\",\" Porcentaje explicado\"]\n",
    "print(Var)\n",
    "print(\"La varianza explicada por 2 dimensiones es:\\n \", (Var.iloc[:2,1:2]).sum())"
   ]
  },
  {
   "cell_type": "markdown",
   "metadata": {},
   "source": [
    "### Paso 7\n",
    "\n",
    "Hallar las nuevas coordenadas"
   ]
  },
  {
   "cell_type": "code",
   "execution_count": 174,
   "metadata": {},
   "outputs": [],
   "source": [
    "Dim_1=[Vec_izq[i][:1]/np.sqrt(Masa[i]) for i in range(len(Masa))]\n",
    "Dim_2=[Vec_izq[i][1:2]/np.sqrt(Masa[i]) for i in range(len(Masa))]"
   ]
  },
  {
   "cell_type": "code",
   "execution_count": 173,
   "metadata": {},
   "outputs": [
    {
     "data": {
      "image/png": "[encoded data removed]",
      "text/plain": [
       "<matplotlib.figure.Figure at 0x1fcb76af048>"
      ]
     },
     "metadata": {},
     "output_type": "display_data"
    }
   ],
   "source": [
    "plt.scatter(Dim_1,Dim_2)\n",
    "plt.axis(\"tight\")\n",
    "plt.show()"
   ]
  }
 ],
 "metadata": {
  "kernelspec": {
   "display_name": "Python 3",
   "language": "python",
   "name": "python3"
  },
  "language_info": {
   "codemirror_mode": {
    "name": "ipython",
    "version": 3
   },
   "file_extension": ".py",
   "mimetype": "text/x-python",
   "name": "python",
   "nbconvert_exporter": "python",
   "pygments_lexer": "ipython3",
   "version": "3.6.3"
  }
 },
 "nbformat": 4,
 "nbformat_minor": 2
}
