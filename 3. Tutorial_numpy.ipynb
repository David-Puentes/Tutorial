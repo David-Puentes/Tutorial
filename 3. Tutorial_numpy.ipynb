{
 "cells": [
  {
   "cell_type": "markdown",
   "metadata": {},
   "source": [
    "# Numpy"
   ]
  },
  {
   "cell_type": "markdown",
   "metadata": {},
   "source": [
    "Numpy es un paquete de computación científica. Permite el trabajo con arreglos vectoriales, matriciales y funciones para cálculos matemáticos, también permite operaciones de algebra lineal, transformadas de Fourier y generación de valores aleatorios. Para mayor información ir a: __[Numpy](https://docs.scipy.org/doc/numpy/user/quickstart.html)__"
   ]
  },
  {
   "cell_type": "markdown",
   "metadata": {},
   "source": [
    "En este notebook se abordarán temas como:\n",
    "\n",
    "[1. Crear arreglos (arrays) utilizando NumPy](#seccion 1)\n",
    "\n",
    "[2. Información de los arreglos](#seccion 2)\n",
    "\n",
    "[3. Acceder y modificar elementos en un arreglo](#seccion 3)\n",
    "\n",
    "[4. Acceder a sub arreglos](#seccion 4)\n",
    "\n",
    "[5. Partición de datos](#seccion 5)\n",
    "\n",
    "[6. Operaciones con arreglos](#seccion 6)\n",
    "\n",
    "[7. Operaciones booleanas](#seccion 7)\n",
    "\n",
    "[8. Ordenar arreglos](#seccion 8)"
   ]
  },
  {
   "cell_type": "code",
   "execution_count": 1,
   "metadata": {},
   "outputs": [],
   "source": [
    "import numpy as np"
   ]
  },
  {
   "cell_type": "code",
   "execution_count": 9,
   "metadata": {},
   "outputs": [
    {
     "name": "stdout",
     "output_type": "stream",
     "text": [
      "0.67\n"
     ]
    }
   ],
   "source": [
    "print(\"%.2f\" % (2/3))"
   ]
  },
  {
   "cell_type": "markdown",
   "metadata": {},
   "source": [
    "###   <a id='seccion 1'></a>1. Crear arreglos (arrays) utilizando NumPy"
   ]
  },
  {
   "cell_type": "code",
   "execution_count": null,
   "metadata": {},
   "outputs": [],
   "source": [
    "np?"
   ]
  },
  {
   "cell_type": "markdown",
   "metadata": {},
   "source": [
    "Los arrays son arreglos de datos en diferentes dimensiones, similares a las listas pero más eficientes, por lo que la manipulación de datos en python es sinónimo de manipulación en Numpy, incluso en el uso de otras herramientas como Pandas\n",
    "\n",
    "Estos arreglos deben tener el mismo tipo de dato para realizar las operaciones entre ellos y para su creación"
   ]
  },
  {
   "cell_type": "code",
   "execution_count": 3,
   "metadata": {},
   "outputs": [
    {
     "name": "stdout",
     "output_type": "stream",
     "text": [
      "[12 32 34 32 22 15] \n",
      "\n",
      " [[12 13 54]\n",
      " [12 32  1]\n",
      " [21  3  4]]\n"
     ]
    }
   ],
   "source": [
    "# Crear un vector o array de 1 dimensión\n",
    "\n",
    "a=np.array([12,32,34,32,22,15])\n",
    "\n",
    "# Crear una matriz o array de 2 dimensiones\n",
    "\n",
    "b=np.array([[12,13,54],[12,32,1],[21,3,4]])\n",
    "print( a,\"\\n\\n\", b)"
   ]
  },
  {
   "cell_type": "code",
   "execution_count": null,
   "metadata": {},
   "outputs": [],
   "source": [
    "# Qué sucede si se crea un array con diferentes tipos de variables\n",
    "\n",
    "c=np.array([\"1\",2,3,4.5])\n",
    "print(c) # Numpy modifica el tipo de la variable para que todas sean iguales (respecto al tipo)"
   ]
  },
  {
   "cell_type": "markdown",
   "metadata": {},
   "source": [
    "Para crear algunos arreglos específicos NumPy cuenta con funciones pre definidas"
   ]
  },
  {
   "cell_type": "code",
   "execution_count": null,
   "metadata": {},
   "outputs": [],
   "source": [
    "# Crear un array de 0\n",
    "print(np.zeros(10,dtype=\"int\"))"
   ]
  },
  {
   "cell_type": "code",
   "execution_count": 4,
   "metadata": {},
   "outputs": [
    {
     "name": "stdout",
     "output_type": "stream",
     "text": [
      "[[ 1.  1.  1.  1.]\n",
      " [ 1.  1.  1.  1.]\n",
      " [ 1.  1.  1.  1.]]\n"
     ]
    }
   ],
   "source": [
    "# Crear una matriz de 1\n",
    "\n",
    "print(np.ones((3,4),dtype=\"float\"))"
   ]
  },
  {
   "cell_type": "code",
   "execution_count": null,
   "metadata": {},
   "outputs": [],
   "source": [
    "# Crear una matriz con un valor cualquiera (i.e 14.8)\n",
    "\n",
    "print(np.full((2,3),14.8,dtype=\"float\"))"
   ]
  },
  {
   "cell_type": "code",
   "execution_count": null,
   "metadata": {},
   "outputs": [],
   "source": [
    "# Crear una matriz identidad\n",
    "\n",
    "print(np.eye(4))"
   ]
  },
  {
   "cell_type": "code",
   "execution_count": null,
   "metadata": {},
   "outputs": [],
   "source": [
    "# Crear un arreglo entre dos valores (0,20) tomando cierto tamaño de \"paso\" (2)\n",
    "\n",
    "print(np.arange(0,20,2))"
   ]
  },
  {
   "cell_type": "code",
   "execution_count": null,
   "metadata": {},
   "outputs": [],
   "source": [
    "# Crear una matriz de valores aleatorios\n",
    "\n",
    "print(np.random.rand(5,5)) # Número de filas y número de columnas"
   ]
  },
  {
   "cell_type": "markdown",
   "metadata": {},
   "source": [
    "### <a id='seccion 2'></a>2. Información de los arreglos"
   ]
  },
  {
   "cell_type": "code",
   "execution_count": 26,
   "metadata": {},
   "outputs": [
    {
     "name": "stdout",
     "output_type": "stream",
     "text": [
      "[[5 0 3 3]\n",
      " [7 9 3 5]\n",
      " [2 4 7 6]]\n"
     ]
    }
   ],
   "source": [
    "np.random.seed(0) # Asignar y mantener fija la semilla en el generador de valores aleatorios\n",
    "\n",
    "x=np.random.randint(10,size=(3,4))\n",
    "print(x)"
   ]
  },
  {
   "cell_type": "markdown",
   "metadata": {},
   "source": [
    "Para conocer las características de los arreglos como dimensiones, forma y tamaño se utilizan los siguientes métodos:"
   ]
  },
  {
   "cell_type": "code",
   "execution_count": null,
   "metadata": {},
   "outputs": [],
   "source": [
    "# Dimensiones (ndim)\n",
    "\n",
    "print(x.ndim)"
   ]
  },
  {
   "cell_type": "code",
   "execution_count": null,
   "metadata": {},
   "outputs": [],
   "source": [
    "# Forma\n",
    "\n",
    "print(x.shape)"
   ]
  },
  {
   "cell_type": "code",
   "execution_count": null,
   "metadata": {},
   "outputs": [],
   "source": [
    "# Tamaño\n",
    "\n",
    "print(x.size)"
   ]
  },
  {
   "cell_type": "markdown",
   "metadata": {},
   "source": [
    "### <a id='seccion 3'></a>3. Acceder y modificar elementos en los arreglos "
   ]
  },
  {
   "cell_type": "markdown",
   "metadata": {},
   "source": [
    "El acceso y modificación de un elemento en un array se hace de manera similar a las listas, es decir, usando [fila,columna]"
   ]
  },
  {
   "cell_type": "code",
   "execution_count": null,
   "metadata": {},
   "outputs": [],
   "source": [
    "# Acceder al primer elemento\n",
    "\n",
    "print(\"Primer elemento: \",x[0])"
   ]
  },
  {
   "cell_type": "code",
   "execution_count": null,
   "metadata": {},
   "outputs": [],
   "source": [
    "# Acceder al último elemento\n",
    "\n",
    "print(\"Último elemeno: \",x[-1])"
   ]
  },
  {
   "cell_type": "code",
   "execution_count": 7,
   "metadata": {},
   "outputs": [
    {
     "name": "stdout",
     "output_type": "stream",
     "text": [
      "3\n"
     ]
    }
   ],
   "source": [
    "# Acceder a cualquier elemento (i.e tercer elemento de la primera fila)\n",
    "\n",
    "print(x[0,3])"
   ]
  },
  {
   "cell_type": "code",
   "execution_count": 9,
   "metadata": {},
   "outputs": [
    {
     "name": "stdout",
     "output_type": "stream",
     "text": [
      "[[5 0 3 3]\n",
      " [3 3 3 3]\n",
      " [2 4 7 6]]\n"
     ]
    }
   ],
   "source": [
    "# Modificar un elemento \n",
    "\n",
    "x[1]=3.16 # Modificar todos los elementos de la fila 1\n",
    "print(x)"
   ]
  },
  {
   "cell_type": "markdown",
   "metadata": {},
   "source": [
    "### <a id='seccion 4'></a>4. Acceder a sub-arreglos"
   ]
  },
  {
   "cell_type": "markdown",
   "metadata": {},
   "source": [
    "Al igual que en las listas, para acceder a porciones o sub-arreglos se usa la notación:\n",
    "\n",
    "x[comienzo:final:paso]"
   ]
  },
  {
   "cell_type": "code",
   "execution_count": 38,
   "metadata": {},
   "outputs": [
    {
     "name": "stdout",
     "output_type": "stream",
     "text": [
      "[12, 7, 34, 5, 6, 78]\n",
      "[12, 7]\n"
     ]
    }
   ],
   "source": [
    "# Arreglo unidimensional\n",
    "\n",
    "x1=[12,7,34,5,6,78]\n",
    "print(x1)\n",
    "print(x1[:2])"
   ]
  },
  {
   "cell_type": "code",
   "execution_count": null,
   "metadata": {},
   "outputs": [],
   "source": [
    "# Dos últimos elementos\n",
    "\n",
    "print(x1[-2:])"
   ]
  },
  {
   "cell_type": "code",
   "execution_count": null,
   "metadata": {},
   "outputs": [],
   "source": [
    "# Elementos cada dos observaciones\n",
    "\n",
    "print(x1[::2] )"
   ]
  },
  {
   "cell_type": "code",
   "execution_count": 39,
   "metadata": {},
   "outputs": [
    {
     "name": "stdout",
     "output_type": "stream",
     "text": [
      "[[5 0 3 3]\n",
      " [7 9 3 5]\n",
      " [2 4 7 6]]\n"
     ]
    }
   ],
   "source": [
    "# Arreglo multidimensional\n",
    "\n",
    "print(x)"
   ]
  },
  {
   "cell_type": "code",
   "execution_count": 40,
   "metadata": {},
   "outputs": [
    {
     "name": "stdout",
     "output_type": "stream",
     "text": [
      "[5 7 2]\n"
     ]
    }
   ],
   "source": [
    "# Primera columna\n",
    "\n",
    "print(x[:,0])"
   ]
  },
  {
   "cell_type": "code",
   "execution_count": null,
   "metadata": {},
   "outputs": [],
   "source": [
    "# Primeras dos filas y tres columnas\n",
    "\n",
    "print(x[:2,:3])"
   ]
  },
  {
   "cell_type": "code",
   "execution_count": null,
   "metadata": {},
   "outputs": [],
   "source": [
    "# Todas las filas y columnas intercaladas\n",
    "print(x[:,::2])"
   ]
  },
  {
   "cell_type": "markdown",
   "metadata": {},
   "source": [
    "### <a id='seccion 5'></a>5. Particionar los datos"
   ]
  },
  {
   "cell_type": "markdown",
   "metadata": {},
   "source": [
    "En algunos casos es preciso modificar la forma de un array, por lo que la función reshape resulta util para esta tarea"
   ]
  },
  {
   "cell_type": "code",
   "execution_count": 49,
   "metadata": {},
   "outputs": [
    {
     "name": "stdout",
     "output_type": "stream",
     "text": [
      "[[ 0  1  2  3]\n",
      " [ 4  5  6  7]\n",
      " [ 8  9 10 11]\n",
      " [12 13 14 15]]\n"
     ]
    }
   ],
   "source": [
    "grid=np.arange(16) # Se crea un array unidimensional con 16 elementos\n",
    "grid= grid.reshape((4,4)) # Se modifica a una matriz de 4x4\n",
    "print(grid)"
   ]
  },
  {
   "cell_type": "code",
   "execution_count": 50,
   "metadata": {},
   "outputs": [
    {
     "name": "stdout",
     "output_type": "stream",
     "text": [
      "[[0 1 2 3]\n",
      " [4 5 6 7]]\n",
      "[[ 8  9 10 11]\n",
      " [12 13 14 15]]\n"
     ]
    }
   ],
   "source": [
    "# Partición vertical en dos de un arreglo (de forma equitativa)\n",
    "upper, lower=np.vsplit(grid,2) \n",
    "print(upper)\n",
    "print(lower)"
   ]
  },
  {
   "cell_type": "code",
   "execution_count": 51,
   "metadata": {},
   "outputs": [
    {
     "name": "stdout",
     "output_type": "stream",
     "text": [
      "\n",
      " [[ 0  1]\n",
      " [ 4  5]\n",
      " [ 8  9]\n",
      " [12 13]]\n",
      "[[ 2  3]\n",
      " [ 6  7]\n",
      " [10 11]\n",
      " [14 15]]\n"
     ]
    }
   ],
   "source": [
    "# Partición horizontal en dos de un arreglo (de forma equitativa)\n",
    "\n",
    "left,right=np.hsplit(grid,[2])\n",
    "print(\"\\n\",left)\n",
    "print(right)"
   ]
  },
  {
   "cell_type": "markdown",
   "metadata": {},
   "source": [
    "### <a id='seccion 6'></a>6. Operaciones con los arreglos"
   ]
  },
  {
   "cell_type": "markdown",
   "metadata": {},
   "source": [
    "* Funciones aritméticas"
   ]
  },
  {
   "cell_type": "markdown",
   "metadata": {},
   "source": [
    "En la siguiente tabla se enlistan los operadores aritméticos implementados en NumPy:\n",
    "\n",
    "| Operador\t    | Equivalente ufunc | Descripción                           |\n",
    "|---------------|-------------------|---------------------------------------|\n",
    "|``+``          |``np.add``         |Suma (e.g., ``1 + 1 = 2``)             |\n",
    "|``-``          |``np.subtract``    |Resta (e.g., ``3 - 2 = 1``)            |\n",
    "|``-``          |``np.negative``    |Negativo unitario (e.g., ``-2``)       |\n",
    "|``*``          |``np.multiply``    |Multiplicación (e.g., ``2 * 3 = 6``)   |\n",
    "|``/``          |``np.divide``      |División (e.g., ``3 / 2 = 1.5``)       |\n",
    "|``//``         |``np.floor_divide``|División inferior (e.g., ``3 // 2 = 1``)|\n",
    "|``**``         |``np.power``       |Potenciación (e.g., ``2 ** 3 = 8``)    |\n",
    "|``%``          |``np.mod``         |Módulo/residuo (e.g., ``9 % 4 = 1``)   |\n"
   ]
  },
  {
   "cell_type": "code",
   "execution_count": 43,
   "metadata": {},
   "outputs": [
    {
     "name": "stdout",
     "output_type": "stream",
     "text": [
      "154 ns ± 3.21 ns per loop (mean ± std. dev. of 7 runs, 10000000 loops each)\n"
     ]
    }
   ],
   "source": [
    "%timeit sum(x1)"
   ]
  },
  {
   "cell_type": "code",
   "execution_count": 46,
   "metadata": {},
   "outputs": [
    {
     "name": "stdout",
     "output_type": "stream",
     "text": [
      "1.88 µs ± 5.91 ns per loop (mean ± std. dev. of 7 runs, 1000000 loops each)\n"
     ]
    }
   ],
   "source": [
    "%timeit np.array(x).sum()"
   ]
  },
  {
   "cell_type": "code",
   "execution_count": 53,
   "metadata": {},
   "outputs": [
    {
     "name": "stdout",
     "output_type": "stream",
     "text": [
      "[[ 0  1  2  3]\n",
      " [ 4  5  6  7]\n",
      " [ 8  9 10 11]\n",
      " [12 13 14 15]] \n",
      "\n",
      "[[0 0 0 1]\n",
      " [1 1 2 2]\n",
      " [2 3 3 3]\n",
      " [4 4 4 5]]\n"
     ]
    }
   ],
   "source": [
    "print(grid,\"\\n\")\n",
    "print(np.floor_divide(grid,3)) # Aproximación al entero inferior"
   ]
  },
  {
   "cell_type": "markdown",
   "metadata": {},
   "source": [
    "* Funciones trigonométricas"
   ]
  },
  {
   "cell_type": "code",
   "execution_count": 54,
   "metadata": {},
   "outputs": [
    {
     "name": "stdout",
     "output_type": "stream",
     "text": [
      "[ 0.          1.57079633  3.14159265]\n",
      "\n",
      " Seno(theta): [  0.00000000e+00   1.00000000e+00   1.22464680e-16]\n",
      "\n",
      " Coseno(theta): [  1.00000000e+00   6.12323400e-17  -1.00000000e+00]\n",
      "\n",
      " Tangente(theta): [  0.00000000e+00   1.63312394e+16  -1.22464680e-16]\n"
     ]
    }
   ],
   "source": [
    "theta=np.linspace(0,np.pi,3)\n",
    "print(theta)\n",
    "print(\"\\n Seno(theta):\",np.sin(theta))\n",
    "print(\"\\n Coseno(theta):\",np.cos(theta))\n",
    "print(\"\\n Tangente(theta):\",np.tan(theta))"
   ]
  },
  {
   "cell_type": "markdown",
   "metadata": {},
   "source": [
    "* Funciones logarítmicas y exponenciales"
   ]
  },
  {
   "cell_type": "code",
   "execution_count": null,
   "metadata": {},
   "outputs": [],
   "source": [
    "# Funciones exponenciales\n",
    "x = [1, 2, 3]\n",
    "print(\"x:   \", x)\n",
    "print(\"x^3: \", np.power(x,3))\n",
    "print(\"e^x: \", np.exp(x))\n",
    "print(\"2^x: \", np.exp2(x))\n",
    "print(\"3^x: \", np.power(3, x))"
   ]
  },
  {
   "cell_type": "code",
   "execution_count": null,
   "metadata": {},
   "outputs": [],
   "source": [
    "# Funciones logarítmicas\n",
    "x = [1, 2, 4, 10]\n",
    "print(\"x        :\", x)\n",
    "print(\"ln(x)    :\", np.log(x))\n",
    "print(\"log2(x)  :\", np.log2(x))\n",
    "print(\"log10(x) :\", np.log10(x))"
   ]
  },
  {
   "cell_type": "markdown",
   "metadata": {},
   "source": [
    "* Otras funciones"
   ]
  },
  {
   "cell_type": "code",
   "execution_count": 56,
   "metadata": {},
   "outputs": [
    {
     "name": "stdout",
     "output_type": "stream",
     "text": [
      "[[5 0 3 3]\n",
      " [7 9 3 5]\n",
      " [2 4 7 6]] \n",
      "\n",
      "[70  0 63 90]\n",
      "[[ 5  0  3  3]\n",
      " [35  0  9 15]\n",
      " [70  0 63 90]]\n"
     ]
    }
   ],
   "source": [
    "print(x,\"\\n\")\n",
    "print(np.multiply.reduce(x))     # Reducir el arreglo a una sola operación. Regresa el producto de todos los elementos\n",
    "print(np.multiply.accumulate(x)) # Multiplica todos los elementos y almacena los productos intermedios"
   ]
  },
  {
   "cell_type": "markdown",
   "metadata": {},
   "source": [
    "Para la multiplicación de matrices se usa la función np.dot(), en el caso de querer multiplicar elemento por elemento se acude a \" * \""
   ]
  },
  {
   "cell_type": "code",
   "execution_count": null,
   "metadata": {},
   "outputs": [],
   "source": [
    "# Para el producto de las matrices se debe cumplir que las dimensiones sean: (mxn)*(nxp)=mxp\n",
    "\n",
    "a=np.random.rand(4,5) # Matriz de 4x5\n",
    "b=np.random.randint(0,5,size=[5,3]) # Matríz de 5x3\n",
    "n=a.dot(b)\n",
    "print(n)"
   ]
  },
  {
   "cell_type": "code",
   "execution_count": null,
   "metadata": {},
   "outputs": [],
   "source": [
    "# La función transpose regresa la transupuesta de una matriz\n",
    "\n",
    "trans=a.transpose()\n",
    "print(\"Transpuesta de la matriz: \\n\\n\",trans)"
   ]
  },
  {
   "cell_type": "code",
   "execution_count": 58,
   "metadata": {},
   "outputs": [
    {
     "name": "stdout",
     "output_type": "stream",
     "text": [
      "[[84 73 83 51]\n",
      " [68 86 92 53]\n",
      " [33 23 23 18]\n",
      " [43 36 69 13]] \n",
      "\n",
      "[[-0.09111894  0.01209304  0.20420917  0.02541307]\n",
      " [-0.37308544  0.15712637  0.55529214  0.05418473]\n",
      " [ 0.17141342 -0.06257604 -0.29400755 -0.01026297]\n",
      " [ 0.42474343 -0.14298489 -0.65269156 -0.10271288]] \n",
      "\n",
      "[[  1.00000000e+00   0.00000000e+00   2.66453526e-15  -2.22044605e-16]\n",
      " [  1.77635684e-15   1.00000000e+00  -3.55271368e-15   0.00000000e+00]\n",
      " [ -1.11022302e-15   2.22044605e-16   1.00000000e+00  -1.11022302e-16]\n",
      " [ -1.77635684e-15   0.00000000e+00   1.77635684e-15   1.00000000e+00]]\n"
     ]
    }
   ],
   "source": [
    "# Inversa de una matriz. Es preciso acudir al modulo de álgebra lineal (linalg)\n",
    "\n",
    "matriz=np.random.randint(4,100,[4,4])\n",
    "inv=np.linalg.inv(matriz)\n",
    "print(matriz,\"\\n\")\n",
    "print(inv,\"\\n\") # Matriz inversa\n",
    "print(matriz.dot(inv)) # Matriz identidad"
   ]
  },
  {
   "cell_type": "code",
   "execution_count": 59,
   "metadata": {},
   "outputs": [
    {
     "data": {
      "text/plain": [
       "96171.0"
      ]
     },
     "execution_count": 59,
     "metadata": {},
     "output_type": "execute_result"
    }
   ],
   "source": [
    "# Determinante de una matriz\n",
    "\n",
    "np.linalg.det(matriz)"
   ]
  },
  {
   "cell_type": "code",
   "execution_count": 60,
   "metadata": {},
   "outputs": [
    {
     "name": "stdout",
     "output_type": "stream",
     "text": [
      "[12 32 34 32 22 15] \n",
      " (6,)\n"
     ]
    }
   ],
   "source": [
    "# La función flatten transforma un arreglo n-dimensional en uno uni dimensional\n",
    "\n",
    "uni=a.flatten()\n",
    "print(uni,\"\\n\",uni.shape)"
   ]
  },
  {
   "cell_type": "markdown",
   "metadata": {},
   "source": [
    "### <a id='seccion 7'></a>7. Operaciones booleanas"
   ]
  },
  {
   "cell_type": "code",
   "execution_count": null,
   "metadata": {},
   "outputs": [],
   "source": [
    "x=np.random.randint(low=0,high=10,size=(4,2))\n",
    "x"
   ]
  },
  {
   "cell_type": "code",
   "execution_count": null,
   "metadata": {},
   "outputs": [],
   "source": [
    "# Para comparar elementos de un arreglo se hace uso de los operadores booleanos\n",
    "\n",
    "print(x>4) # Como salida se obtiene el arreglo del mismo tamaño, pero con valores de true cuando se cumple la condición"
   ]
  },
  {
   "cell_type": "code",
   "execution_count": null,
   "metadata": {},
   "outputs": [],
   "source": [
    "# Los valores de True son iguales a 1, para contar cuantos valores cumplen con una condición se hace uso de count_nonzero()\n",
    "\n",
    "print(np.count_nonzero(x>5),\"valores son mayores a 5\")\n",
    "print(np.count_nonzero(~(x>=5)),\"valores no son mayores a 5\")\n",
    "print(np.count_nonzero((x>5)&(x<8)),\"valores son mayores a 5 y menores a 8\")\n",
    "print(np.count_nonzero((x>5)|(x<8)),\"valores son mayores a 5 o menores a 8\")"
   ]
  },
  {
   "cell_type": "code",
   "execution_count": null,
   "metadata": {},
   "outputs": [],
   "source": [
    "# Para seleccionar un subconjuto de datos que cumpla una condición se crea una \"máscara\"\n",
    "\n",
    "mask=x>6\n",
    "print(\"Los valores mayores 6 son:\",x[mask])"
   ]
  },
  {
   "cell_type": "markdown",
   "metadata": {},
   "source": [
    "Los operadores and y or no son equivalentes a & y |, dado que los primeros toman una única entidad para realizar las comparaciones, mientras que los segundos lo hacen elemento por elemento"
   ]
  },
  {
   "cell_type": "markdown",
   "metadata": {},
   "source": [
    "### <a id='seccion 8'></a>8. Ordenar los arreglos"
   ]
  },
  {
   "cell_type": "markdown",
   "metadata": {},
   "source": [
    "Para ordenar los arreglos en NumPy se pueden usar bucles, sin embargo resulta más eficiente utilizar las funciones con las que se cuenta como sort() o argsort"
   ]
  },
  {
   "cell_type": "code",
   "execution_count": 61,
   "metadata": {},
   "outputs": [
    {
     "data": {
      "text/plain": [
       "array([ 0, 10,  3, 11, 18,  2,  0,  0,  4,  5])"
      ]
     },
     "execution_count": 61,
     "metadata": {},
     "output_type": "execute_result"
    }
   ],
   "source": [
    "x=np.random.randint(0,20,10)\n",
    "x"
   ]
  },
  {
   "cell_type": "code",
   "execution_count": 62,
   "metadata": {},
   "outputs": [
    {
     "name": "stdout",
     "output_type": "stream",
     "text": [
      "[ 0  0  0  2  3  4  5 10 11 18]\n",
      "[0 6 7 5 2 8 9 1 3 4]\n"
     ]
    }
   ],
   "source": [
    "# Ordenar los valores de menor a mayor\n",
    "print(np.sort(x))\n",
    "\n",
    "# Ordenar de menor a mayor, pero regresando los índicies de los valores ordenados\n",
    "print(np.argsort(x))"
   ]
  },
  {
   "cell_type": "code",
   "execution_count": 63,
   "metadata": {},
   "outputs": [
    {
     "data": {
      "text/plain": [
       "array([[6, 8, 4, 1, 4, 9],\n",
       "       [8, 1, 1, 7, 9, 9],\n",
       "       [3, 6, 7, 2, 0, 3],\n",
       "       [5, 9, 4, 4, 6, 4]])"
      ]
     },
     "execution_count": 63,
     "metadata": {},
     "output_type": "execute_result"
    }
   ],
   "source": [
    "z=np.random.randint(0,10,(4,6))\n",
    "z"
   ]
  },
  {
   "cell_type": "code",
   "execution_count": 64,
   "metadata": {},
   "outputs": [
    {
     "name": "stdout",
     "output_type": "stream",
     "text": [
      "[[3 1 1 1 0 3]\n",
      " [5 6 4 2 4 4]\n",
      " [6 8 4 4 6 9]\n",
      " [8 9 7 7 9 9]]\n",
      "\n",
      " [[1 4 4 6 8 9]\n",
      " [1 1 7 8 9 9]\n",
      " [0 2 3 3 6 7]\n",
      " [4 4 4 5 6 9]]\n"
     ]
    }
   ],
   "source": [
    "# Ordenar las columnas\n",
    "print(np.sort(z,axis=0))\n",
    "\n",
    "# Ordenar las filas\n",
    "print(\"\\n\",np.sort(z,axis=1))"
   ]
  },
  {
   "cell_type": "markdown",
   "metadata": {},
   "source": [
    "### Bonus track: Visualización"
   ]
  },
  {
   "cell_type": "code",
   "execution_count": 70,
   "metadata": {},
   "outputs": [],
   "source": [
    "import pandas as pd\n",
    "import matplotlib.pyplot as plt"
   ]
  },
  {
   "cell_type": "code",
   "execution_count": 93,
   "metadata": {},
   "outputs": [
    {
     "data": {
      "image/png": "[encoded data removed]",
      "text/plain": [
       "<matplotlib.figure.Figure at 0x18e9ba65630>"
      ]
     },
     "metadata": {},
     "output_type": "display_data"
    }
   ],
   "source": [
    "# Visualizar datos\n",
    "\n",
    "x=np.linspace(0,10,1000)\n",
    "y=np.sin(x)\n",
    "\n",
    "plt.plot(y)\n",
    "plt.grid(color=\"blue\",alpha=0.5)\n",
    "plt.title(\"Seno\",fontsize=15)\n",
    "plt.ylabel(\"y\")\n",
    "plt.xlabel(\"x\")\n",
    "plt.show()"
   ]
  },
  {
   "cell_type": "code",
   "execution_count": 94,
   "metadata": {},
   "outputs": [
    {
     "data": {
      "text/html": [
       "<div>\n",
       "<style>\n",
       "    .dataframe thead tr:only-child th {\n",
       "        text-align: right;\n",
       "    }\n",
       "\n",
       "    .dataframe thead th {\n",
       "        text-align: left;\n",
       "    }\n",
       "\n",
       "    .dataframe tbody tr th {\n",
       "        vertical-align: top;\n",
       "    }\n",
       "</style>\n",
       "<table border=\"1\" class=\"dataframe\">\n",
       "  <thead>\n",
       "    <tr style=\"text-align: right;\">\n",
       "      <th></th>\n",
       "      <th>Nombres</th>\n",
       "      <th>Años</th>\n",
       "    </tr>\n",
       "  </thead>\n",
       "  <tbody>\n",
       "    <tr>\n",
       "      <th>0</th>\n",
       "      <td>Laura</td>\n",
       "      <td>1997</td>\n",
       "    </tr>\n",
       "    <tr>\n",
       "      <th>1</th>\n",
       "      <td>Angela</td>\n",
       "      <td>1994</td>\n",
       "    </tr>\n",
       "    <tr>\n",
       "      <th>2</th>\n",
       "      <td>Angela</td>\n",
       "      <td>1994</td>\n",
       "    </tr>\n",
       "    <tr>\n",
       "      <th>3</th>\n",
       "      <td>Laura</td>\n",
       "      <td>1986</td>\n",
       "    </tr>\n",
       "    <tr>\n",
       "      <th>4</th>\n",
       "      <td>David</td>\n",
       "      <td>1986</td>\n",
       "    </tr>\n",
       "    <tr>\n",
       "      <th>5</th>\n",
       "      <td>Juan</td>\n",
       "      <td>1997</td>\n",
       "    </tr>\n",
       "    <tr>\n",
       "      <th>6</th>\n",
       "      <td>Laura</td>\n",
       "      <td>1997</td>\n",
       "    </tr>\n",
       "    <tr>\n",
       "      <th>7</th>\n",
       "      <td>David</td>\n",
       "      <td>1997</td>\n",
       "    </tr>\n",
       "    <tr>\n",
       "      <th>8</th>\n",
       "      <td>Esteban</td>\n",
       "      <td>2001</td>\n",
       "    </tr>\n",
       "    <tr>\n",
       "      <th>9</th>\n",
       "      <td>David</td>\n",
       "      <td>1997</td>\n",
       "    </tr>\n",
       "  </tbody>\n",
       "</table>\n",
       "</div>"
      ],
      "text/plain": [
       "   Nombres  Años\n",
       "0    Laura  1997\n",
       "1   Angela  1994\n",
       "2   Angela  1994\n",
       "3    Laura  1986\n",
       "4    David  1986\n",
       "5     Juan  1997\n",
       "6    Laura  1997\n",
       "7    David  1997\n",
       "8  Esteban  2001\n",
       "9    David  1997"
      ]
     },
     "execution_count": 94,
     "metadata": {},
     "output_type": "execute_result"
    }
   ],
   "source": [
    "Nombres=[\"David\",\"Esteban\",\"Andrés\",\"Juan\",\"Laura\",\"Angela\"]\n",
    "Año=[1994,1997,1993,2001,1986]\n",
    "Nombres=[Nombres[np.random.randint(0,len(Nombres))] for i in range(500)]\n",
    "Año=[Año[np.random.randint(0,len(Año))] for i in range(500)]\n",
    "Tabla=pd.DataFrame(list(zip(Nombres,Año)),columns=[\"Nombres\",\"Años\"])"
   ]
  },
  {
   "cell_type": "code",
   "execution_count": 95,
   "metadata": {},
   "outputs": [
    {
     "data": {
      "image/png": "[encoded data removed]",
      "text/plain": [
       "<matplotlib.figure.Figure at 0x18e9a7956a0>"
      ]
     },
     "metadata": {},
     "output_type": "display_data"
    }
   ],
   "source": [
    "Tabla[\"Nombres\"].hist()\n",
    "plt.show()"
   ]
  },
  {
   "cell_type": "markdown",
   "metadata": {},
   "source": [
    "### Ejercicio"
   ]
  },
  {
   "cell_type": "markdown",
   "metadata": {},
   "source": [
    "\n",
    "1) Cree un arreglo unidimensional con los siguientes valores:\n",
    "\n",
    "    46, 5, 19, 47, 22, 45, 11, 11, 33, 7, 26, 48, 7, 47, 32, 36, 18, 23, 21, 2\n",
    "    \n",
    "    - ¿Cuál es su tamaño, dimensión y forma?\n",
    "\n",
    "2) Convierta el arreglo anterior en una matriz de 6x3, ¿Es posible?, de no ser así proponga una forma que sí lo permita.\n",
    "\n",
    "3) ¿Cuál es el valor de la posición (2,3)? Cambie su valor por 8\n",
    "\n",
    "4) De la matriz extraiga la primera y última fila y cree dos variables nuevas. ¿Cuál es el valor de su suma?\n",
    "\n",
    "5) Cree una matriz de enteros de tamaño 20 y ordene sus valores "
   ]
  }
 ],
 "metadata": {
  "kernelspec": {
   "display_name": "Python 3",
   "language": "python",
   "name": "python3"
  },
  "language_info": {
   "codemirror_mode": {
    "name": "ipython",
    "version": 3
   },
   "file_extension": ".py",
   "mimetype": "text/x-python",
   "name": "python",
   "nbconvert_exporter": "python",
   "pygments_lexer": "ipython3",
   "version": "3.6.5"
  }
 },
 "nbformat": 4,
 "nbformat_minor": 2
}
