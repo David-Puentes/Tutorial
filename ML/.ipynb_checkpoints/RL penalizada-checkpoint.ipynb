{
 "cells": [
  {
   "cell_type": "code",
   "execution_count": 1,
   "metadata": {
    "collapsed": true
   },
   "outputs": [],
   "source": [
    "import urllib.request\n",
    "import numpy as np\n",
    "from sklearn import datasets, linear_model\n",
    "from math import sqrt\n",
    "import matplotlib.pyplot as plot\n",
    "import pandas as pd"
   ]
  },
  {
   "cell_type": "code",
   "execution_count": 2,
   "metadata": {
    "collapsed": true
   },
   "outputs": [],
   "source": [
    "# Lectura de los datos\n",
    "loc=r\"C:\\Users\\EEIE\\Downloads\\winequality-red.csv\"\n",
    "data= pd.read_csv(loc,sep=\";\",)\n",
    "names=list(data.columns.values)\n",
    "label=list(data[\"quality\"])\n",
    "Xlist=(data.drop(\"quality\",1))\n",
    "Xlist=[Xlist.iloc[i] for i in range(len(Xlist))]"
   ]
  },
  {
   "cell_type": "code",
   "execution_count": 3,
   "metadata": {
    "collapsed": true
   },
   "outputs": [],
   "source": [
    "# Normalización de columnas en X y etiquetas\n",
    "nrows= len(Xlist)\n",
    "ncols=len(Xlist[0])\n",
    "\n",
    "# Medias y varianzas\n",
    "xMeans=[]\n",
    "xSD=[]\n",
    "for i in range(ncols):\n",
    "    col=[Xlist[j][i] for j in range(nrows)]\n",
    "    mean=sum(col)/nrows\n",
    "    xMeans.append(mean)\n",
    "    colDiff= [(Xlist[j][i]-mean) for j in range(nrows)]\n",
    "    sumSq=sum([colDiff[i]**2 for i in range(nrows)])\n",
    "    stdDev= sqrt(sumSq/nrows)\n",
    "    xSD.append(stdDev)\n",
    "\n",
    "# Uso de la media y desviación para normalizar\n",
    "xNormalized=[]\n",
    "for i in range(nrows):\n",
    "    rowNormalized=[(Xlist[i][j]-xMeans[j])/xSD[j] for j in range(ncols)]\n",
    "    xNormalized.append(rowNormalized)\n",
    "\n",
    "# Normalización de las etiquetas\n",
    "meanLabel=sum(label)/nrows\n",
    "sdLabel=sqrt(sum([(label[i]-meanLabel)**2 for i in range(nrows)])/nrows)\n",
    "\n",
    "labelNormalized=[(label[i]-meanLabel)/sdLabel for i in range(nrows)]"
   ]
  },
  {
   "cell_type": "code",
   "execution_count": 4,
   "metadata": {},
   "outputs": [
    {
     "data": {
      "text/plain": [
       "159"
      ]
     },
     "execution_count": 4,
     "metadata": {},
     "output_type": "execute_result"
    }
   ],
   "source": [
    "# Construcción del loop para la validación cruzada\n",
    "\n",
    "nxval= 10                            # Número de validaciones cruzadas\n",
    "nsteps= 350                          # Número de pasos\n",
    "stepSize= 0.004                      # Tamaño del paso\n",
    "\n",
    "# Inicialización de la lista para almacenar errores\n",
    "errors=[]\n",
    "for i in range(nsteps):\n",
    "    b=[]\n",
    "    errors.append(b)\n",
    "\n",
    "for h in range(nxval):\n",
    "    idxTest=[]\n",
    "    for k in range(nrows):\n",
    "        if k%nxval==h%nxval:\n",
    "            idxTest.append(k)\n",
    "\n",
    "for i in range(nxval):\n",
    "    idxTrain=[]\n",
    "    for b in range(nrows):\n",
    "        if b%nxval!=i%nxval:\n",
    "            idxTrain.append(b)\n",
    "                \n",
    "xTrain= [xNormalized[r] for r in idxTrain]\n",
    "xTest=[xNormalized[r] for r in idxTest]\n",
    "labelTrain=[labelNormalized[r] for r in idxTrain]\n",
    "labelTest=[labelNormalized[r] for r in idxTest]\n",
    "\n",
    "len(idxTest)"
   ]
  },
  {
   "cell_type": "code",
   "execution_count": 5,
   "metadata": {},
   "outputs": [
    {
     "data": {
      "text/plain": [
       "-8.065439550272732e-05"
      ]
     },
     "execution_count": 5,
     "metadata": {},
     "output_type": "execute_result"
    }
   ],
   "source": [
    "# Entrenamiento de LARS\n",
    "nrowsTrain=len(idxTrain)\n",
    "nrowsTest=len(idxTest)\n",
    "\n",
    "# Inicializaciión de betas\n",
    "beta=[0.0]*ncols\n",
    "\n",
    "betaMat=[]\n",
    "betaMat.append(list(beta))\n",
    "\n",
    "for iStep in range(nsteps):\n",
    "    #cálculo de residuales\n",
    "    residuals=[0.0]*nrows\n",
    "    for j in range(nrowsTrain):\n",
    "        labelsHat=sum([xTrain[j][k]*beta[k] for k in range(ncols)])\n",
    "        residuals[j]=labelTrain[j]-labelsHat\n",
    "    # Cálculo de la correlación entre los atributos columna\n",
    "    corr=[0.0]*ncols\n",
    "    \n",
    "    for j in range(ncols):\n",
    "        corr[j]=sum([xTrain[k][j]*residuals[k] for k in range(nrowsTrain)])/nrowsTrain\n",
    "    \n",
    "    iStar=0\n",
    "    corrStar=corr[0]\n",
    "    \n",
    "    for j in range(1,(ncols)):\n",
    "        if abs(corrStar)<abs(corr[j]):\n",
    "            iStar=j; corrStar=corr[j]\n",
    "    beta[iStar]+=stepSize*corrStar/abs(corrStar)\n",
    "    betaMat.append(list(beta))\n",
    "    \n",
    "    # Uso de beta para predecir y calcular el error acumulado\n",
    "    for j in range(nrowsTest):\n",
    "        labelsHat=sum([xTest[j][k]*beta[k] for k in range(ncols)])\n",
    "        err=labelTest[j]-labelsHat\n",
    "        errors[iStep].append(err)\n",
    "corr[0]"
   ]
  },
  {
   "cell_type": "code",
   "execution_count": 12,
   "metadata": {},
   "outputs": [
    {
     "name": "stdout",
     "output_type": "stream",
     "text": [
      "['fixed acidity', 'volatile acidity', 'citric acid', 'residual sugar', 'chlorides', 'free sulfur dioxide', 'total sulfur dioxide', 'density', 'pH', 'sulphates', 'alcohol']\n"
     ]
    },
    {
     "data": {
      "image/png": "[encoded data removed]",
      "text/plain": [
       "<matplotlib.figure.Figure at 0x22c4134ca20>"
      ]
     },
     "metadata": {},
     "output_type": "display_data"
    }
   ],
   "source": [
    "nzList=[]\n",
    "nzbeta= [index for index in range(ncols) if beta[index] !=0.0]\n",
    "for q in nzbeta:\n",
    "    if (q in nzList)==False:\n",
    "        nzList.append(q)\n",
    "nameList=[names[nzList[i]] for i in range(len(nzList))]\n",
    "print(nameList)\n",
    "nPts= len(betaMat)\n",
    "for i in range(ncols):\n",
    "    coefCurve= [betaMat[k][i] for k in range(nPts)]\n",
    "    xaxis=range(nPts)\n",
    "    plot.plot(xaxis,coefCurve)\n",
    "plot.xlabel(\"Steps Taken\")\n",
    "plot.ylabel((\"Coefficient values\"))\n",
    "plot.show()"
   ]
  },
  {
   "cell_type": "code",
   "execution_count": 6,
   "metadata": {},
   "outputs": [
    {
     "name": "stdout",
     "output_type": "stream",
     "text": [
      "Minimun Mean Square error 0.828100868137\n",
      "Index of Minimum Mean Square Error 336\n"
     ]
    },
    {
     "data": {
      "image/png": "[encoded data removed]",
      "text/plain": [
       "<matplotlib.figure.Figure at 0x20d8c783860>"
      ]
     },
     "metadata": {},
     "output_type": "display_data"
    }
   ],
   "source": [
    "cvCurve=[]\n",
    "for errVect in errors:\n",
    "    mse=sum([x*x for x in errVect])/len(errVect)\n",
    "    cvCurve.append(mse)\n",
    "minMse=min(cvCurve)\n",
    "minPt=[i for i in range(len(cvCurve)) if cvCurve[i]==minMse][0]\n",
    "print(\"Minimun Mean Square error\", minMse)\n",
    "print(\"Index of Minimum Mean Square Error\",minPt)\n",
    "\n",
    "xaxis=range(len(cvCurve))\n",
    "plot.plot(xaxis,cvCurve)\n",
    "\n",
    "plot.xlabel(\"Steps Taken\")\n",
    "plot.ylabel((\"Mean Square Error\"))\n",
    "plot.show()"
   ]
  }
 ],
 "metadata": {
  "kernelspec": {
   "display_name": "Python 3",
   "language": "python",
   "name": "python3"
  },
  "language_info": {
   "codemirror_mode": {
    "name": "ipython",
    "version": 3
   },
   "file_extension": ".py",
   "mimetype": "text/x-python",
   "name": "python",
   "nbconvert_exporter": "python",
   "pygments_lexer": "ipython3",
   "version": "3.6.1"
  }
 },
 "nbformat": 4,
 "nbformat_minor": 2
}
