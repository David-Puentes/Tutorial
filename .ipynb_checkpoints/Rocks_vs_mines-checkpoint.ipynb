{
 "cells": [
  {
   "cell_type": "code",
   "execution_count": 71,
   "metadata": {},
   "outputs": [],
   "source": [
    "import pandas as pd\n",
    "import numpy as np\n",
    "import urllib\n",
    "import matplotlib.pyplot as plt\n",
    "import scipy.stats as stats\n",
    "import sys"
   ]
  },
  {
   "cell_type": "markdown",
   "metadata": {},
   "source": [
    "Importar los datos desde una url"
   ]
  },
  {
   "cell_type": "code",
   "execution_count": 46,
   "metadata": {},
   "outputs": [],
   "source": [
    "url=\"https://archive.ics.uci.edu/ml/machine-learning-databases/undocumented/connectionist-bench/sonar/sonar.all-data\"\n",
    "f = urllib.request.urlopen(url)\n",
    "data= f.read()\n",
    "data = data.decode(\"utf8\") #Transformar el byte array a texto\n",
    "data=data.split() # Separar las observaciones (saltos de línea \\n)\n",
    "a=[]\n",
    "for i in data:\n",
    "    a.append(i[1:-1]) # Eliminar las R y M al final de cada observación"
   ]
  },
  {
   "cell_type": "markdown",
   "metadata": {},
   "source": [
    "Arreglar los datos en listas"
   ]
  },
  {
   "cell_type": "code",
   "execution_count": 47,
   "metadata": {},
   "outputs": [
    {
     "name": "stdout",
     "output_type": "stream",
     "text": [
      "Número de observaciones = 208\n",
      "Número de parámetros = 61"
     ]
    }
   ],
   "source": [
    "xList=[]\n",
    "labels=[]\n",
    "for i in data:\n",
    "    row=i.split(\",\")\n",
    "    xList.append(row)\n",
    "sys.stdout.write(\"Número de observaciones = \" + str(len(xList)) +\"\\n\")\n",
    "sys.stdout.write(\"Número de parámetros = \" + str(len(xList[0])))"
   ]
  },
  {
   "cell_type": "markdown",
   "metadata": {},
   "source": [
    "Conocer el np"
   ]
  },
  {
   "cell_type": "code",
   "execution_count": 48,
   "metadata": {},
   "outputs": [
    {
     "name": "stdout",
     "output_type": "stream",
     "text": [
      "Col\tNumber\tStrings\tOther \n",
      "0\t208\t0\t0\n",
      "1\t208\t0\t0\n",
      "2\t208\t0\t0\n",
      "3\t208\t0\t0\n",
      "4\t208\t0\t0\n",
      "5\t208\t0\t0\n",
      "6\t208\t0\t0\n",
      "7\t208\t0\t0\n",
      "8\t208\t0\t0\n",
      "9\t208\t0\t0\n",
      "10\t208\t0\t0\n",
      "11\t208\t0\t0\n",
      "12\t208\t0\t0\n",
      "13\t208\t0\t0\n",
      "14\t208\t0\t0\n",
      "15\t208\t0\t0\n",
      "16\t208\t0\t0\n",
      "17\t208\t0\t0\n",
      "18\t208\t0\t0\n",
      "19\t208\t0\t0\n",
      "20\t208\t0\t0\n",
      "21\t208\t0\t0\n",
      "22\t208\t0\t0\n",
      "23\t208\t0\t0\n",
      "24\t208\t0\t0\n",
      "25\t208\t0\t0\n",
      "26\t208\t0\t0\n",
      "27\t208\t0\t0\n",
      "28\t208\t0\t0\n",
      "29\t208\t0\t0\n",
      "30\t208\t0\t0\n",
      "31\t208\t0\t0\n",
      "32\t208\t0\t0\n",
      "33\t208\t0\t0\n",
      "34\t208\t0\t0\n",
      "35\t208\t0\t0\n",
      "36\t208\t0\t0\n",
      "37\t208\t0\t0\n",
      "38\t208\t0\t0\n",
      "39\t208\t0\t0\n",
      "40\t208\t0\t0\n",
      "41\t208\t0\t0\n",
      "42\t208\t0\t0\n",
      "43\t208\t0\t0\n",
      "44\t208\t0\t0\n",
      "45\t208\t0\t0\n",
      "46\t208\t0\t0\n",
      "47\t208\t0\t0\n",
      "48\t208\t0\t0\n",
      "49\t208\t0\t0\n",
      "50\t208\t0\t0\n",
      "51\t208\t0\t0\n",
      "52\t208\t0\t0\n",
      "53\t208\t0\t0\n",
      "54\t208\t0\t0\n",
      "55\t208\t0\t0\n",
      "56\t208\t0\t0\n",
      "57\t208\t0\t0\n",
      "58\t208\t0\t0\n",
      "59\t208\t0\t0\n",
      "60\t0\t208\t0\n"
     ]
    }
   ],
   "source": [
    "nrow=len(xList)\n",
    "ncol=len(xList[0])\n",
    "\n",
    "type=[0]*3\n",
    "colCounts=[]\n",
    "\n",
    "for col in range(ncol):\n",
    "    for row in xList:\n",
    "        try:\n",
    "            a= float(row[col])\n",
    "            if isinstance(a,float):\n",
    "                type[0] +=1\n",
    "        except ValueError:\n",
    "            if len(row[col])>0:\n",
    "                type[1] +=1\n",
    "            else:\n",
    "                type[2] +=1\n",
    "    colCounts.append(type)\n",
    "    type=[0]*3\n",
    "\n",
    "sys.stdout.write(\"Col\" + \"\\t\" + \"Number\" + \"\\t\" \n",
    "                    + \"Strings\" + \"\\t\" + \"Other \\n\")\n",
    "iCol=0\n",
    "for types in colCounts:\n",
    "    sys.stdout.write(str(iCol)+\"\\t\"+str(types[0])+\"\\t\"+str(types[1])+\"\\t\"+str(types[2])+\"\\n\")\n",
    "    iCol+=1"
   ]
  },
  {
   "cell_type": "markdown",
   "metadata": {},
   "source": [
    "Resumen estadístico para la tercera variable"
   ]
  },
  {
   "cell_type": "code",
   "execution_count": 72,
   "metadata": {},
   "outputs": [
    {
     "name": "stdout",
     "output_type": "stream",
     "text": [
      "Media: \t0.0538923076923\t\tDesviación estándar: 0.0464159832226\n",
      "Percentiles \n",
      "[0.0057999999999999996, 0.024375000000000001, 0.044049999999999999, 0.064500000000000002, 0.4264]\n"
     ]
    },
    {
     "data": {
      "image/png": "[encoded data removed]",
      "text/plain": [
       "<matplotlib.figure.Figure at 0x14e0dafc898>"
      ]
     },
     "metadata": {},
     "output_type": "display_data"
    }
   ],
   "source": [
    "col=3\n",
    "colData=[]\n",
    "for row in xList:\n",
    "    colData.append(float(row[col]))\n",
    "\n",
    "colArray=np.array(colData)\n",
    "colMean=np.mean(colArray)\n",
    "colsd=np.std(colArray)\n",
    "sys.stdout.write(\"Media: \"+ \"\\t\"+str(colMean)+\"\\t\\t\"+\"Desviación estándar: \"+str(colsd))\n",
    "\n",
    "#Cálculo de cuartiles\n",
    "ntiles=4\n",
    "percentBdry=[]\n",
    "\n",
    "for i in range(ntiles+1):\n",
    "    percentBdry.append(np.percentile(colArray,i*(100)/ntiles))\n",
    "sys.stdout.write(\"\\nPercentiles \\n\")\n",
    "print(percentBdry)\n",
    "\n",
    "stats.probplot(colData,dist=\"norm\",plot=plt)\n",
    "plt.show()"
   ]
  },
  {
   "cell_type": "code",
   "execution_count": 67,
   "metadata": {},
   "outputs": [
    {
     "name": "stdout",
     "output_type": "stream",
     "text": [
      "Los valores de las etiquetas son: \n",
      "{'M', 'R'}\n",
      "\n",
      "Existen 111 etiquetas de M y 97 etiquetas de R"
     ]
    }
   ],
   "source": [
    "# Última columna. Etiquetas\n",
    "col=60\n",
    "colData=[]\n",
    "for row in xList:\n",
    "    colData.append(row[col])\n",
    "\n",
    "unique= set(colData)\n",
    "sys.stdout.write(\"Los valores de las etiquetas son: \\n\")\n",
    "print(unique)\n",
    "sys.stdout.write(\"\\n\")\n",
    "\n",
    "# Contar el número de elemntos que tienen los valores\n",
    "\n",
    "catdict=dict(zip(list(unique),range(len(unique))))\n",
    "catcount=[0]*2\n",
    "\n",
    "for i in colData:\n",
    "    catcount[catdict[i]]+=1\n",
    "sys.stdout.write(\"Existen \"+str(catcount[0])+\" etiquetas de M y \"+str(catcount[1])+\" etiquetas de R\")"
   ]
  }
 ],
 "metadata": {
  "kernelspec": {
   "display_name": "Python 3",
   "language": "python",
   "name": "python3"
  },
  "language_info": {
   "codemirror_mode": {
    "name": "ipython",
    "version": 3
   },
   "file_extension": ".py",
   "mimetype": "text/x-python",
   "name": "python",
   "nbconvert_exporter": "python",
   "pygments_lexer": "ipython3",
   "version": "3.6.3"
  }
 },
 "nbformat": 4,
 "nbformat_minor": 2
}
