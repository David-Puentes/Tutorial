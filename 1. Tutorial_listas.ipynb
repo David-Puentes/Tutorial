{
 "cells": [
  {
   "cell_type": "markdown",
   "metadata": {},
   "source": [
    "# ¿Qué son los notebooks de <a href=\"http://jupyter.org/\">Jupyter</a> ?\n",
    "\n",
    "Es una aplicación web  open source que permite crear documentos con código, texto enriquecido y visualizaciones. Ideal para crear y compartir documentos que contienen ecuaciones, texto junto a código (Python, R, Ruby, Sage, Haskell, Go, Spark ..)  Permiten que  el trabajo sea reproducible y más interactivo. \n",
    "\n",
    "Ventajas \n",
    "\n",
    "- Elige el lenguaje.\n",
    "- Fácil de compartir.\n",
    "- Widgets interactivos.\n",
    "\n",
    "Puedes poner ecuaciones en una celda de tipo Markdown como esta \n",
    "\n",
    "$$\\int_0^\\infty e^{-x^2} dx=\\frac{\\sqrt{\\pi}}{2}$$\n"
   ]
  },
  {
   "cell_type": "markdown",
   "metadata": {},
   "source": [
    "# 0. Valores, tipos y operadores"
   ]
  },
  {
   "cell_type": "markdown",
   "metadata": {},
   "source": [
    "En python se distinguen 3 tipo de variables: numéricas (int,float), tipo texto(str) y lógicas (bool)"
   ]
  },
  {
   "cell_type": "code",
   "execution_count": null,
   "metadata": {},
   "outputs": [],
   "source": [
    "a=\"OPALO\"\n",
    "b= 4\n",
    "c= 3.141592\n",
    "d=True\n",
    "\n",
    "# Para imprimir una variable se usa la función print()\n",
    "print(a,b,c,d)\n",
    "\n",
    "# Conocer el tipo de la variable se usa la unción type()\n",
    "type(a)"
   ]
  },
  {
   "cell_type": "markdown",
   "metadata": {},
   "source": [
    "Para nombrar las variables se pueden asignar nombres libremente, sin embargo, no pueden empezar con valores numéricos o utilizar palabras reservadas (33 palabras), como:\n",
    "\n",
    "\\begin{array}{|c|c|} \\hline\n",
    "and &del &from &None &True \\\\ \\hline\n",
    "as &elif &global &nonlocal &try \\\\ \\hline\n",
    "assert &else &if &not &while \\\\ \\hline\n",
    "break &except &import &or &with \\\\ \\hline\n",
    "class &False &in &pass &yield \\\\ \\hline\n",
    "continue &finally &is &raise \\\\ \\hline\n",
    "def &for &lambda &return \\\\ \\hline\n",
    "\\end{array}"
   ]
  },
  {
   "cell_type": "markdown",
   "metadata": {},
   "source": [
    "Respecto a los operadores se distinguen tres tipos: \n",
    "* aritméticos: +,  -,  /,  %\n",
    "* lógicos: and, or, not\n",
    "* comparación: ==, <=, >=, !=\n",
    "\n",
    "Para utilizar los operadores aritméticos los valores deben ser del mismo tipo, es decir, se suma texto con texto o número con número, en el caso de los tipo bool el valor de True es igual a 1 y False a 0"
   ]
  },
  {
   "cell_type": "code",
   "execution_count": null,
   "metadata": {},
   "outputs": [],
   "source": [
    "nombre=\"Grupo\"+ \" \" +\"OPALO\"\n",
    "print(nombre)\n",
    "\n",
    "5//3 # Realiza la aproximación al entero menor\n",
    "5%3  # Modulo de la división\n",
    "5**3 # Potenciación"
   ]
  },
  {
   "cell_type": "markdown",
   "metadata": {},
   "source": [
    "Para python el orden de las operaciones sigue la convención matemática (PEMDAS)\n",
    "\n",
    "1. Paréntesis\n",
    "2. Potenciación (Exponentiation)\n",
    "3. Multiplicación y división\n",
    "4. Suma y resta\n",
    "\n",
    "Operadores con la misma presedencia son evaluados de izquierda a derecha"
   ]
  },
  {
   "cell_type": "code",
   "execution_count": null,
   "metadata": {},
   "outputs": [],
   "source": [
    "Nombre= input(\"Ingrese su nombre: \")\n",
    "print(\"Bienvenido a OPALO \"+ Nombre+\"!\")"
   ]
  },
  {
   "cell_type": "markdown",
   "metadata": {},
   "source": [
    "# 1. Listas"
   ]
  },
  {
   "cell_type": "markdown",
   "metadata": {},
   "source": [
    "Las listas son arreglos que admiten variables numéricas, tipo texto, lógicas e incluso otras listas. Estos arreglos pueden ser \n",
    "modificados y son representados por [ ], aunque también pueden ser representados mediante texto, el cual es considerado como una lista de caracteres inmutables. \n",
    "\n",
    "No se permiten operaciones aritméticas entre listas"
   ]
  },
  {
   "cell_type": "code",
   "execution_count": null,
   "metadata": {},
   "outputs": [],
   "source": [
    "dir(\"a\") # Conocer las funciones disponibles para las variables tipo texto"
   ]
  },
  {
   "cell_type": "code",
   "execution_count": null,
   "metadata": {},
   "outputs": [],
   "source": [
    "# Escribir listas\n",
    "\n",
    "animales = [\"perro\",\"pato\",\"foca\",\"fara\"]\n",
    "numeros = [1,2,3,4,5,6]\n",
    "lista=[1,\"a\",\"b\",[4,5,6]]\n",
    "print(animales)\n",
    "print(animales + numeros)"
   ]
  },
  {
   "cell_type": "code",
   "execution_count": null,
   "metadata": {},
   "outputs": [],
   "source": [
    "# Adicionar elementos a una lista\n",
    "\n",
    "animales.append(\"cabra\") # Adicionar un elemento a una lista\n",
    "animales.extend([\"gato\",\"delfín\"]) # Adicionar otra lista a una lista\n",
    "animales.sort() # Ordenar una lista\n",
    "print(animales)"
   ]
  },
  {
   "cell_type": "code",
   "execution_count": null,
   "metadata": {},
   "outputs": [],
   "source": [
    "# Eliminar elementos de una lista\n",
    "\n",
    "numeros.pop() # Regresa el elemento que fue eliminado, elimina el último valor\n",
    "del(animales[0]) # Elimina la variable especificada, pero no regresa el valor(es) eliminados"
   ]
  },
  {
   "cell_type": "code",
   "execution_count": null,
   "metadata": {},
   "outputs": [],
   "source": [
    "# Eliminar valores específicos dentro de una lista, en este caso los números impares\n",
    "a=[]\n",
    "\n",
    "for i in numeros[:]:\n",
    "    if i%2==0:\n",
    "        a.append(numeros.pop(numeros.index(i)))\n",
    "a"
   ]
  },
  {
   "cell_type": "code",
   "execution_count": null,
   "metadata": {},
   "outputs": [],
   "source": [
    "# Localizar elementos dentro de una lista\n",
    "\n",
    "animales[1]\n",
    "animales[:4] # No se toma el último valor, en este ejemplo va de 0 hasta 3 tomando 4 valores\n",
    "animales[-5:-1] # Toma valores empezando desde el último"
   ]
  },
  {
   "cell_type": "code",
   "execution_count": null,
   "metadata": {},
   "outputs": [],
   "source": [
    "# Sutituir elementos dentro de una lista\n",
    "\n",
    "animales[4]=\"tortuga\" # Sustituir un elemento\n",
    "animales[0:2]=[\"hipopótamo\",\"serpiente\"] # Sustituir múltiples elementos\n",
    "print(animales)"
   ]
  },
  {
   "cell_type": "markdown",
   "metadata": {},
   "source": [
    "#### Algunas funciones de las listas"
   ]
  },
  {
   "cell_type": "markdown",
   "metadata": {},
   "source": [
    "La función strip elimina los espacios al inicio y final en un arreglo de tipo texto, mientras que la función upper y lower convierten el texto en mayúsculas o minúsculas respectivamente"
   ]
  },
  {
   "cell_type": "code",
   "execution_count": null,
   "metadata": {},
   "outputs": [],
   "source": [
    "a=\"  Hola a todos \"\n",
    "a=a.strip()\n",
    "for i in a:\n",
    "    print(i.upper())"
   ]
  },
  {
   "cell_type": "code",
   "execution_count": null,
   "metadata": {},
   "outputs": [],
   "source": [
    "# Crear un loop para contar las letras de una palabra\n",
    "\n",
    "count=0\n",
    "\n",
    "for i in \"palabra\":\n",
    "    if i==\"a\":\n",
    "        count+=1\n",
    "\n",
    "count"
   ]
  },
  {
   "cell_type": "code",
   "execution_count": null,
   "metadata": {},
   "outputs": [],
   "source": [
    "# Algunas funciones y métodos\n",
    "A=\"palabra\"\n",
    "B= \" Dos palabras \"\n",
    "\n",
    "print(B.startswith(\"D\")) # Saber si una palabra o texto inicia con una letra\n",
    "A.find(\"r\") # Encontrar elementos, solo con texto"
   ]
  },
  {
   "cell_type": "markdown",
   "metadata": {},
   "source": [
    "### Ejercicios"
   ]
  },
  {
   "cell_type": "code",
   "execution_count": null,
   "metadata": {},
   "outputs": [],
   "source": [
    "# Generar un programa que regrese el número mayor y menor e indicar la parada\n",
    "a=[]\n",
    "for i in range(10):\n",
    "    number= input(\"Ingrese un número: \")\n",
    "    try:\n",
    "        a.append(int(number))\n",
    "    except:\n",
    "        if number.lower()==\"parar\":\n",
    "            print(\"Adiós\")\n",
    "            break\n",
    "        else:\n",
    "            print(\"Valor errado !, intente de nuevo\")  \n",
    "        exit()\n",
    "\n",
    "print(\" \\n El número mayor es %.0f \\n\" %(max(a)),\n",
    "      \"El número mínimo es: %0.f\" %(min(a)))"
   ]
  }
 ],
 "metadata": {
  "kernelspec": {
   "display_name": "Python 3",
   "language": "python",
   "name": "python3"
  },
  "language_info": {
   "codemirror_mode": {
    "name": "ipython",
    "version": 3
   },
   "file_extension": ".py",
   "mimetype": "text/x-python",
   "name": "python",
   "nbconvert_exporter": "python",
   "pygments_lexer": "ipython3",
   "version": "3.6.3"
  }
 },
 "nbformat": 4,
 "nbformat_minor": 2
}
