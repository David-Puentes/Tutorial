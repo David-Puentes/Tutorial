{
 "cells": [
  {
   "cell_type": "markdown",
   "metadata": {},
   "source": [
    "### Pirámide de números"
   ]
  },
  {
   "cell_type": "code",
   "execution_count": 60,
   "metadata": {},
   "outputs": [
    {
     "name": "stdout",
     "output_type": "stream",
     "text": [
      "      1\n",
      "    1 2\n",
      "  1 2 3\n",
      "1 2 3 4\n"
     ]
    }
   ],
   "source": [
    "N = 4\n",
    " \n",
    "# first loop for number of lines\n",
    "for i in range(1,N+1):\n",
    "    #second loop for spaces\n",
    "    \n",
    "    for j in range(1,N-i+1):\n",
    "        print \" \",\n",
    "    \n",
    "        # this loop is for printing stars\n",
    "    for k in range(1,i+1):\n",
    "        print k,\n",
    "    print\n"
   ]
  },
  {
   "cell_type": "code",
   "execution_count": 46,
   "metadata": {},
   "outputs": [
    {
     "name": "stdout",
     "output_type": "stream",
     "text": [
      "1\n",
      "1 2\n",
      "1 2 3\n",
      "1 2 3 4\n"
     ]
    }
   ],
   "source": [
    "for i in range(1,N+1):\n",
    "    for k in range(1,i+1):\n",
    "        print k,\n",
    "    print"
   ]
  },
  {
   "cell_type": "code",
   "execution_count": 63,
   "metadata": {},
   "outputs": [
    {
     "name": "stdout",
     "output_type": "stream",
     "text": [
      "          1\n",
      "        1 2\n",
      "      1 2 3\n",
      "    1 2 3 4\n",
      "  1 2 3 4 5\n"
     ]
    }
   ],
   "source": [
    "N=6\n",
    "for i in range(1,N):\n",
    "    for j in range(1,N-i+1):\n",
    "        print \" \",\n",
    "        \n",
    "    for j in range(1,i+1):\n",
    "        print j,\n",
    "    print"
   ]
  }
 ],
 "metadata": {
  "kernelspec": {
   "display_name": "Python 2",
   "language": "python",
   "name": "python2"
  },
  "language_info": {
   "codemirror_mode": {
    "name": "ipython",
    "version": 2
   },
   "file_extension": ".py",
   "mimetype": "text/x-python",
   "name": "python",
   "nbconvert_exporter": "python",
   "pygments_lexer": "ipython2",
   "version": "2.7.15"
  }
 },
 "nbformat": 4,
 "nbformat_minor": 2
}
