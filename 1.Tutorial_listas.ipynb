{
 "cells": [
  {
   "cell_type": "markdown",
   "metadata": {},
   "source": [
    "# 1. Listas"
   ]
  },
  {
   "cell_type": "markdown",
   "metadata": {},
   "source": [
    "Las listas son arreglos que admiten variables numéricas, tipo texto, lógicas e incluso otras listas. Estos arreglos pueden ser \n",
    "modificados y son representados por [ ], aunque también pueden ser mediante texto, el cual es considerado como una lista de caracteres inmutables. \n",
    "\n",
    "No se permiten operaciones aritméticas entre listas"
   ]
  },
  {
   "cell_type": "markdown",
   "metadata": {},
   "source": [
    "En este notebook se abordarán temas como:\n",
    "\n",
    "[1. Crear listas](#seccion 1)\n",
    "[2. Acceder a los elementos de una lista](#seccion 2)\n",
    "[3. Modificar una lista](#seccion 3)\n",
    "[4. Funciones con listas](#seccion 4)\n",
    "[5. Tuplas](#seccion 5)"
   ]
  },
  {
   "cell_type": "code",
   "execution_count": null,
   "metadata": {},
   "outputs": [],
   "source": [
    "help(list)"
   ]
  },
  {
   "cell_type": "code",
   "execution_count": null,
   "metadata": {},
   "outputs": [],
   "source": [
    "dir(list) # Conocer las funciones disponibles para las listas"
   ]
  },
  {
   "cell_type": "markdown",
   "metadata": {},
   "source": [
    "### <a id='seccion 1'></a>1. Crear listas"
   ]
  },
  {
   "cell_type": "markdown",
   "metadata": {},
   "source": [
    "Para la creación de listas se usa el simbolo [ ] en el que se asignan los elementos que van a hacer parte de esta, por ejemplo:"
   ]
  },
  {
   "cell_type": "code",
   "execution_count": null,
   "metadata": {},
   "outputs": [],
   "source": [
    "animales = [\"perro\",\"pato\",\"foca\",\"fara\",\"delfín\"] # Lista de texto\n",
    "numeros = [1,2,3,4,5,6] # Lista de números\n",
    "lista=[1,\"a\",\"b\",[4,5,6]] # Lista combinada\n",
    "print(animales)\n",
    "print(lista)"
   ]
  },
  {
   "cell_type": "markdown",
   "metadata": {},
   "source": [
    "Otra alternativa para la creación de listas es mediante la función list()"
   ]
  },
  {
   "cell_type": "code",
   "execution_count": null,
   "metadata": {},
   "outputs": [],
   "source": [
    "list(\"OPALO\") \n",
    "\n",
    "# En este caso se toma cada letra de la palabra y la asigna como un elemento dentro de la lista"
   ]
  },
  {
   "cell_type": "markdown",
   "metadata": {},
   "source": [
    "### <a id='seccion 2'></a>2. Acceder a elementos en una lista\n",
    "\n",
    "Para acceder a los elementos al interior de una lista se usa [ ] como sintáxis, indicando la ubicación del elemento al que se quiere acceder. Se resalta que en python los índices inician desde 0"
   ]
  },
  {
   "cell_type": "code",
   "execution_count": null,
   "metadata": {},
   "outputs": [],
   "source": [
    "print(animales)"
   ]
  },
  {
   "cell_type": "code",
   "execution_count": null,
   "metadata": {},
   "outputs": [],
   "source": [
    "# Localizar el primer elemento de la lista\n",
    "\n",
    "animales[0]"
   ]
  },
  {
   "cell_type": "code",
   "execution_count": null,
   "metadata": {},
   "outputs": [],
   "source": [
    "# Localizar el último elemento dentro de la lista\n",
    "\n",
    "animales[-1]"
   ]
  },
  {
   "cell_type": "markdown",
   "metadata": {},
   "source": [
    "En el caso de tener que acceder a múltiples elementos consecutivos se agrega el simbolo \" : \" [inicio : fin], donde el último valor no es tomado en cuenta"
   ]
  },
  {
   "cell_type": "code",
   "execution_count": null,
   "metadata": {},
   "outputs": [],
   "source": [
    "# Localizar múltiples elementos (consecutivos)\n",
    "\n",
    "animales[0:3] # Regresa los elementos 0, 1 y 2 sin tener en cuenta el 3"
   ]
  },
  {
   "cell_type": "code",
   "execution_count": null,
   "metadata": {},
   "outputs": [],
   "source": [
    "# Localizar los últimos elementos de la lista\n",
    "\n",
    "animales[-2:]"
   ]
  },
  {
   "cell_type": "markdown",
   "metadata": {},
   "source": [
    "### <a id='seccion 3'></a>3. Modificar las listas"
   ]
  },
  {
   "cell_type": "markdown",
   "metadata": {},
   "source": [
    "Para la modificación de un elemento dentro de una lista es preciso indicar la posición y el nuevo valor que se quiere asignar, así:"
   ]
  },
  {
   "cell_type": "code",
   "execution_count": null,
   "metadata": {},
   "outputs": [],
   "source": [
    "# Modificar el 4 elemento de la lista\n",
    "\n",
    "animales[4]=\"tortuga\" \n",
    "print(animales)"
   ]
  },
  {
   "cell_type": "code",
   "execution_count": null,
   "metadata": {},
   "outputs": [],
   "source": [
    "# Modificar los dos primero elementos de la lista\n",
    "\n",
    "animales[:2]=[\"hipopótamo\",\"serpiente\"] # La longitud de lo nuevo elementos debe ser igaul a la que se sustituye\n",
    "print(animales)"
   ]
  },
  {
   "cell_type": "markdown",
   "metadata": {},
   "source": [
    "### <a id='seccion 4'></a>4. Funciones con listas"
   ]
  },
  {
   "cell_type": "code",
   "execution_count": null,
   "metadata": {},
   "outputs": [],
   "source": [
    "# La longitud de una lista puede ser conocida mediante la función len\n",
    "\n",
    "len(animales)"
   ]
  },
  {
   "cell_type": "code",
   "execution_count": null,
   "metadata": {},
   "outputs": [],
   "source": [
    "# Ordenar los elementos de la lista. Función sort\n",
    "\n",
    "print(sorted(animales))"
   ]
  },
  {
   "cell_type": "code",
   "execution_count": null,
   "metadata": {},
   "outputs": [],
   "source": [
    "# Sumar los elementos de la lista\n",
    "\n",
    "print(numeros)\n",
    "print(sum(numeros))"
   ]
  },
  {
   "cell_type": "code",
   "execution_count": null,
   "metadata": {},
   "outputs": [],
   "source": [
    "# Adicionar elementos a una lista\n",
    "\n",
    "animales.append(\"cabra\") # Adicionar un elemento a una lista\n",
    "animales.extend([\"gato\",\"delfín\"]) # Adicionar otra lista a una lista\n",
    "print(animales)"
   ]
  },
  {
   "cell_type": "code",
   "execution_count": null,
   "metadata": {},
   "outputs": [],
   "source": [
    "# Conocer la ubicación de un elemento dentro de una lista\n",
    "\n",
    "animales.index(\"foca\")"
   ]
  },
  {
   "cell_type": "code",
   "execution_count": null,
   "metadata": {},
   "outputs": [],
   "source": [
    "# Eliminar elementos de una lista\n",
    "\n",
    "print(numeros.pop()) # Regresa el elemento que fue eliminado, elimina el último valor\n",
    "del(animales[0]) # Elimina la variable especificada, pero no regresa el valor(es) eliminados"
   ]
  },
  {
   "cell_type": "markdown",
   "metadata": {},
   "source": [
    "Loops al interior de una lista"
   ]
  },
  {
   "cell_type": "code",
   "execution_count": null,
   "metadata": {},
   "outputs": [],
   "source": [
    "for i in animales:\n",
    "    print(i)"
   ]
  },
  {
   "cell_type": "code",
   "execution_count": null,
   "metadata": {},
   "outputs": [],
   "source": [
    "# Eliminar valores específicos dentro de una lista, en este caso los números impares\n",
    "a=[]\n",
    "\n",
    "for i in numeros[:]:\n",
    "    if i%2==0:\n",
    "        a.append(numeros.pop(numeros.index(i)))\n",
    "a"
   ]
  },
  {
   "cell_type": "markdown",
   "metadata": {},
   "source": [
    "### <a id='seccion 5'></a>5. TUPLAS\n",
    "\n",
    "Las tuplas son arreglo similares a las listas, pero con dos diferencias:\n",
    "\n",
    "1. Se emplea paréntesis para su creación\n",
    "2. Son inmutables"
   ]
  },
  {
   "cell_type": "code",
   "execution_count": null,
   "metadata": {},
   "outputs": [],
   "source": [
    "# Crear una tupla\n",
    "\n",
    "t=(1,2,3,4)\n",
    "print(t)\n",
    "print(type(t))"
   ]
  },
  {
   "cell_type": "code",
   "execution_count": null,
   "metadata": {},
   "outputs": [],
   "source": [
    "print(t[0])\n",
    "t[0]=2"
   ]
  },
  {
   "cell_type": "code",
   "execution_count": null,
   "metadata": {},
   "outputs": [],
   "source": [
    "x=0.25\n",
    "numerador,denominador=x.as_integer_ratio()\n",
    "print(\"numerador\",numerador,\"\\n\",\"denominador\",denominador)"
   ]
  },
  {
   "cell_type": "markdown",
   "metadata": {},
   "source": [
    "### Ejercicios"
   ]
  },
  {
   "cell_type": "markdown",
   "metadata": {
    "collapsed": true
   },
   "source": [
    "    a. Crear una lista con los planetas del sistema solar\n",
    "    b. Imprimir los tres primeros planetas y los dos últimos\n",
    "    c. Ordenar la lista de planetas\n",
    "    d. Modificar el planeta Tierra por TIERRA  \n",
    "    e. ¿Cuál es la longitud de las siguientes listas?\n",
    "\n",
    "            a = [1, 2, 3]\n",
    "            b = [1, [2, 3]]\n",
    "            c = []\n",
    "            d = [1, 2, 3][1:]"
   ]
  }
 ],
 "metadata": {
  "kernelspec": {
   "display_name": "Python 3",
   "language": "python",
   "name": "python3"
  },
  "language_info": {
   "codemirror_mode": {
    "name": "ipython",
    "version": 3
   },
   "file_extension": ".py",
   "mimetype": "text/x-python",
   "name": "python",
   "nbconvert_exporter": "python",
   "pygments_lexer": "ipython3",
   "version": "3.6.3"
  }
 },
 "nbformat": 4,
 "nbformat_minor": 2
}
