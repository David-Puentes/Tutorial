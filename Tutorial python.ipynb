{
 "cells": [
  {
   "cell_type": "markdown",
   "metadata": {},
   "source": [
    "## Tutorial de python"
   ]
  },
  {
   "cell_type": "markdown",
   "metadata": {},
   "source": [
    "En el presente notebook se presentan algunos ejercicios básicos en el manejo de listas, tuplas, diccionarios y generación de variables. De igual manera se muestra el manejo de notebooks usando Jupyter"
   ]
  },
  {
   "cell_type": "markdown",
   "metadata": {},
   "source": [
    "### Creación de variables"
   ]
  },
  {
   "cell_type": "markdown",
   "metadata": {},
   "source": [
    "Para nombrar las variables se pueden asignar nombres libremente, sin embargo, no pueden empezar con valores numéricos o utilizar palabras reservadas (33 palabras), como:\n",
    "\n",
    "\\begin{array}{|c|c|} \\hline\n",
    "and &del &from &None &True \\\\ \\hline\n",
    "as &elif &global &nonlocal &try \\\\ \\hline\n",
    "assert &else &if &not &while \\\\ \\hline\n",
    "break &except &import &or &with \\\\ \\hline\n",
    "class &False &in &pass &yield \\\\ \\hline\n",
    "continue &finally &is &raise \\\\ \\hline\n",
    "def &for &lambda &return \\\\ \\hline\n",
    "\\end{array}"
   ]
  },
  {
   "cell_type": "markdown",
   "metadata": {},
   "source": [
    "### Creación de listas"
   ]
  },
  {
   "cell_type": "code",
   "execution_count": 11,
   "metadata": {},
   "outputs": [
    {
     "name": "stdout",
     "output_type": "stream",
     "text": [
      "['a', 'b', 'c', 'd']\n",
      "[[2, 3, 4, 5, 1, 2, 4, 6], ['a', 'b', 'c', 'd'], [True, False]]\n"
     ]
    }
   ],
   "source": [
    "# La creación de listas se realiza utilizando corchetes y pueden incluir variables de cualquier tipo,incluso otras listas\n",
    "\n",
    "numeros=[2,3,4,5,1,2,4,6]\n",
    "letras=[\"a\",\"b\",\"c\",\"d\"]\n",
    "boolean=[True, False]\n",
    "lista=[numeros,letras,boolean]\n",
    "\n",
    "print(letras)\n",
    "print(lista)"
   ]
  },
  {
   "cell_type": "code",
   "execution_count": 36,
   "metadata": {},
   "outputs": [
    {
     "data": {
      "text/plain": [
       "[12, 22, 32, 5, 1, 71, 4, 6, 15, 15, 45, 45, 45]"
      ]
     },
     "execution_count": 36,
     "metadata": {},
     "output_type": "execute_result"
    }
   ],
   "source": [
    "#numeros.append(45)\n",
    "numeros[:3]=(12,22,32)\n",
    "numeros"
   ]
  },
  {
   "cell_type": "code",
   "execution_count": 44,
   "metadata": {},
   "outputs": [
    {
     "data": {
      "text/plain": [
       "[1, 4, 5, 6, 12, 15, 15, 22, 32, 45, 45, 45, 71]"
      ]
     },
     "execution_count": 44,
     "metadata": {},
     "output_type": "execute_result"
    }
   ],
   "source": [
    "numeros.sort()\n",
    "numeros"
   ]
  },
  {
   "cell_type": "markdown",
   "metadata": {},
   "source": [
    "### Operadores"
   ]
  },
  {
   "cell_type": "code",
   "execution_count": 5,
   "metadata": {
    "collapsed": true
   },
   "outputs": [
    {
     "name": "stdout",
     "output_type": "stream",
     "text": [
      "Operator precedence\n",
      "*******************\n",
      "\n",
      "The following table summarizes the operator precedence in Python, from\n",
      "lowest precedence (least binding) to highest precedence (most\n",
      "binding).  Operators in the same box have the same precedence.  Unless\n",
      "the syntax is explicitly given, operators are binary.  Operators in\n",
      "the same box group left to right (except for exponentiation, which\n",
      "groups from right to left).\n",
      "\n",
      "Note that comparisons, membership tests, and identity tests, all have\n",
      "the same precedence and have a left-to-right chaining feature as\n",
      "described in the Comparisons section.\n",
      "\n",
      "+-------------------------------------------------+---------------------------------------+\n",
      "| Operator                                        | Description                           |\n",
      "+=================================================+=======================================+\n",
      "| \"lambda\"                                        | Lambda expression                     |\n",
      "+-------------------------------------------------+---------------------------------------+\n",
      "| \"if\" -- \"else\"                                  | Conditional expression                |\n",
      "+-------------------------------------------------+---------------------------------------+\n",
      "| \"or\"                                            | Boolean OR                            |\n",
      "+-------------------------------------------------+---------------------------------------+\n",
      "| \"and\"                                           | Boolean AND                           |\n",
      "+-------------------------------------------------+---------------------------------------+\n",
      "| \"not\" \"x\"                                       | Boolean NOT                           |\n",
      "+-------------------------------------------------+---------------------------------------+\n",
      "| \"in\", \"not in\", \"is\", \"is not\", \"<\", \"<=\", \">\", | Comparisons, including membership     |\n",
      "| \">=\", \"!=\", \"==\"                                | tests and identity tests              |\n",
      "+-------------------------------------------------+---------------------------------------+\n",
      "| \"|\"                                             | Bitwise OR                            |\n",
      "+-------------------------------------------------+---------------------------------------+\n",
      "| \"^\"                                             | Bitwise XOR                           |\n",
      "+-------------------------------------------------+---------------------------------------+\n",
      "| \"&\"                                             | Bitwise AND                           |\n",
      "+-------------------------------------------------+---------------------------------------+\n",
      "| \"<<\", \">>\"                                      | Shifts                                |\n",
      "+-------------------------------------------------+---------------------------------------+\n",
      "| \"+\", \"-\"                                        | Addition and subtraction              |\n",
      "+-------------------------------------------------+---------------------------------------+\n",
      "| \"*\", \"@\", \"/\", \"//\", \"%\"                        | Multiplication, matrix multiplication |\n",
      "|                                                 | division, remainder [5]               |\n",
      "+-------------------------------------------------+---------------------------------------+\n",
      "| \"+x\", \"-x\", \"~x\"                                | Positive, negative, bitwise NOT       |\n",
      "+-------------------------------------------------+---------------------------------------+\n",
      "| \"**\"                                            | Exponentiation [6]                    |\n",
      "+-------------------------------------------------+---------------------------------------+\n",
      "| \"await\" \"x\"                                     | Await expression                      |\n",
      "+-------------------------------------------------+---------------------------------------+\n",
      "| \"x[index]\", \"x[index:index]\",                   | Subscription, slicing, call,          |\n",
      "| \"x(arguments...)\", \"x.attribute\"                | attribute reference                   |\n",
      "+-------------------------------------------------+---------------------------------------+\n",
      "| \"(expressions...)\", \"[expressions...]\", \"{key:  | Binding or tuple display, list        |\n",
      "| value...}\", \"{expressions...}\"                  | display, dictionary display, set      |\n",
      "|                                                 | display                               |\n",
      "+-------------------------------------------------+---------------------------------------+\n",
      "\n",
      "-[ Footnotes ]-\n",
      "\n",
      "[1] While \"abs(x%y) < abs(y)\" is true mathematically, for floats\n",
      "    it may not be true numerically due to roundoff.  For example, and\n",
      "    assuming a platform on which a Python float is an IEEE 754 double-\n",
      "    precision number, in order that \"-1e-100 % 1e100\" have the same\n",
      "    sign as \"1e100\", the computed result is \"-1e-100 + 1e100\", which\n",
      "    is numerically exactly equal to \"1e100\".  The function\n",
      "    \"math.fmod()\" returns a result whose sign matches the sign of the\n",
      "    first argument instead, and so returns \"-1e-100\" in this case.\n",
      "    Which approach is more appropriate depends on the application.\n",
      "\n",
      "[2] If x is very close to an exact integer multiple of y, it's\n",
      "    possible for \"x//y\" to be one larger than \"(x-x%y)//y\" due to\n",
      "    rounding.  In such cases, Python returns the latter result, in\n",
      "    order to preserve that \"divmod(x,y)[0] * y + x % y\" be very close\n",
      "    to \"x\".\n",
      "\n",
      "[3] The Unicode standard distinguishes between *code points* (e.g.\n",
      "    U+0041) and *abstract characters* (e.g. \"LATIN CAPITAL LETTER A\").\n",
      "    While most abstract characters in Unicode are only represented\n",
      "    using one code point, there is a number of abstract characters\n",
      "    that can in addition be represented using a sequence of more than\n",
      "    one code point.  For example, the abstract character \"LATIN\n",
      "    CAPITAL LETTER C WITH CEDILLA\" can be represented as a single\n",
      "    *precomposed character* at code position U+00C7, or as a sequence\n",
      "    of a *base character* at code position U+0043 (LATIN CAPITAL\n",
      "    LETTER C), followed by a *combining character* at code position\n",
      "    U+0327 (COMBINING CEDILLA).\n",
      "\n",
      "    The comparison operators on strings compare at the level of\n",
      "    Unicode code points. This may be counter-intuitive to humans.  For\n",
      "    example, \"\"\\u00C7\" == \"\\u0043\\u0327\"\" is \"False\", even though both\n",
      "    strings represent the same abstract character \"LATIN CAPITAL\n",
      "    LETTER C WITH CEDILLA\".\n",
      "\n",
      "    To compare strings at the level of abstract characters (that is,\n",
      "    in a way intuitive to humans), use \"unicodedata.normalize()\".\n",
      "\n",
      "[4] Due to automatic garbage-collection, free lists, and the\n",
      "    dynamic nature of descriptors, you may notice seemingly unusual\n",
      "    behaviour in certain uses of the \"is\" operator, like those\n",
      "    involving comparisons between instance methods, or constants.\n",
      "    Check their documentation for more info.\n",
      "\n",
      "[5] The \"%\" operator is also used for string formatting; the same\n",
      "    precedence applies.\n",
      "\n",
      "[6] The power operator \"**\" binds less tightly than an arithmetic\n",
      "    or bitwise unary operator on its right, that is, \"2**-1\" is \"0.5\".\n",
      "\n",
      "Related help topics: lambda, or, and, not, in, is, BOOLEAN, COMPARISON,BITWISE, SHIFTING, BINARY, FORMATTING, POWER, UNARY, ATTRIBUTES,SUBSCRIPTS, SLICINGS, CALLS, TUPLES, LISTS, DICTIONARIES\n",
      "\n"
     ]
    }
   ],
   "source": [
    "help(\"+\")"
   ]
  },
  {
   "cell_type": "markdown",
   "metadata": {},
   "source": [
    "Respecto a los operadores se distinguen tres tipos: \n",
    "* aritméticos: +,  -,  /,  %\n",
    "* booleano: and, or, not\n",
    "* comparación: ==, <=, >=, !=\n",
    "\n",
    "Para utilizar los operadores aritméticos los valores deben ser del mismo tipo, es decir, se suma texto con texto o número con número, en el caso de los tipo bool el valor de True es igual a 1 y False a 0"
   ]
  },
  {
   "cell_type": "code",
   "execution_count": 6,
   "metadata": {},
   "outputs": [
    {
     "name": "stdout",
     "output_type": "stream",
     "text": [
      "1\n"
     ]
    }
   ],
   "source": [
    "# Algunos operadores aritméticos\n",
    "\n",
    "a=14+16 # Suma\n",
    "b=2**3  # Potenciación\n",
    "c= 5%2  # Módulo de la división\n",
    "\n",
    "print(c)"
   ]
  },
  {
   "cell_type": "code",
   "execution_count": 7,
   "metadata": {},
   "outputs": [
    {
     "name": "stdout",
     "output_type": "stream",
     "text": [
      "False True False\n"
     ]
    }
   ],
   "source": [
    "# Algunos operadores booleanos\n",
    "\n",
    "e= 6==8  # Igualdad\n",
    "f= 4!=8  # Diferencia\n",
    "g= 5>=6   # Mayor\n",
    "\n",
    "print(e,f,g)"
   ]
  },
  {
   "cell_type": "markdown",
   "metadata": {},
   "source": [
    "### Acceder a los elementos en listas\n",
    "\n",
    "Para acceder a los elementos al interior de una lista se usa [ ] como sintáxis, indicando la ubicación del elemento al que se quiere acceder. Se resalta que en python los índices inician desde 0"
   ]
  },
  {
   "cell_type": "code",
   "execution_count": 10,
   "metadata": {
    "collapsed": true
   },
   "outputs": [],
   "source": [
    "animales=[\"perro\",\"pato\",\"foca\",\"fara\",\"delfín\"]"
   ]
  },
  {
   "cell_type": "code",
   "execution_count": 11,
   "metadata": {},
   "outputs": [
    {
     "data": {
      "text/plain": [
       "3"
      ]
     },
     "execution_count": 11,
     "metadata": {},
     "output_type": "execute_result"
    }
   ],
   "source": [
    "# Conocer la posición de un término en específico\n",
    "\n",
    "animales.index(\"fara\")"
   ]
  },
  {
   "cell_type": "code",
   "execution_count": 13,
   "metadata": {},
   "outputs": [
    {
     "data": {
      "text/plain": [
       "'perro'"
      ]
     },
     "execution_count": 13,
     "metadata": {},
     "output_type": "execute_result"
    }
   ],
   "source": [
    "# Localizar el primer elemento de la lista\n",
    "\n",
    "animales[0]"
   ]
  },
  {
   "cell_type": "code",
   "execution_count": 14,
   "metadata": {},
   "outputs": [
    {
     "data": {
      "text/plain": [
       "'delfín'"
      ]
     },
     "execution_count": 14,
     "metadata": {},
     "output_type": "execute_result"
    }
   ],
   "source": [
    "# Localizar el último elemento dentro de la lista\n",
    "\n",
    "animales[-1]"
   ]
  },
  {
   "cell_type": "markdown",
   "metadata": {},
   "source": [
    "En el caso de tener que acceder a múltiples elementos consecutivos se agrega el simbolo \" : \" [inicio : fin], donde el último valor no es tomado en cuenta"
   ]
  },
  {
   "cell_type": "code",
   "execution_count": 15,
   "metadata": {},
   "outputs": [
    {
     "data": {
      "text/plain": [
       "['perro', 'pato', 'foca']"
      ]
     },
     "execution_count": 15,
     "metadata": {},
     "output_type": "execute_result"
    }
   ],
   "source": [
    "# Localizar múltiples elementos (consecutivos)\n",
    "\n",
    "animales[0:3] # Regresa los elementos 0, 1 y 2 sin tener en cuenta el 3"
   ]
  },
  {
   "cell_type": "markdown",
   "metadata": {},
   "source": [
    "### Modificar listas\n",
    "\n",
    "Para la modificación de un elemento dentro de una lista es preciso indicar la posición y el nuevo valor que se quiere asignar, así:"
   ]
  },
  {
   "cell_type": "code",
   "execution_count": 16,
   "metadata": {},
   "outputs": [
    {
     "name": "stdout",
     "output_type": "stream",
     "text": [
      "['perro', 'pato', 'foca', 'fara', 'tortuga']\n"
     ]
    }
   ],
   "source": [
    "# Modificar el 4 elemento de la lista\n",
    "\n",
    "animales[4]=\"tortuga\" \n",
    "print(animales)"
   ]
  },
  {
   "cell_type": "code",
   "execution_count": 17,
   "metadata": {},
   "outputs": [
    {
     "name": "stdout",
     "output_type": "stream",
     "text": [
      "['hipopótamo', 'serpiente', 'foca', 'fara', 'tortuga']\n"
     ]
    }
   ],
   "source": [
    "# Modificar los dos primero elementos de la lista\n",
    "\n",
    "animales[:2]=[\"hipopótamo\",\"serpiente\"] # La longitud de lo nuevo elementos debe ser igaul a la que se sustituye\n",
    "print(animales)"
   ]
  },
  {
   "cell_type": "code",
   "execution_count": 18,
   "metadata": {},
   "outputs": [
    {
     "name": "stdout",
     "output_type": "stream",
     "text": [
      "['hipopótamo', 'serpiente', 'foca', 'fara', 'tortuga', 'ballena']\n"
     ]
    }
   ],
   "source": [
    "# Agregar elementos a la lista\n",
    "\n",
    "animales.append(\"ballena\")\n",
    "print(animales)"
   ]
  },
  {
   "cell_type": "code",
   "execution_count": 19,
   "metadata": {},
   "outputs": [
    {
     "name": "stdout",
     "output_type": "stream",
     "text": [
      "['hipopótamo', 'serpiente', 'foca', 'fara', 'tortuga', 'ballena', 'gato', 'conejo']\n"
     ]
    }
   ],
   "source": [
    "# Agrrgar una lista a una lista\n",
    "\n",
    "animales.extend([\"gato\",\"conejo\"])\n",
    "print(animales)"
   ]
  },
  {
   "cell_type": "markdown",
   "metadata": {},
   "source": [
    "### Bonus track - Loops al interior de una lista"
   ]
  },
  {
   "cell_type": "code",
   "execution_count": 20,
   "metadata": {},
   "outputs": [
    {
     "name": "stdout",
     "output_type": "stream",
     "text": [
      "hipopótamo\n",
      "serpiente\n",
      "foca\n",
      "fara\n",
      "tortuga\n",
      "ballena\n",
      "gato\n",
      "conejo\n"
     ]
    }
   ],
   "source": [
    "for i in animales:\n",
    "    print(i)"
   ]
  },
  {
   "cell_type": "code",
   "execution_count": 21,
   "metadata": {},
   "outputs": [
    {
     "data": {
      "text/plain": [
       "[2, 4, 2, 6]"
      ]
     },
     "execution_count": 21,
     "metadata": {},
     "output_type": "execute_result"
    }
   ],
   "source": [
    "# Eliminar valores específicos dentro de una lista, en este caso los números impares\n",
    "\n",
    "a=[]\n",
    "\n",
    "for i in numeros:\n",
    "    if i%2==0:\n",
    "        a.append(numeros.pop(numeros.index(i)))"
   ]
  },
  {
   "cell_type": "markdown",
   "metadata": {},
   "source": [
    "## Ejercicios\n",
    "\n",
    "    1. Crear una lista de los planetas del sistema solar\n",
    "    2. Incluir en el listado a Plutón\n",
    "    3. Imprimir cada uno de los planetas\n",
    "    4. Cuantos planetas hay en el sistema solar (incluyendo a Plutón)\n",
    "    5. Imprimir los valores pares en una lista de números\n",
    "    6. Sumar todos los elementos de una lista de números\n",
    "    "
   ]
  },
  {
   "cell_type": "code",
   "execution_count": 48,
   "metadata": {},
   "outputs": [],
   "source": [
    "planetas=[\"Mercurio\",\"Venus\",\"Tierra\",\"Marte\",\"Jupiter\",\"Saturno\",\"Urano\",\"Neptuno\"]"
   ]
  },
  {
   "cell_type": "code",
   "execution_count": 30,
   "metadata": {},
   "outputs": [],
   "source": [
    "planetas.append(\"Pluton\")"
   ]
  },
  {
   "cell_type": "code",
   "execution_count": 50,
   "metadata": {},
   "outputs": [
    {
     "name": "stdout",
     "output_type": "stream",
     "text": [
      "Mercurio\n",
      "Venus\n",
      "Tierra\n",
      "Marte\n",
      "Jupiter\n",
      "Saturno\n",
      "Urano\n",
      "Neptuno\n"
     ]
    }
   ],
   "source": [
    "for planeta in planetas:\n",
    "    print(planeta)        "
   ]
  },
  {
   "cell_type": "markdown",
   "metadata": {},
   "source": [
    "### Contador de números pares e impares"
   ]
  },
  {
   "cell_type": "code",
   "execution_count": 1,
   "metadata": {},
   "outputs": [],
   "source": [
    "numeros=[3,4,5,32,3,13,25,76,43,45,67]\n",
    "\n",
    "pares=0\n",
    "impares=0\n",
    "\n",
    "for i in numeros:\n",
    "    if i%2==0:\n",
    "        pares+=1\n",
    "    else:\n",
    "        impares+=1     "
   ]
  },
  {
   "cell_type": "code",
   "execution_count": 3,
   "metadata": {},
   "outputs": [
    {
     "name": "stdout",
     "output_type": "stream",
     "text": [
      "Ingrese un numero:5\n"
     ]
    },
    {
     "data": {
      "text/plain": [
       "[0, 2, 4]"
      ]
     },
     "execution_count": 3,
     "metadata": {},
     "output_type": "execute_result"
    }
   ],
   "source": [
    "# Creación de una función para conocer los números pares en un rango de n números\n",
    "\n",
    "def Pares():\n",
    "    n= int(input(\"Ingrese un numero:\"))\n",
    "    pares=[]\n",
    "    impares=[]\n",
    "    for i in range(n):\n",
    "        if i % 2==0:\n",
    "            pares.append(i)\n",
    "        else:\n",
    "            impares.append(i)\n",
    "    return(pares) "
   ]
  },
  {
   "cell_type": "code",
   "execution_count": 8,
   "metadata": {},
   "outputs": [
    {
     "name": "stdout",
     "output_type": "stream",
     "text": [
      "     "
     ]
    }
   ],
   "source": [
    "for i in range(0,5):\n",
    "    print(end=\" \")"
   ]
  },
  {
   "cell_type": "code",
   "execution_count": 10,
   "metadata": {},
   "outputs": [
    {
     "name": "stdout",
     "output_type": "stream",
     "text": [
      "Help on built-in function print in module builtins:\n",
      "\n",
      "print(...)\n",
      "    print(value, ..., sep=' ', end='\\n', file=sys.stdout, flush=False)\n",
      "    \n",
      "    Prints the values to a stream, or to sys.stdout by default.\n",
      "    Optional keyword arguments:\n",
      "    file:  a file-like object (stream); defaults to the current sys.stdout.\n",
      "    sep:   string inserted between values, default a space.\n",
      "    end:   string appended after the last value, default a newline.\n",
      "    flush: whether to forcibly flush the stream.\n",
      "\n"
     ]
    }
   ],
   "source": [
    "help(print)"
   ]
  },
  {
   "cell_type": "markdown",
   "metadata": {},
   "source": [
    "### Creación de pirámides de números"
   ]
  },
  {
   "cell_type": "code",
   "execution_count": 1,
   "metadata": {},
   "outputs": [
    {
     "name": "stdout",
     "output_type": "stream",
     "text": [
      "    1\n",
      "   212\n",
      "  32123\n",
      " 4321234\n",
      "543212345\n"
     ]
    }
   ],
   "source": [
    "for i in range(1,5+1):\n",
    "    for j in range(1,5-i+1):\n",
    "        print(end=\" \")\n",
    "    for j in range(i,0,-1):\n",
    "        print(j,end=\"\")\n",
    "    for j in range(2,i+1):\n",
    "        print(j,end=\"\")\n",
    "    print()"
   ]
  },
  {
   "cell_type": "code",
   "execution_count": 22,
   "metadata": {},
   "outputs": [
    {
     "name": "stdout",
     "output_type": "stream",
     "text": [
      "1 \n",
      "1 2 \n",
      "1 2 3 \n",
      "1 2 3 4 \n",
      "1 2 3 4 5 \n"
     ]
    }
   ],
   "source": [
    "for i in range(0,5):\n",
    "    num=1\n",
    "    for j in range(0,i+1):\n",
    "        print(num,end=\" \")\n",
    "        num+=1\n",
    "    print()"
   ]
  },
  {
   "cell_type": "code",
   "execution_count": 19,
   "metadata": {},
   "outputs": [
    {
     "name": "stdout",
     "output_type": "stream",
     "text": [
      "1 \r\n",
      "1 2 \r\n",
      "1 2 3 \r\n",
      "1 2 3 4 \r\n",
      "1 2 3 4 5 \r\n"
     ]
    }
   ],
   "source": [
    "for i in range(0,5):\n",
    "    num=1\n",
    "    for j in range(0,i+1):\n",
    "        print(num,end=\" \")\n",
    "        num+=1\n",
    "    print(\"\\r\")\n",
    "    "
   ]
  },
  {
   "cell_type": "code",
   "execution_count": 13,
   "metadata": {},
   "outputs": [
    {
     "name": "stdout",
     "output_type": "stream",
     "text": [
      " 7\n",
      " 6\n",
      " 5\n",
      " 4\n",
      " 3\n",
      " 2\n"
     ]
    }
   ],
   "source": [
    "for i in range(7,1,-1):\n",
    "    s=as_str(i)\n",
    "    print(s)"
   ]
  },
  {
   "cell_type": "code",
   "execution_count": 16,
   "metadata": {},
   "outputs": [
    {
     "name": "stdout",
     "output_type": "stream",
     "text": [
      "<class 'str'>\n",
      "<class 'str'>\n",
      "<class 'str'>\n",
      "<class 'str'>\n",
      "<class 'str'>\n"
     ]
    }
   ],
   "source": [
    "for i in range(0,5):\n",
    "    print(type(str(i)))"
   ]
  },
  {
   "cell_type": "markdown",
   "metadata": {},
   "source": [
    "### Números primos"
   ]
  },
  {
   "cell_type": "code",
   "execution_count": 20,
   "metadata": {},
   "outputs": [
    {
     "name": "stdout",
     "output_type": "stream",
     "text": [
      "Ingrese un numero:16\n",
      "No es primo\n"
     ]
    }
   ],
   "source": [
    "numero=int(input(\"Ingrese un numero:\"))\n",
    "\n",
    "if numero > 1:\n",
    "    for i in range(2,numero):\n",
    "        if numero%i == 0:\n",
    "            print(\"No es primo\")\n",
    "            break               # Break termina el bucle cuando no se cumle una condicion\n",
    "    else:\n",
    "        print(\"Es primo\")"
   ]
  },
  {
   "cell_type": "code",
   "execution_count": 15,
   "metadata": {},
   "outputs": [
    {
     "name": "stdout",
     "output_type": "stream",
     "text": [
      "Ingrese el número de valores primos que desea:5\n",
      "[2, 3, 5, 7, 11]\n"
     ]
    }
   ],
   "source": [
    "# Creación de una función para que regrese los primeros x números primos\n",
    "\n",
    "def is_prime(x):\n",
    "    if x<2:\n",
    "        return False\n",
    "    else:\n",
    "        for i in range(2,x-1):\n",
    "            if x%i==0:\n",
    "                return False\n",
    "        return True\n",
    "\n",
    "x=int(input(\"Ingrese el número de valores primos que desea:\"))\n",
    "primos=[]\n",
    "contador=0\n",
    "s=1\n",
    "while(contador<x):\n",
    "    if is_prime(s):\n",
    "        primos.append(s)\n",
    "        contador+=1\n",
    "    s+=1\n",
    "print(primos)"
   ]
  },
  {
   "cell_type": "code",
   "execution_count": 25,
   "metadata": {},
   "outputs": [],
   "source": [
    "def conditional_roulette_probs(history):\n",
    "    # dict where keys are numbers and values are dicts\n",
    "    # counts[a][b] is the number of times we've spun the number b immediately after spinning a\n",
    "    counts = {}\n",
    "    # Iterate over the indices of history *except* the first (index 0). (In the loop, We'll \n",
    "    # be looking at each index alongside its previous index. But there's no previous index for i=0)\n",
    "    for i in range(1, len(history)):\n",
    "        # The numbers for the ith spin and the spin before it\n",
    "        roll, prev = history[i], history[i-1]\n",
    "        # If we haven't seen prev before, we need to add it to counts. (Otherwise counts[prev] will give a KeyError)\n",
    "        if prev not in counts:\n",
    "            counts[prev] = {}\n",
    "        # Similar to above - add key to the inner dict if not present\n",
    "        if roll not in counts[prev]:\n",
    "            counts[prev][roll] = 0\n",
    "        counts[prev][roll] += 1\n",
    "        print(counts)\n",
    "\n",
    "    # We have the counts, but still need to turn them into probabilities\n",
    "    probs = {}\n",
    "    # dict.items() gives us a dictionary's (key, value) pairs as a sequence of tuples.\n",
    "    for prev, nexts in counts.items():\n",
    "        # The total number of spins that landed on prev (not counting the very last spin)\n",
    "        total = sum(nexts.values())\n",
    "        # Take the nects dictionary and normalize it so that its values sum to 1 (and represent probabilities)\n",
    "        sub_probs = {next_spin: next_count/total\n",
    "                for next_spin, next_count in nexts.items()}\n",
    "        probs[prev] = sub_probs\n",
    "    return probs"
   ]
  },
  {
   "cell_type": "code",
   "execution_count": 26,
   "metadata": {},
   "outputs": [
    {
     "name": "stdout",
     "output_type": "stream",
     "text": [
      "{2: {3: 1}}\n",
      "{2: {3: 1}, 3: {4: 1}}\n",
      "{2: {3: 1}, 3: {4: 1}, 4: {2: 1}}\n",
      "{2: {3: 2}, 3: {4: 1}, 4: {2: 1}}\n",
      "{2: {3: 2}, 3: {4: 1, 3: 1}, 4: {2: 1}}\n",
      "{2: {3: 2}, 3: {4: 2, 3: 1}, 4: {2: 1}}\n",
      "{2: {3: 2}, 3: {4: 2, 3: 1}, 4: {2: 2}}\n",
      "{2: {3: 2, 4: 1}, 3: {4: 2, 3: 1}, 4: {2: 2}}\n",
      "{2: {3: 2, 4: 1}, 3: {4: 2, 3: 1}, 4: {2: 2, 5: 1}}\n",
      "{2: {3: 2, 4: 1}, 3: {4: 2, 3: 1}, 4: {2: 2, 5: 1}, 5: {6: 1}}\n"
     ]
    },
    {
     "data": {
      "text/plain": [
       "{2: {3: 0.6666666666666666, 4: 0.3333333333333333},\n",
       " 3: {4: 0.6666666666666666, 3: 0.3333333333333333},\n",
       " 4: {2: 0.6666666666666666, 5: 0.3333333333333333},\n",
       " 5: {6: 1.0}}"
      ]
     },
     "execution_count": 26,
     "metadata": {},
     "output_type": "execute_result"
    }
   ],
   "source": [
    "conditional_roulette_probs([2,3,4,2,3,3,4,2,4,5,6])"
   ]
  },
  {
   "cell_type": "code",
   "execution_count": 4,
   "metadata": {},
   "outputs": [
    {
     "name": "stdout",
     "output_type": "stream",
     "text": [
      " \n"
     ]
    }
   ],
   "source": [
    "print (\" \",)"
   ]
  },
  {
   "cell_type": "markdown",
   "metadata": {},
   "source": [
    "### Pirámide de números en python 2"
   ]
  },
  {
   "cell_type": "code",
   "execution_count": 11,
   "metadata": {},
   "outputs": [
    {
     "name": "stdout",
     "output_type": "stream",
     "text": [
      "* * * * * * * * * * * * * * * * * * * * * * * * * * * * * * * * * * * * * * * * * * * * * * * * * "
     ]
    }
   ],
   "source": [
    "\n",
    "    "
   ]
  }
 ],
 "metadata": {
  "kernelspec": {
   "display_name": "Python 3",
   "language": "python",
   "name": "python3"
  },
  "language_info": {
   "codemirror_mode": {
    "name": "ipython",
    "version": 3
   },
   "file_extension": ".py",
   "mimetype": "text/x-python",
   "name": "python",
   "nbconvert_exporter": "python",
   "pygments_lexer": "ipython3",
   "version": "3.6.5"
  }
 },
 "nbformat": 4,
 "nbformat_minor": 2
}
