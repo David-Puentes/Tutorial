{
 "cells": [
  {
   "cell_type": "markdown",
   "metadata": {},
   "source": [
    "# Diccionarios"
   ]
  },
  {
   "cell_type": "markdown",
   "metadata": {},
   "source": [
    "Los diccionarios son arreglos similares a las listas, pero más generales. En una lista, el índice tiene que ser un entero, mientras que en el diccionarios se puede tomar cualquier valor.\n",
    "\n",
    "Los diccionarios pueden ser vistos como un emparejamiento entre un índice o clave y un valor, al igual que un diccionario. Su representación está dada por corchetes {}"
   ]
  },
  {
   "cell_type": "code",
   "execution_count": 1,
   "metadata": {},
   "outputs": [],
   "source": [
    "import numpy as np"
   ]
  },
  {
   "cell_type": "code",
   "execution_count": 2,
   "metadata": {},
   "outputs": [],
   "source": [
    "# Para generar un diccionario se puede usar la fucnión dict() o directamente los corchetes\n",
    "eng2sp=dict()\n",
    "eng2sp[\"one\"]=\"uno\"\n",
    "eng2sp={\"one\":\"uno\",\"two\":\"dos\",\"three\":\"tres\"}"
   ]
  },
  {
   "cell_type": "code",
   "execution_count": 3,
   "metadata": {},
   "outputs": [
    {
     "name": "stdout",
     "output_type": "stream",
     "text": [
      "{'b': 1, 'r': 2, 'o': 2, 'n': 1, 't': 1, 's': 2, 'a': 1, 'u': 2}\n",
      "{'b': 1, 'r': 2, 'o': 2, 'n': 1, 't': 1, 's': 2, 'a': 1, 'u': 2}\n"
     ]
    }
   ],
   "source": [
    "# Contador de palabras\n",
    "\n",
    "word=\"brontosaurus\"\n",
    "d=dict()\n",
    "for c in word:\n",
    "    if c not in d:\n",
    "        d[c]=1\n",
    "    else:\n",
    "        d[c]+=1\n",
    "print(d)\n",
    "\n",
    "d_2=dict()\n",
    "for i in word:\n",
    "    d_2[i]=d_2.get(i,0)+1 # con get se obtiene el valor por defecto de la clave \"key\" o asigna el valor que se especifique\n",
    "print(d_2)"
   ]
  },
  {
   "cell_type": "markdown",
   "metadata": {
    "collapsed": true
   },
   "source": [
    "Cuando se utiliza \"for\" para navergar a lo largo de un diccionario este lo hace con las llaves \"key\" y no con los valores"
   ]
  },
  {
   "cell_type": "code",
   "execution_count": 6,
   "metadata": {},
   "outputs": [
    {
     "name": "stdout",
     "output_type": "stream",
     "text": [
      "Juan 23\n",
      "Pedro 26\n",
      "Antonio 30\n",
      "Isabela 27\n",
      "\n",
      " Antonio 30\n",
      "\n",
      " Isabela 27\n",
      "\n",
      " Juan 23\n",
      "\n",
      " Pedro 26\n"
     ]
    }
   ],
   "source": [
    "names={\"Juan\":23,\"Pedro\":26,\"Antonio\":30,\"Isabela\":27}\n",
    "for i in names:\n",
    "    print(i,names[i])\n",
    "\n",
    "# Para tener los valores ordenados hace falta crear una lista\n",
    "\n",
    "lst=list(names.keys())\n",
    "lst.sort()\n",
    "for i in lst:\n",
    "    print(\"\\n\",i,names[i])"
   ]
  },
  {
   "cell_type": "code",
   "execution_count": 7,
   "metadata": {},
   "outputs": [
    {
     "name": "stdout",
     "output_type": "stream",
     "text": [
      "Antonio 30\n",
      "Isabela 27\n"
     ]
    }
   ],
   "source": [
    "# Regresar los valores mayores a 26\n",
    "\n",
    "for i in names:\n",
    "    if names[i]>26:\n",
    "        print(i,names[i])"
   ]
  },
  {
   "cell_type": "markdown",
   "metadata": {},
   "source": [
    "Agregar o eliminar elementos de un diccionario"
   ]
  },
  {
   "cell_type": "code",
   "execution_count": 28,
   "metadata": {},
   "outputs": [],
   "source": [
    "names[\"Alejandra\"]=45 # Para agregar elementos se hace de manera similar a las listas\n",
    "del(names[\"Antonio\"]) # Para eliminar un elemento se especifica la clave \"key\" que se quiere eliminar"
   ]
  },
  {
   "cell_type": "code",
   "execution_count": 8,
   "metadata": {},
   "outputs": [
    {
     "data": {
      "text/plain": [
       "{'Andrés': 20, 'Laura': 20, 'Miguel': 18, 'Pedro': 20}"
      ]
     },
     "execution_count": 8,
     "metadata": {},
     "output_type": "execute_result"
    }
   ],
   "source": [
    "#Crear un diccionario con nombres y edades\n",
    "#np.random.seed(45)\n",
    "\n",
    "N=[\"Andrés\",\"Laura\",\"Miguel\",\"Pedro\"]\n",
    "Nombres=[N[np.random.randint(len(N))] for i in range(50)]\n",
    "Edad=[np.random.randint(18,21) for i in range(50)]\n",
    "List=dict(zip(Nombres,Edad)) # la fución zip empareja los elementos de dos listas y dict la convierte en un diccionario\n",
    "List"
   ]
  },
  {
   "cell_type": "markdown",
   "metadata": {},
   "source": [
    "Leer un archivo y contar el número de palabras que contine"
   ]
  },
  {
   "cell_type": "code",
   "execution_count": 25,
   "metadata": {},
   "outputs": [
    {
     "name": "stdout",
     "output_type": "stream",
     "text": [
      "Ingrese el nombre del archivo:Romeo.txt\n",
      "{'But': 1, 'soft': 1, 'what': 1, 'light': 1, 'through': 1, 'yonder': 1, 'window': 1, 'breaks': 1, 'It': 1, 'is': 3, 'the': 3, 'east': 1, 'and': 3, 'Juliet': 1, 'sun': 2, 'Arise': 1, 'fair': 1, 'kill': 1, 'envious': 1, 'moon': 1, 'Who': 1, 'already': 1, 'sick': 1, 'pale': 1, 'with': 1, 'grief': 1}\n"
     ]
    }
   ],
   "source": [
    "fname=input(\"Ingrese el nombre del archivo:\") # Romeo.txt\n",
    "try:\n",
    "    fhand=open(fname)\n",
    "except:\n",
    "    print(\"El archivo %s no puede ser abierto\" %fname)\n",
    "    exit()\n",
    "\n",
    "counts=dict()\n",
    "for line in fhand:\n",
    "    words=line.split()\n",
    "    for i in words:\n",
    "        counts[i]=counts.get(i,0)+1\n",
    "print(counts)"
   ]
  },
  {
   "cell_type": "code",
   "execution_count": null,
   "metadata": {},
   "outputs": [],
   "source": [
    "%debug"
   ]
  }
 ],
 "metadata": {
  "kernelspec": {
   "display_name": "Python 3",
   "language": "python",
   "name": "python3"
  },
  "language_info": {
   "codemirror_mode": {
    "name": "ipython",
    "version": 3
   },
   "file_extension": ".py",
   "mimetype": "text/x-python",
   "name": "python",
   "nbconvert_exporter": "python",
   "pygments_lexer": "ipython3",
   "version": "3.6.3"
  }
 },
 "nbformat": 4,
 "nbformat_minor": 2
}
