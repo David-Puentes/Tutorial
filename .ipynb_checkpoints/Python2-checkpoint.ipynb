{
 "cells": [
  {
   "cell_type": "markdown",
   "metadata": {},
   "source": [
    "### Pirámide de números"
   ]
  },
  {
   "cell_type": "code",
   "execution_count": 60,
   "metadata": {},
   "outputs": [
    {
     "name": "stdout",
     "output_type": "stream",
     "text": [
      "      1\n",
      "    1 2\n",
      "  1 2 3\n",
      "1 2 3 4\n"
     ]
    }
   ],
   "source": [
    "N = 4\n",
    " \n",
    "# first loop for number of lines\n",
    "for i in range(1,N+1):\n",
    "    #second loop for spaces\n",
    "    \n",
    "    for j in range(1,N-i+1):\n",
    "        print \" \",\n",
    "    \n",
    "        # this loop is for printing stars\n",
    "    for k in range(1,i+1):\n",
    "        print k,\n",
    "    print\n"
   ]
  },
  {
   "cell_type": "code",
   "execution_count": 46,
   "metadata": {},
   "outputs": [
    {
     "name": "stdout",
     "output_type": "stream",
     "text": [
      "1\n",
      "1 2\n",
      "1 2 3\n",
      "1 2 3 4\n"
     ]
    }
   ],
   "source": [
    "for i in range(1,N+1):\n",
    "    for k in range(1,i+1):\n",
    "        print k,\n",
    "    print"
   ]
  },
  {
   "cell_type": "code",
   "execution_count": 74,
   "metadata": {},
   "outputs": [
    {
     "name": "stdout",
     "output_type": "stream",
     "text": [
      "Ingrese un numero:4\n",
      "      1\n",
      "    2 1 2\n",
      "  3 2 1 2 3\n",
      "4 3 2 1 2 3 4\n"
     ]
    }
   ],
   "source": [
    "N=input(\"Ingrese un numero:\")\n",
    "for i in range(1,N+1):\n",
    "    for j in range(1,N-i+1):  # Creación de espacios vacios\n",
    "        print \" \",\n",
    "        \n",
    "    for j in range(i,0,-1):   # Creacion de triangulo de numeros\n",
    "        print j ,\n",
    "    for j in range(2,i+1):    # Creacion de triangulo derecho\n",
    "        print j ,\n",
    "    print"
   ]
  },
  {
   "cell_type": "code",
   "execution_count": 119,
   "metadata": {},
   "outputs": [
    {
     "name": "stdout",
     "output_type": "stream",
     "text": [
      "[[0, 0, 0, 0, 0, 0, 0, 0], [1, 0, 0, 0, 0, 0, 0, 0], [1, 1, 0, 0, 0, 0, 0, 0], [1, 2, 0, 0, 0, 0, 0, 0], [1, 3, 1, 0, 0, 0, 0, 0], [1, 4, 2, 0, 0, 0, 0, 0], [1, 5, 4, 0, 0, 0, 0, 0], [1, 6, 6, 1, 0, 0, 0, 0]]\n",
      "                \n",
      "                  1\n",
      "                1    1\n",
      "              1    2\n",
      "            1    3    1\n",
      "          1    4    2\n",
      "        1    5    4\n",
      "      1    6    6    1\n"
     ]
    }
   ],
   "source": [
    "l1=[]\n",
    "num=8\n",
    "k=8\n",
    "\n",
    "# Se crea una matriz de 10x10 de ceros\n",
    "for i in range(num):\n",
    "    l2=[]\n",
    "    for j in range(k):\n",
    "        l2.append(0)\n",
    "    l1.append(l2)\n",
    "\n",
    "# Coeficiente binario    \n",
    "for i in range(num):\n",
    "    l2=[]\n",
    "    for j in range(0,min(i,k)):\n",
    "        if j==0 or j==i:\n",
    "            l1[i][j]=1\n",
    "        else:\n",
    "            l1[i][j] = l1[i-j][j-1] + l1[i-j][j]\n",
    "print l1\n",
    "\n",
    "# Impresion del triangulo\n",
    "for k in l1:\n",
    "    print \" \"*2*num,\n",
    "    num-=1\n",
    "    for l in k:\n",
    "        if l > 0:\n",
    "            print \"{:>4}\".format(l),\n",
    "    print"
   ]
  },
  {
   "cell_type": "code",
   "execution_count": 113,
   "metadata": {},
   "outputs": [
    {
     "name": "stdout",
     "output_type": "stream",
     "text": [
      "0\n"
     ]
    }
   ],
   "source": [
    "for i in range(0,1):\n",
    "    print i"
   ]
  },
  {
   "cell_type": "code",
   "execution_count": 109,
   "metadata": {},
   "outputs": [],
   "source": [
    "# Añadir comentarios a una función\n",
    "\n",
    "def sumar(x,y):\n",
    "    \"\"\" Sumar los valores de x y de y\"\"\"\n",
    "    return \"El valor de la suma es: \" + str(x+y)"
   ]
  },
  {
   "cell_type": "code",
   "execution_count": 110,
   "metadata": {},
   "outputs": [
    {
     "data": {
      "text/plain": [
       "'El valor de la suma es: 11'"
      ]
     },
     "execution_count": 110,
     "metadata": {},
     "output_type": "execute_result"
    }
   ],
   "source": [
    "sumar(4,7)"
   ]
  }
 ],
 "metadata": {
  "kernelspec": {
   "display_name": "Python 2",
   "language": "python",
   "name": "python2"
  },
  "language_info": {
   "codemirror_mode": {
    "name": "ipython",
    "version": 2
   },
   "file_extension": ".py",
   "mimetype": "text/x-python",
   "name": "python",
   "nbconvert_exporter": "python",
   "pygments_lexer": "ipython2",
   "version": "2.7.15"
  }
 },
 "nbformat": 4,
 "nbformat_minor": 2
}
