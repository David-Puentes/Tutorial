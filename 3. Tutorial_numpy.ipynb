{
 "cells": [
  {
   "cell_type": "markdown",
   "metadata": {},
   "source": [
    "# Numpy"
   ]
  },
  {
   "cell_type": "markdown",
   "metadata": {},
   "source": [
    "Numpy es un paquete de computación científica. Permite el trabajo con arreglos vectoriales, matriciales y funciones para cálculos matemáticos. Para mayor información ir a: __[Numpy](https://docs.scipy.org/doc/numpy/user/quickstart.html)__"
   ]
  },
  {
   "cell_type": "markdown",
   "metadata": {},
   "source": [
    "En este notebook se abordarán temas como:\n",
    "\n",
    "[1. Crear arreglos (arrays) utilizando NumPy](#seccion 1)\n",
    "\n",
    "[2. Información de los arreglos](#seccion 2)\n",
    "\n",
    "[3. Acceder y modificar elementos en un arreglo](#seccion 3)\n",
    "\n",
    "[4. Acceder a sub arreglos](#seccion 4)\n",
    "\n",
    "[5. Partición de datos](#seccion 5)\n",
    "\n",
    "[6. Operaciones con arreglos](#seccion 6)\n",
    "\n",
    "[7. Operaciones booleanas](#seccion 7)\n",
    "\n",
    "[8. Ordenar arreglos](#seccion 8)"
   ]
  },
  {
   "cell_type": "code",
   "execution_count": 2,
   "metadata": {
    "collapsed": true
   },
   "outputs": [],
   "source": [
    "import numpy as np"
   ]
  },
  {
   "cell_type": "markdown",
   "metadata": {},
   "source": [
    "###   <a id='seccion 1'></a>1. Crear arreglos (arrays) utilizando NumPy"
   ]
  },
  {
   "cell_type": "code",
   "execution_count": 3,
   "metadata": {
    "collapsed": true
   },
   "outputs": [],
   "source": [
    "np?"
   ]
  },
  {
   "cell_type": "markdown",
   "metadata": {},
   "source": [
    "Los arrays son arreglos de datos en diferentes dimensiones, similares a las listas pero más eficiente, por lo que la manipulación de datos en python es sinónimo de manipulación en Numpy, incluso en el uso de otras herramientas como Pandas\n",
    "\n",
    "Estos arreglos deben tener el mismo tipo de dato para realizar las operaciones entre ellos y para su creación"
   ]
  },
  {
   "cell_type": "code",
   "execution_count": 4,
   "metadata": {},
   "outputs": [
    {
     "name": "stdout",
     "output_type": "stream",
     "text": [
      "[12 32 34 32 22 15] \n",
      "\n",
      " [[12 13 54]\n",
      " [12 32  1]\n",
      " [21  3  4]]\n"
     ]
    }
   ],
   "source": [
    "# Crear un vector o array de 1 dimensión\n",
    "\n",
    "a=np.array([12,32,34,32,22,15])\n",
    "\n",
    "# Crear una matriz o array de 2 dimensiones\n",
    "\n",
    "b=np.array([[12,13,54],[12,32,1],[21,3,4]])\n",
    "print( a,\"\\n\\n\", b)"
   ]
  },
  {
   "cell_type": "code",
   "execution_count": 43,
   "metadata": {},
   "outputs": [
    {
     "name": "stdout",
     "output_type": "stream",
     "text": [
      "['1' '2' '3' '4.5']\n"
     ]
    }
   ],
   "source": [
    "# Qué sucede si se crea un array con diferentes tipos de variables\n",
    "\n",
    "c=np.array([\"1\",2,3,4.5])\n",
    "print(c) # Numpy modifica el tipo de la variable para que todas sean iguales (respecto al tipo)"
   ]
  },
  {
   "cell_type": "markdown",
   "metadata": {},
   "source": [
    "Para crear algunos arreglos específicos NumPy cuenta con funciones pre definidas"
   ]
  },
  {
   "cell_type": "code",
   "execution_count": 47,
   "metadata": {},
   "outputs": [
    {
     "name": "stdout",
     "output_type": "stream",
     "text": [
      "[0 0 0 0 0 0 0 0 0 0]\n"
     ]
    }
   ],
   "source": [
    "# Crear un array de 0\n",
    "print(np.zeros(10,dtype=\"int\"))"
   ]
  },
  {
   "cell_type": "code",
   "execution_count": 48,
   "metadata": {},
   "outputs": [
    {
     "name": "stdout",
     "output_type": "stream",
     "text": [
      "\n",
      " [[ 1.  1.  1.  1.]\n",
      " [ 1.  1.  1.  1.]\n",
      " [ 1.  1.  1.  1.]]\n"
     ]
    }
   ],
   "source": [
    "# Crear una matriz de 1\n",
    "\n",
    "print(np.ones((3,4),dtype=\"float\"))"
   ]
  },
  {
   "cell_type": "code",
   "execution_count": 50,
   "metadata": {},
   "outputs": [
    {
     "name": "stdout",
     "output_type": "stream",
     "text": [
      "[[ 14.8  14.8  14.8]\n",
      " [ 14.8  14.8  14.8]]\n"
     ]
    }
   ],
   "source": [
    "# Crear una matriz con un valor cualquiera (i.e 14.8)\n",
    "\n",
    "print(np.full((2,3),14.8,dtype=\"float\"))"
   ]
  },
  {
   "cell_type": "code",
   "execution_count": 51,
   "metadata": {},
   "outputs": [
    {
     "name": "stdout",
     "output_type": "stream",
     "text": [
      "[ 0  2  4  6  8 10 12 14 16 18]\n"
     ]
    }
   ],
   "source": [
    "# Crear un arreglo entre dos valores (0,20) tomando cierto tamaño de \"paso\" (2)\n",
    "\n",
    "print(np.arange(0,20,2))"
   ]
  },
  {
   "cell_type": "code",
   "execution_count": 52,
   "metadata": {},
   "outputs": [
    {
     "name": "stdout",
     "output_type": "stream",
     "text": [
      "[[ 1.  0.  0.  0.]\n",
      " [ 0.  1.  0.  0.]\n",
      " [ 0.  0.  1.  0.]\n",
      " [ 0.  0.  0.  1.]]\n"
     ]
    }
   ],
   "source": [
    "# Crear una matriz identidad\n",
    "\n",
    "print(np.eye(4))"
   ]
  },
  {
   "cell_type": "code",
   "execution_count": 53,
   "metadata": {},
   "outputs": [
    {
     "name": "stdout",
     "output_type": "stream",
     "text": [
      "[[ 0.77905102  0.8649333   0.41139672  0.13997259  0.03322239]\n",
      " [ 0.98257496  0.37329075  0.42007537  0.05058812  0.36549611]\n",
      " [ 0.01662797  0.23074234  0.7649117   0.94412352  0.74999925]\n",
      " [ 0.33940382  0.48954894  0.33898512  0.17949026  0.1709866 ]\n",
      " [ 0.46345098  0.87457296  0.94411975  0.60825287  0.59665541]]\n"
     ]
    }
   ],
   "source": [
    "# Crear una matriz de valores aleatorios\n",
    "\n",
    "print(np.random.rand(5,5)) # Número de filas y número de columnas"
   ]
  },
  {
   "cell_type": "markdown",
   "metadata": {},
   "source": [
    "### <a id='seccion 2'></a>2. Información de los arreglos"
   ]
  },
  {
   "cell_type": "code",
   "execution_count": 75,
   "metadata": {},
   "outputs": [
    {
     "name": "stdout",
     "output_type": "stream",
     "text": [
      "[[5 0 3 3]\n",
      " [7 9 3 5]\n",
      " [2 4 7 6]]\n"
     ]
    }
   ],
   "source": [
    "np.random.seed(0) # Asignar y mantener fija la semilla en el generador de valores aleatorios\n",
    "\n",
    "x=np.random.randint(10,size=(3,4))\n",
    "print(x)"
   ]
  },
  {
   "cell_type": "markdown",
   "metadata": {},
   "source": [
    "Para conocer las características de los arreglos como dimensiones, forma y tamaño se utilizan los siguientes métodos:"
   ]
  },
  {
   "cell_type": "code",
   "execution_count": 76,
   "metadata": {},
   "outputs": [
    {
     "name": "stdout",
     "output_type": "stream",
     "text": [
      "2\n"
     ]
    }
   ],
   "source": [
    "# Dimensiones (ndim)\n",
    "\n",
    "print(x.ndim)"
   ]
  },
  {
   "cell_type": "code",
   "execution_count": 58,
   "metadata": {},
   "outputs": [
    {
     "name": "stdout",
     "output_type": "stream",
     "text": [
      "(3, 4)\n"
     ]
    }
   ],
   "source": [
    "# Forma\n",
    "\n",
    "print(x.shape)"
   ]
  },
  {
   "cell_type": "code",
   "execution_count": 57,
   "metadata": {},
   "outputs": [
    {
     "name": "stdout",
     "output_type": "stream",
     "text": [
      "12\n"
     ]
    }
   ],
   "source": [
    "# Tamaño\n",
    "\n",
    "print(x.size)"
   ]
  },
  {
   "cell_type": "markdown",
   "metadata": {},
   "source": [
    "### <a id='seccion 3'></a>3. Acceder y modificar elementos en los arreglos "
   ]
  },
  {
   "cell_type": "markdown",
   "metadata": {},
   "source": [
    "El acceso y modificación de un elemento en un array se hace de manera similar a las listas, es decir, usando [fila,columna]"
   ]
  },
  {
   "cell_type": "code",
   "execution_count": 77,
   "metadata": {},
   "outputs": [
    {
     "name": "stdout",
     "output_type": "stream",
     "text": [
      "[[5 0 3 3]\n",
      " [7 9 3 5]\n",
      " [2 4 7 6]]\n"
     ]
    }
   ],
   "source": [
    "print(x) "
   ]
  },
  {
   "cell_type": "code",
   "execution_count": 71,
   "metadata": {},
   "outputs": [
    {
     "name": "stdout",
     "output_type": "stream",
     "text": [
      "Primer elemento:  [5 0 3 3]\n"
     ]
    }
   ],
   "source": [
    "# Acceder al primer elemento\n",
    "\n",
    "print(\"Primer elemento: \",x[0])"
   ]
  },
  {
   "cell_type": "code",
   "execution_count": 63,
   "metadata": {},
   "outputs": [
    {
     "name": "stdout",
     "output_type": "stream",
     "text": [
      "Último elemeno:  [2 4 7 6]\n"
     ]
    }
   ],
   "source": [
    "# Acceder al último elemento\n",
    "\n",
    "print(\"Último elemeno: \",x[-1])"
   ]
  },
  {
   "cell_type": "code",
   "execution_count": 70,
   "metadata": {},
   "outputs": [
    {
     "name": "stdout",
     "output_type": "stream",
     "text": [
      "3\n"
     ]
    }
   ],
   "source": [
    "# Acceder a cualquier elemento (i.e tercer elemento de la primera fila)\n",
    "\n",
    "print(x[0,3])"
   ]
  },
  {
   "cell_type": "code",
   "execution_count": 72,
   "metadata": {},
   "outputs": [
    {
     "name": "stdout",
     "output_type": "stream",
     "text": [
      "[[5 0 3 3]\n",
      " [3 3 3 3]\n",
      " [2 4 7 6]]\n"
     ]
    }
   ],
   "source": [
    "# Modificar un elemento \n",
    "\n",
    "x[1]=3.16 # Modificar todos los elementos de la fila 1\n",
    "print(x)"
   ]
  },
  {
   "cell_type": "markdown",
   "metadata": {},
   "source": [
    "### <a id='seccion 4'></a>4. Acceder a sub-arreglos"
   ]
  },
  {
   "cell_type": "markdown",
   "metadata": {},
   "source": [
    "Al igual que en las listas, para acceder a porciones o sub-arreglos se usa la notación:\n",
    "\n",
    "x[comienzo:final:paso]"
   ]
  },
  {
   "cell_type": "code",
   "execution_count": 79,
   "metadata": {},
   "outputs": [
    {
     "name": "stdout",
     "output_type": "stream",
     "text": [
      "[12, 7, 34, 5, 6, 78]\n",
      "[12, 7]\n"
     ]
    }
   ],
   "source": [
    "# Arreglo unidimensional\n",
    "\n",
    "x1=[12,7,34,5,6,78]\n",
    "print(x1)\n",
    "print(x1[:2])"
   ]
  },
  {
   "cell_type": "code",
   "execution_count": 80,
   "metadata": {},
   "outputs": [
    {
     "name": "stdout",
     "output_type": "stream",
     "text": [
      "[6, 78]\n"
     ]
    }
   ],
   "source": [
    "# Dos últimos elementos\n",
    "\n",
    "print(x1[-2:])"
   ]
  },
  {
   "cell_type": "code",
   "execution_count": 81,
   "metadata": {},
   "outputs": [
    {
     "name": "stdout",
     "output_type": "stream",
     "text": [
      "[12, 34, 6]\n"
     ]
    }
   ],
   "source": [
    "# Elementos cada dos observaciones\n",
    "\n",
    "print(x1[::2] )"
   ]
  },
  {
   "cell_type": "code",
   "execution_count": 85,
   "metadata": {},
   "outputs": [
    {
     "name": "stdout",
     "output_type": "stream",
     "text": [
      "[[5 0 3 3]\n",
      " [7 9 3 5]\n",
      " [2 4 7 6]]\n"
     ]
    }
   ],
   "source": [
    "# Arreglo multidimensional\n",
    "\n",
    "print(x)"
   ]
  },
  {
   "cell_type": "code",
   "execution_count": 87,
   "metadata": {},
   "outputs": [
    {
     "name": "stdout",
     "output_type": "stream",
     "text": [
      "[5 7 2]\n"
     ]
    }
   ],
   "source": [
    "# Primera columna\n",
    "\n",
    "print(x[:,0])"
   ]
  },
  {
   "cell_type": "code",
   "execution_count": 88,
   "metadata": {},
   "outputs": [
    {
     "name": "stdout",
     "output_type": "stream",
     "text": [
      "[[5 0 3]\n",
      " [7 9 3]]\n"
     ]
    }
   ],
   "source": [
    "# Primeras dos filas y tres columnas\n",
    "\n",
    "print(x[:2,:3])"
   ]
  },
  {
   "cell_type": "code",
   "execution_count": 91,
   "metadata": {},
   "outputs": [
    {
     "name": "stdout",
     "output_type": "stream",
     "text": [
      "[[5 3]\n",
      " [7 3]\n",
      " [2 7]]\n"
     ]
    }
   ],
   "source": [
    "# Todas las filas y columnas intercaladas\n",
    "print(x[:,::2])"
   ]
  },
  {
   "cell_type": "markdown",
   "metadata": {},
   "source": [
    "### <a id='seccion 5'></a>5. Particionar los datos"
   ]
  },
  {
   "cell_type": "markdown",
   "metadata": {},
   "source": [
    "En algunos casos es preciso modificar la forma de un array, por lo que la función reshape resulta util para esta tarea"
   ]
  },
  {
   "cell_type": "code",
   "execution_count": 120,
   "metadata": {},
   "outputs": [
    {
     "name": "stdout",
     "output_type": "stream",
     "text": [
      "[[ 0  1  2  3]\n",
      " [ 4  5  6  7]\n",
      " [ 8  9 10 11]\n",
      " [12 13 14 15]]\n"
     ]
    }
   ],
   "source": [
    "grid=np.arange(16) # Se crea un array unidimensional con 16 elementos\n",
    "grid= grid.reshape((4,4)) # Se modifica a una matriz de 4x4\n",
    "print(grid)"
   ]
  },
  {
   "cell_type": "code",
   "execution_count": 121,
   "metadata": {},
   "outputs": [
    {
     "name": "stdout",
     "output_type": "stream",
     "text": [
      "[[0 1 2 3]\n",
      " [4 5 6 7]]\n",
      "[[ 8  9 10 11]\n",
      " [12 13 14 15]]\n"
     ]
    }
   ],
   "source": [
    "# Partición vertical en dos de un arreglo (de forma equitativa)\n",
    "upper, lower=np.vsplit(grid,2) \n",
    "print(upper)\n",
    "print(lower)"
   ]
  },
  {
   "cell_type": "code",
   "execution_count": 122,
   "metadata": {},
   "outputs": [
    {
     "name": "stdout",
     "output_type": "stream",
     "text": [
      "\n",
      " [[ 0  1]\n",
      " [ 4  5]\n",
      " [ 8  9]\n",
      " [12 13]]\n",
      "[[ 2  3]\n",
      " [ 6  7]\n",
      " [10 11]\n",
      " [14 15]]\n"
     ]
    }
   ],
   "source": [
    "# Partición horizontal en dos de un arreglo (de forma equitativa)\n",
    "\n",
    "left,right=np.hsplit(grid,[2])\n",
    "print(\"\\n\",left)\n",
    "print(right)"
   ]
  },
  {
   "cell_type": "markdown",
   "metadata": {},
   "source": [
    "### <a id='seccion 6'></a>6. Operaciones con los arreglos"
   ]
  },
  {
   "cell_type": "markdown",
   "metadata": {},
   "source": [
    "* Funciones aritméticas"
   ]
  },
  {
   "cell_type": "markdown",
   "metadata": {},
   "source": [
    "En la siguiente tabla se enlistan los operadores aritméticos implementados en NumPy:\n",
    "\n",
    "| Operador\t    | Equivalente ufunc | Descripción                           |\n",
    "|---------------|-------------------|---------------------------------------|\n",
    "|``+``          |``np.add``         |Suma (e.g., ``1 + 1 = 2``)             |\n",
    "|``-``          |``np.subtract``    |Resta (e.g., ``3 - 2 = 1``)            |\n",
    "|``-``          |``np.negative``    |Negativo unitario (e.g., ``-2``)       |\n",
    "|``*``          |``np.multiply``    |Multiplicación (e.g., ``2 * 3 = 6``)   |\n",
    "|``/``          |``np.divide``      |División (e.g., ``3 / 2 = 1.5``)       |\n",
    "|``//``         |``np.floor_divide``|División inferior (e.g., ``3 // 2 = 1``)|\n",
    "|``**``         |``np.power``       |Potenciación (e.g., ``2 ** 3 = 8``)    |\n",
    "|``%``          |``np.mod``         |Módulo/residuo (e.g., ``9 % 4 = 1``)   |\n"
   ]
  },
  {
   "cell_type": "code",
   "execution_count": 126,
   "metadata": {},
   "outputs": [
    {
     "name": "stdout",
     "output_type": "stream",
     "text": [
      "[[0 0 0 1]\n",
      " [1 1 2 2]\n",
      " [2 3 3 3]\n",
      " [4 4 4 5]]\n"
     ]
    }
   ],
   "source": [
    "print(np.floor_divide(grid,3)) # Aproximación al entero inferior"
   ]
  },
  {
   "cell_type": "markdown",
   "metadata": {},
   "source": [
    "* Funciones trigonométricas"
   ]
  },
  {
   "cell_type": "code",
   "execution_count": 127,
   "metadata": {},
   "outputs": [
    {
     "name": "stdout",
     "output_type": "stream",
     "text": [
      "[ 0.          1.57079633  3.14159265]\n",
      "\n",
      " Seno(theta): [  0.00000000e+00   1.00000000e+00   1.22464680e-16]\n",
      "\n",
      " Coseno(theta): [  1.00000000e+00   6.12323400e-17  -1.00000000e+00]\n",
      "\n",
      " Tangente(theta): [  0.00000000e+00   1.63312394e+16  -1.22464680e-16]\n"
     ]
    }
   ],
   "source": [
    "theta=np.linspace(0,np.pi,3)\n",
    "print(theta)\n",
    "print(\"\\n Seno(theta):\",np.sin(theta))\n",
    "print(\"\\n Coseno(theta):\",np.cos(theta))\n",
    "print(\"\\n Tangente(theta):\",np.tan(theta))"
   ]
  },
  {
   "cell_type": "markdown",
   "metadata": {},
   "source": [
    "* Funciones logarítmicas y exponenciales"
   ]
  },
  {
   "cell_type": "code",
   "execution_count": 128,
   "metadata": {},
   "outputs": [
    {
     "name": "stdout",
     "output_type": "stream",
     "text": [
      "x:    [1, 2, 3]\n",
      "x^3:  [ 1  8 27]\n",
      "e^x:  [  2.71828183   7.3890561   20.08553692]\n",
      "2^x:  [ 2.  4.  8.]\n",
      "3^x:  [ 3  9 27]\n"
     ]
    }
   ],
   "source": [
    "# Funciones exponenciales\n",
    "x = [1, 2, 3]\n",
    "print(\"x:   \", x)\n",
    "print(\"x^3: \", np.power(x,3))\n",
    "print(\"e^x: \", np.exp(x))\n",
    "print(\"2^x: \", np.exp2(x))\n",
    "print(\"3^x: \", np.power(3, x))"
   ]
  },
  {
   "cell_type": "code",
   "execution_count": 129,
   "metadata": {},
   "outputs": [
    {
     "name": "stdout",
     "output_type": "stream",
     "text": [
      "x        : [1, 2, 4, 10]\n",
      "ln(x)    : [ 0.          0.69314718  1.38629436  2.30258509]\n",
      "log2(x)  : [ 0.          1.          2.          3.32192809]\n",
      "log10(x) : [ 0.          0.30103     0.60205999  1.        ]\n"
     ]
    }
   ],
   "source": [
    "# Funciones logarítmicas\n",
    "x = [1, 2, 4, 10]\n",
    "print(\"x        :\", x)\n",
    "print(\"ln(x)    :\", np.log(x))\n",
    "print(\"log2(x)  :\", np.log2(x))\n",
    "print(\"log10(x) :\", np.log10(x))"
   ]
  },
  {
   "cell_type": "markdown",
   "metadata": {},
   "source": [
    "* Otras funciones"
   ]
  },
  {
   "cell_type": "code",
   "execution_count": 131,
   "metadata": {},
   "outputs": [
    {
     "name": "stdout",
     "output_type": "stream",
     "text": [
      "[1, 2, 4, 10]\n",
      "80\n",
      "[ 1  2  8 80]\n"
     ]
    }
   ],
   "source": [
    "print(x)\n",
    "print(np.multiply.reduce(x))     # Reducir el arreglo a una sola operación. Regresa el producto de todos los elementos\n",
    "print(np.multiply.accumulate(x)) # Multiplica todos los elementos y almacena los productos intermedios"
   ]
  },
  {
   "cell_type": "markdown",
   "metadata": {},
   "source": [
    "Para la multiplicación de matrices se usa la función np.dot(), en el caso de querer multiplicar elemento por elemento se acude a \" * \""
   ]
  },
  {
   "cell_type": "code",
   "execution_count": 137,
   "metadata": {},
   "outputs": [
    {
     "name": "stdout",
     "output_type": "stream",
     "text": [
      "[[  4.20465696   3.75876854   6.18519781]\n",
      " [  7.18547793   4.27075002   9.06916324]\n",
      " [  9.13237162   6.54584967  12.64810648]\n",
      " [  6.71123      3.18346481   7.94624615]]\n"
     ]
    }
   ],
   "source": [
    "# Para el producto de las matrices se debe cumplir que las dimensiones sean: (mxn)*(nxp)=mxp\n",
    "\n",
    "a=np.random.rand(4,5) # Matriz de 4x5\n",
    "b=np.random.randint(0,5,size=[5,3]) # Matríz de 5x3\n",
    "n=a.dot(b)\n",
    "print(n)"
   ]
  },
  {
   "cell_type": "code",
   "execution_count": 138,
   "metadata": {},
   "outputs": [
    {
     "name": "stdout",
     "output_type": "stream",
     "text": [
      "Transpuesta de la matriz: \n",
      "\n",
      " [[ 0.09088573  0.61882617  0.92234798  0.91978281]\n",
      " [ 0.2277595   0.13346147  0.54138079  0.03603382]\n",
      " [ 0.41030156  0.98058013  0.92330607  0.174772  ]\n",
      " [ 0.62329467  0.87178573  0.82989737  0.38913468]\n",
      " [ 0.88696078  0.50272076  0.96828641  0.9521427 ]]\n"
     ]
    }
   ],
   "source": [
    "# La función transpose regresa la transupuesta de una matriz\n",
    "\n",
    "trans=a.transpose()\n",
    "print(\"Transpuesta de la matriz: \\n\\n\",trans)"
   ]
  },
  {
   "cell_type": "code",
   "execution_count": 140,
   "metadata": {},
   "outputs": [
    {
     "name": "stdout",
     "output_type": "stream",
     "text": [
      "[[34 23  8 24]\n",
      " [78 71 90 64]\n",
      " [97 45 44 64]\n",
      " [85 55 44 63]] \n",
      "\n",
      "[[  2.03146951e-01   4.07551613e-02   9.49571174e-02  -2.15255757e-01]\n",
      " [  2.00899129e-01   3.88552162e-02  -8.02793722e-05  -1.15923413e-01]\n",
      " [ -2.96431582e-02   1.66111401e-02   1.75276629e-02  -2.33880571e-02]\n",
      " [ -4.28772127e-01  -1.00509774e-01  -1.40288203e-01   4.23834946e-01]] \n",
      "\n",
      "[[  1.00000000e+00   0.00000000e+00   0.00000000e+00   8.88178420e-16]\n",
      " [ -1.77635684e-15   1.00000000e+00  -1.77635684e-15   3.55271368e-15]\n",
      " [  0.00000000e+00   0.00000000e+00   1.00000000e+00   0.00000000e+00]\n",
      " [  0.00000000e+00   0.00000000e+00   0.00000000e+00   1.00000000e+00]]\n"
     ]
    }
   ],
   "source": [
    "# Inversa de una matriz. Es preciso acudir al modulo de álgebra lineal (linalg)\n",
    "\n",
    "matriz=np.random.randint(4,100,[4,4])\n",
    "inv=np.linalg.inv(matriz)\n",
    "print(matriz,\"\\n\")\n",
    "print(inv,\"\\n\")\n",
    "print(matriz.dot(inv))"
   ]
  },
  {
   "cell_type": "code",
   "execution_count": 141,
   "metadata": {},
   "outputs": [
    {
     "data": {
      "text/plain": [
       "149477.9999999998"
      ]
     },
     "execution_count": 141,
     "metadata": {},
     "output_type": "execute_result"
    }
   ],
   "source": [
    "# Determinante de una matriz\n",
    "\n",
    "np.linalg.det(matriz)"
   ]
  },
  {
   "cell_type": "code",
   "execution_count": 142,
   "metadata": {},
   "outputs": [
    {
     "name": "stdout",
     "output_type": "stream",
     "text": [
      "[ 0.09088573  0.2277595   0.41030156  0.62329467  0.88696078  0.61882617\n",
      "  0.13346147  0.98058013  0.87178573  0.50272076  0.92234798  0.54138079\n",
      "  0.92330607  0.82989737  0.96828641  0.91978281  0.03603382  0.174772\n",
      "  0.38913468  0.9521427 ] \n",
      " (20,)\n"
     ]
    }
   ],
   "source": [
    "# La función flatten transforma un arreglo n-dimensional en uno uni dimensional\n",
    "\n",
    "uni=a.flatten()\n",
    "print(uni,\"\\n\",uni.shape)"
   ]
  },
  {
   "cell_type": "markdown",
   "metadata": {},
   "source": [
    "### <a id='seccion 7'></a>7. Operaciones booleanas"
   ]
  },
  {
   "cell_type": "code",
   "execution_count": 143,
   "metadata": {},
   "outputs": [
    {
     "data": {
      "text/plain": [
       "array([[1, 5],\n",
       "       [8, 0],\n",
       "       [3, 7],\n",
       "       [1, 7]])"
      ]
     },
     "execution_count": 143,
     "metadata": {},
     "output_type": "execute_result"
    }
   ],
   "source": [
    "x=np.random.randint(low=0,high=10,size=(4,2))\n",
    "x"
   ]
  },
  {
   "cell_type": "code",
   "execution_count": 144,
   "metadata": {},
   "outputs": [
    {
     "name": "stdout",
     "output_type": "stream",
     "text": [
      "[[False  True]\n",
      " [ True False]\n",
      " [False  True]\n",
      " [False  True]]\n"
     ]
    }
   ],
   "source": [
    "# Para comparar elementos de un arreglo se hace uso de los operadores booleanos\n",
    "\n",
    "print(x>4) # Como salida se obtiene el arreglo del mismo tamaño, pero con valores de true cuando se cumple la condición"
   ]
  },
  {
   "cell_type": "code",
   "execution_count": 145,
   "metadata": {},
   "outputs": [
    {
     "name": "stdout",
     "output_type": "stream",
     "text": [
      "3 valores son mayores a 5\n",
      "4 valores no son mayores a 5\n",
      "2 valores son mayores a 5 y menores a 8\n",
      "8 valores son mayores a 5 o menores a 8\n"
     ]
    }
   ],
   "source": [
    "# Los valores de True son iguales a 1, para contar cuantos valores cumplen con una condición se hace uso de count_nonzero()\n",
    "\n",
    "print(np.count_nonzero(x>5),\"valores son mayores a 5\")\n",
    "print(np.count_nonzero(~(x>=5)),\"valores no son mayores a 5\")\n",
    "print(np.count_nonzero((x>5)&(x<8)),\"valores son mayores a 5 y menores a 8\")\n",
    "print(np.count_nonzero((x>5)|(x<8)),\"valores son mayores a 5 o menores a 8\")"
   ]
  },
  {
   "cell_type": "code",
   "execution_count": 146,
   "metadata": {},
   "outputs": [
    {
     "name": "stdout",
     "output_type": "stream",
     "text": [
      "Los valores mayores 6 son: [8 7 7]\n"
     ]
    }
   ],
   "source": [
    "# Para seleccionar un subconjuto de datos que cumpla una condición se crea una \"máscara\"\n",
    "\n",
    "mask=x>6\n",
    "print(\"Los valores mayores 6 son:\",x[mask])"
   ]
  },
  {
   "cell_type": "markdown",
   "metadata": {},
   "source": [
    "Los operadores and y or no son equivalentes a & y |, dado que los primeros toman una única entidad para realizar las comparaciones, mientras que los segundos lo hacen elemento por elemento"
   ]
  },
  {
   "cell_type": "markdown",
   "metadata": {},
   "source": [
    "### <a id='seccion 8'></a>8. Ordenar los arreglos"
   ]
  },
  {
   "cell_type": "markdown",
   "metadata": {},
   "source": [
    "Para ordenar los arreglos en NumPy se pueden usar bucles, sin embargo resulta más eficiente utilizar las funciones con las que se cuenta como sort() o argsort"
   ]
  },
  {
   "cell_type": "code",
   "execution_count": 147,
   "metadata": {},
   "outputs": [
    {
     "data": {
      "text/plain": [
       "array([ 8,  0,  5, 15,  6, 15,  5,  9, 17, 16])"
      ]
     },
     "execution_count": 147,
     "metadata": {},
     "output_type": "execute_result"
    }
   ],
   "source": [
    "x=np.random.randint(0,20,10)\n",
    "x"
   ]
  },
  {
   "cell_type": "code",
   "execution_count": 33,
   "metadata": {},
   "outputs": [
    {
     "name": "stdout",
     "output_type": "stream",
     "text": [
      "[ 4  6  7  8  9 11 13 15 15 18]\n",
      "[0 1 3 7 5 9 2 4 8 6]\n"
     ]
    }
   ],
   "source": [
    "# Ordenar los valores de menor a mayor\n",
    "print(np.sort(x))\n",
    "\n",
    "# Ordenar de menor a mayor, pero regresando los índicies de los valores ordenados\n",
    "print(np.argsort(x))"
   ]
  },
  {
   "cell_type": "code",
   "execution_count": 34,
   "metadata": {},
   "outputs": [
    {
     "data": {
      "text/plain": [
       "array([[6, 9, 1, 6, 8, 8],\n",
       "       [3, 2, 3, 6, 3, 6],\n",
       "       [5, 7, 0, 8, 4, 6],\n",
       "       [5, 8, 2, 3, 9, 7]])"
      ]
     },
     "execution_count": 34,
     "metadata": {},
     "output_type": "execute_result"
    }
   ],
   "source": [
    "z=np.random.randint(0,10,(4,6))\n",
    "z"
   ]
  },
  {
   "cell_type": "code",
   "execution_count": 35,
   "metadata": {},
   "outputs": [
    {
     "name": "stdout",
     "output_type": "stream",
     "text": [
      "[[3 2 0 3 3 6]\n",
      " [5 7 1 6 4 6]\n",
      " [5 8 2 6 8 7]\n",
      " [6 9 3 8 9 8]]\n",
      "\n",
      " [[1 6 6 8 8 9]\n",
      " [2 3 3 3 6 6]\n",
      " [0 4 5 6 7 8]\n",
      " [2 3 5 7 8 9]]\n"
     ]
    }
   ],
   "source": [
    "# Ordenar las columnas\n",
    "print(np.sort(z,axis=0))\n",
    "\n",
    "# Ordenar las filas\n",
    "print(\"\\n\",np.sort(z,axis=1))"
   ]
  },
  {
   "cell_type": "code",
   "execution_count": 153,
   "metadata": {},
   "outputs": [
    {
     "data": {
      "text/plain": [
       "array([46,  5, 19, 47, 22, 45, 11, 11, 33,  7, 26, 48,  7, 47, 32, 36, 18,\n",
       "       23, 21,  2])"
      ]
     },
     "execution_count": 153,
     "metadata": {},
     "output_type": "execute_result"
    }
   ],
   "source": [
    "np.random.randint(low=0,high=50,size=20)"
   ]
  },
  {
   "cell_type": "markdown",
   "metadata": {},
   "source": [
    "### Ejercicio"
   ]
  },
  {
   "cell_type": "markdown",
   "metadata": {},
   "source": [
    "\n",
    "1) Cree un arreglo unidimensional con los siguientes valores:\n",
    "\n",
    "    46, 5, 19, 47, 22, 45, 11, 11, 33, 7, 26, 48, 7, 47, 32, 36, 18, 23, 21, 2\n",
    "    \n",
    "    - ¿Cuál es su tamaño, dimensión y forma?\n",
    "\n",
    "2) Convierta el arreglo anterior en una matriz de 6x3, ¿Es posible?, de no ser así proponga una forma que sí lo permita.\n",
    "\n",
    "3) ¿Cuál es el valor de la posición (2,3)? Cambie su valor por 8\n",
    "\n",
    "4) De la matriz extraiga la primera y última fila y cree dos variables nuevas. ¿Cuál es el valor de su suma?\n",
    "\n",
    "5) Cree una matriz de enteros de tamaño 20 y ordene sus valores "
   ]
  }
 ],
 "metadata": {
  "kernelspec": {
   "display_name": "Python 3",
   "language": "python",
   "name": "python3"
  },
  "language_info": {
   "codemirror_mode": {
    "name": "ipython",
    "version": 3
   },
   "file_extension": ".py",
   "mimetype": "text/x-python",
   "name": "python",
   "nbconvert_exporter": "python",
   "pygments_lexer": "ipython3",
   "version": "3.6.1"
  }
 },
 "nbformat": 4,
 "nbformat_minor": 2
}
