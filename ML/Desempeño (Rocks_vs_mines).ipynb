{
 "cells": [
  {
   "cell_type": "code",
   "execution_count": 1,
   "metadata": {
    "collapsed": true
   },
   "outputs": [],
   "source": [
    "import matplotlib.pyplot as plt\n",
    "import numpy as np\n",
    "import pandas as pd\n",
    "from sklearn.metrics import roc_curve,auc\n",
    "from sklearn import linear_model, datasets\n",
    "import sys\n",
    "from math import sqrt"
   ]
  },
  {
   "cell_type": "code",
   "execution_count": 2,
   "metadata": {
    "collapsed": true
   },
   "outputs": [],
   "source": [
    "data= pd.read_csv(\"https://archive.ics.uci.edu/ml/machine-learning-databases/undocumented/connectionist-bench/sonar/sonar.all-data\"\n",
    "                 ,header=None,prefix=\"X\")"
   ]
  },
  {
   "cell_type": "markdown",
   "metadata": {},
   "source": [
    "Cálculo y comparación de MSE, MAE y RMSE (problemas de regresión)"
   ]
  },
  {
   "cell_type": "code",
   "execution_count": 4,
   "metadata": {},
   "outputs": [
    {
     "name": "stdout",
     "output_type": "stream",
     "text": [
      "MSE = 2.72875\n",
      "RMSE = 1.651892853668179\n",
      "MAE = 1.4916666666666665"
     ]
    }
   ],
   "source": [
    "obs=[1.5,2.1,3.3,-4.7,-2.3,0.75]\n",
    "pred=[0.5,1.5,2.1,-2.2,0.1,-0.5]\n",
    "\n",
    "# Error\n",
    "error=[]\n",
    "for i in range(len(pred)):\n",
    "    error.append(obs[i]-pred[i])\n",
    "\n",
    "# Error cuadrado y absoluto\n",
    "C_error=[] # Cuadrado\n",
    "A_error=[] # Absoluto\n",
    "for i in error:\n",
    "    C_error.append(i**2)\n",
    "    A_error.append(abs(i))\n",
    "\n",
    "# MSE y MAE\n",
    "MSE=sum(C_error)/len(C_error)\n",
    "RMSE= sqrt(MSE)\n",
    "MAE=sum(A_error)/len(A_error)\n",
    "\n",
    "sys.stdout.write(\"MSE = \"+str(MSE)+\"\\n\"+\"RMSE = \"+str(RMSE)+\"\\n\"+\"MAE = \"+str(MAE))"
   ]
  },
  {
   "cell_type": "code",
   "execution_count": 136,
   "metadata": {},
   "outputs": [
    {
     "name": "stdout",
     "output_type": "stream",
     "text": [
      "Varianza de las observaciones:\n",
      " 7.570 \n",
      "\n",
      "Desviación estándar:\n",
      " 2.751\n"
     ]
    }
   ],
   "source": [
    "#Varianza de las predicciones\n",
    "desv=[]\n",
    "obs_mean=sum(obs)/len(obs)\n",
    "\n",
    "for i in obs:\n",
    "    desv.append((i-obs_mean)**2)\n",
    "    \n",
    "var=sum(desv)/len(desv)\n",
    "print(\"Varianza de las observaciones:\\n %.3f\"%(var),\"\\n\")\n",
    "print(\"Desviación estándar:\\n %.3f\"%(sqrt(var)))"
   ]
  },
  {
   "cell_type": "markdown",
   "metadata": {},
   "source": [
    "Problemas de clasificación Rock_vs_mines"
   ]
  },
  {
   "cell_type": "code",
   "execution_count": 137,
   "metadata": {
    "collapsed": true
   },
   "outputs": [],
   "source": [
    "def confusion_matrix(pred,obs,threshold):\n",
    "    if len(pred)!=len(obs): return -1\n",
    "    tp=0.0\n",
    "    fp=0.0\n",
    "    tn=0.0\n",
    "    fn=0.0\n",
    "    for i in range(len(obs)):\n",
    "        if obs[i]>0.5:\n",
    "            if pred[i]>threshold:\n",
    "                tp+=1.0\n",
    "            else:\n",
    "                fn+=1.0\n",
    "        else:\n",
    "            if pred[i]<threshold:\n",
    "                tn +=1.0\n",
    "            else:\n",
    "                fp+=1.0\n",
    "    rtn=[tp,fn,fp,tn]\n",
    "    return(rtn)"
   ]
  },
  {
   "cell_type": "code",
   "execution_count": 138,
   "metadata": {
    "collapsed": true
   },
   "outputs": [],
   "source": [
    "X=data.drop(\"X60\",axis=1)\n",
    "label=data[\"X60\"]\n",
    "y=[]\n",
    "for i in label:\n",
    "    if i==\"R\":\n",
    "        y.append(1)\n",
    "    else:\n",
    "        y.append(0)\n",
    "\n",
    "\n",
    "# Datos de entrenamiento y prueba\n",
    "ind=range(len(X))\n",
    "X_test=np.asarray([X.iloc[i] for i in ind if i%3==0])\n",
    "X_train=np.asarray([X.iloc[i] for i in ind if i%3!=0])\n",
    "y_test=np.asarray([y[i] for i in ind if i%3==0])\n",
    "y_train=np.asarray([y[i] for i in ind if i%3!=0])"
   ]
  },
  {
   "cell_type": "code",
   "execution_count": 139,
   "metadata": {},
   "outputs": [
    {
     "name": "stdout",
     "output_type": "stream",
     "text": [
      "Área bajo la curva (AUC) para la curva ROC es: 0.979519\n"
     ]
    },
    {
     "data": {
      "image/png": "[encoded data removed]",
      "text/plain": [
       "<matplotlib.figure.Figure at 0x243f268ba90>"
      ]
     },
     "metadata": {},
     "output_type": "display_data"
    }
   ],
   "source": [
    "model=linear_model.LinearRegression()\n",
    "model.fit(X_train,y_train)\n",
    "\n",
    "pred_train=model.predict(X_train)\n",
    "confusion_train=confusion_matrix(pred_train,y_train,0.5)\n",
    "\n",
    "pred_test=model.predict(X_test)\n",
    "confusion_test=confusion_matrix(pred_test,y_test,0.5)\n",
    "confusion_test\n",
    "\n",
    "# Curvas ROC\n",
    "fpr,tpr,threshold=roc_curve(y_train,pred_train)\n",
    "roc_auc=auc(fpr,tpr)\n",
    "\n",
    "print(\"Área bajo la curva (AUC) para la curva ROC es: %f\"%(roc_auc))\n",
    "\n",
    "plt.clf()\n",
    "plt.plot(fpr,tpr,label=\"Curva ROC (area= %0.2f)\"%(roc_auc))\n",
    "plt.plot([0,1],[0,1],\"k-\")\n",
    "plt.xlim([0.0,1.0])\n",
    "plt.ylim([0.0,1.0])\n",
    "plt.xlabel(\"Tasa de falsos positivos\")\n",
    "plt.ylabel(\"Tasa de verdaderos positivos\")\n",
    "plt.title(\"Curva ROC (Entrenamiento)\")\n",
    "plt.legend(loc=0)\n",
    "plt.show()"
   ]
  },
  {
   "cell_type": "code",
   "execution_count": 140,
   "metadata": {},
   "outputs": [
    {
     "name": "stdout",
     "output_type": "stream",
     "text": [
      "Área bajo la curva (AUC) para la curva ROC es: 0.848485\n"
     ]
    },
    {
     "data": {
      "image/png": "[encoded data removed]",
      "text/plain": [
       "<matplotlib.figure.Figure at 0x243f28993c8>"
      ]
     },
     "metadata": {},
     "output_type": "display_data"
    }
   ],
   "source": [
    "fpr,tpr,threshold=roc_curve(y_test,pred_test)\n",
    "roc_auc=auc(fpr,tpr)\n",
    "\n",
    "print(\"Área bajo la curva (AUC) para la curva ROC es: %f\"%(roc_auc))\n",
    "\n",
    "plt.clf()\n",
    "plt.plot(fpr,tpr,label=\"Curva ROC (area= %0.2f)\"%(roc_auc))\n",
    "plt.plot([0,1],[0,1],\"k-\")\n",
    "plt.xlim([0.0,1.0])\n",
    "plt.ylim([0.0,1.0])\n",
    "plt.xlabel(\"Tasa de falsos positivos\")\n",
    "plt.ylabel(\"Tasa de verdaderos positivos\")\n",
    "plt.title(\"Curva ROC (Entrenamiento)\")\n",
    "plt.legend(loc=0)\n",
    "plt.show()"
   ]
  }
 ],
 "metadata": {
  "kernelspec": {
   "display_name": "Python 3",
   "language": "python",
   "name": "python3"
  },
  "language_info": {
   "codemirror_mode": {
    "name": "ipython",
    "version": 3
   },
   "file_extension": ".py",
   "mimetype": "text/x-python",
   "name": "python",
   "nbconvert_exporter": "python",
   "pygments_lexer": "ipython3",
   "version": "3.6.3"
  }
 },
 "nbformat": 4,
 "nbformat_minor": 2
}
