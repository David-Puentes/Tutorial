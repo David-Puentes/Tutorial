{
 "cells": [
  {
   "cell_type": "markdown",
   "metadata": {},
   "source": [
    "# Numpy"
   ]
  },
  {
   "cell_type": "markdown",
   "metadata": {},
   "source": [
    "Numpy es un paquete de computación científica. Permite el trabajo con arreglos vectoriales, matriciales y funciones para cálculos matemáticos. Para mayor información ir a: __[Numpy](https://docs.scipy.org/doc/numpy/user/quickstart.html)__"
   ]
  },
  {
   "cell_type": "markdown",
   "metadata": {},
   "source": [
    "### 1. Crear arreglos (arrays) utilizando NumPy"
   ]
  },
  {
   "cell_type": "code",
   "execution_count": 1,
   "metadata": {
    "collapsed": true
   },
   "outputs": [],
   "source": [
    "import numpy as np\n",
    "import matplotlib.pyplot as plt"
   ]
  },
  {
   "cell_type": "markdown",
   "metadata": {},
   "source": [
    "Los arrays son arreglos de datos en diferentes dimensiones, similares a las listas pero más eficiente, por lo que la manipulación de datos en python es sinónimo de manipulación en Numpy, incluso en el uso de otras herramientas como Pandas\n",
    "\n",
    "Estos arreglos deben tener el mismo tipo de dato para realizar las operaciones entre ellos"
   ]
  },
  {
   "cell_type": "code",
   "execution_count": 5,
   "metadata": {},
   "outputs": [
    {
     "name": "stdout",
     "output_type": "stream",
     "text": [
      "[12 32 34 32 22 15] \n",
      "\n",
      " [[12 13 54]\n",
      " [12 32  1]\n",
      " [21  3  4]]\n"
     ]
    }
   ],
   "source": [
    "# Crear un vector o array de 1 dimensión\n",
    "\n",
    "a=np.array([12,32,34,32,22,15])\n",
    "\n",
    "# Crear una matriz o array de 2 dimensiones\n",
    "\n",
    "b=np.array([[12,13,54],[12,32,1],[21,3,4]])\n",
    "print( a,\"\\n\\n\", b)"
   ]
  },
  {
   "cell_type": "markdown",
   "metadata": {},
   "source": [
    "Para crear algunos arreglos específicos NumPy cuenta con funciones pre definidas"
   ]
  },
  {
   "cell_type": "code",
   "execution_count": 11,
   "metadata": {},
   "outputs": [
    {
     "name": "stdout",
     "output_type": "stream",
     "text": [
      "[0 0 0 0 0 0 0 0 0 0]\n",
      "\n",
      " [[ 1.  1.  1.  1.  1.]\n",
      " [ 1.  1.  1.  1.  1.]\n",
      " [ 1.  1.  1.  1.  1.]]\n",
      "\n",
      " [[ 14.8  14.8  14.8]\n",
      " [ 14.8  14.8  14.8]]\n",
      "\n",
      " [ 0  2  4  6  8 10 12 14 16 18]\n",
      "\n",
      " [[ 1.  0.  0.  0.]\n",
      " [ 0.  1.  0.  0.]\n",
      " [ 0.  0.  1.  0.]\n",
      " [ 0.  0.  0.  1.]]\n"
     ]
    }
   ],
   "source": [
    "# Crear un array de 0\n",
    "print(np.zeros(10,dtype=\"int\"))\n",
    "\n",
    "# Crear una matriz de 1\n",
    "print(\"\\n\",np.ones((3,5),dtype=\"float\"))\n",
    "\n",
    "# Crear una matriz con un valor cualquiera (i.e 14.8)\n",
    "print(\"\\n\",np.full((2,3),14.8,dtype=\"float\"))\n",
    "\n",
    "# Crear un arreglo entre dos valores (0,20) tomando cierto tamaño de \"paso\" (2)\n",
    "print(\"\\n\",np.arange(0,20,2))\n",
    "\n",
    "# Crear una matriz identidad\n",
    "print(\"\\n\",np.eye(4))"
   ]
  },
  {
   "cell_type": "code",
   "execution_count": 6,
   "metadata": {},
   "outputs": [
    {
     "name": "stdout",
     "output_type": "stream",
     "text": [
      "[[ 0.1614713   0.99141347  0.86334587  0.36410286  0.4313728 ]\n",
      " [ 0.41037988  0.50552796  0.55878099  0.60439201  0.39329439]\n",
      " [ 0.99764495  0.82314733  0.22001583  0.3819072   0.94840172]\n",
      " [ 0.24066496  0.21740488  0.63059155  0.99208501  0.41127114]\n",
      " [ 0.36444054  0.60706772  0.20647251  0.71729342  0.04654699]]\n"
     ]
    }
   ],
   "source": [
    "# Crear una matriz de valores aleatorios\n",
    "\n",
    "v=np.random.rand(5,5) # Número de filas y número de columnas\n",
    "print(v)"
   ]
  },
  {
   "cell_type": "markdown",
   "metadata": {},
   "source": [
    "### 2. Manipulación de los arreglos"
   ]
  },
  {
   "cell_type": "code",
   "execution_count": 24,
   "metadata": {
    "collapsed": true
   },
   "outputs": [],
   "source": [
    "np.random.seed(0) # Asignar y mantener fija la semilla en el generador de valores aleatorios\n",
    "\n",
    "x1=np.random.randint(10,size=10)\n",
    "x2=np.random.randint(10,size=(3,4))\n",
    "x3=np.random.randint(10,size=(3,4,5))"
   ]
  },
  {
   "cell_type": "code",
   "execution_count": 25,
   "metadata": {},
   "outputs": [
    {
     "name": "stdout",
     "output_type": "stream",
     "text": [
      "x3 dimensiones: 3\n",
      "x3 forma: (3, 4, 5)\n",
      "x3 tamaño: 60\n"
     ]
    }
   ],
   "source": [
    "# Para conocer las características de los arreglos se hace uso de funciones como:\n",
    "\n",
    "print(\"x3 dimensiones:\",x3.ndim)\n",
    "print(\"x3 forma:\",x3.shape)\n",
    "print(\"x3 tamaño:\",x3.size)"
   ]
  },
  {
   "cell_type": "markdown",
   "metadata": {},
   "source": [
    "### 3. Acceder y modificar elementos en los arreglos "
   ]
  },
  {
   "cell_type": "markdown",
   "metadata": {},
   "source": [
    "El acceso y modificación de un elemento en un array se hace de manera similar a las listas, es decir, usando [ ]"
   ]
  },
  {
   "cell_type": "code",
   "execution_count": 26,
   "metadata": {},
   "outputs": [
    {
     "name": "stdout",
     "output_type": "stream",
     "text": [
      "[5 0 3 3 7 9 3 5 2 4]\n",
      "Primer elemento:  5\n",
      "Último elemeno:  4\n"
     ]
    }
   ],
   "source": [
    "print(x1) # Array unidimensional\n",
    "\n",
    "# Acceder al primer elemento\n",
    "print(\"Primer elemento: \",x1[0])\n",
    "\n",
    "# Acceder al último elemento\n",
    "print(\"Último elemeno: \",x1[-1])"
   ]
  },
  {
   "cell_type": "code",
   "execution_count": 20,
   "metadata": {},
   "outputs": [
    {
     "name": "stdout",
     "output_type": "stream",
     "text": [
      "[[7 6 8 8]\n",
      " [1 6 7 7]\n",
      " [8 1 5 9]]\n",
      "El elemento en la posición(0,3) es:  8\n"
     ]
    }
   ],
   "source": [
    "print(x2)\n",
    "\n",
    "# Acceder a cualquier elemento\n",
    "print(\"El elemento en la posición(0,3) es: \",x2[0,3])"
   ]
  },
  {
   "cell_type": "code",
   "execution_count": 30,
   "metadata": {},
   "outputs": [
    {
     "name": "stdout",
     "output_type": "stream",
     "text": [
      "[1 3 3 3 7 9 3 5 2 4]\n",
      "[1 3 3 3 7 9 3 5 2 4]\n",
      "\n",
      " [[7 2 8 8]\n",
      " [1 6 7 7]\n",
      " [8 1 5 9]]\n"
     ]
    }
   ],
   "source": [
    "# Modificar un elemento \n",
    "x1[0]=1\n",
    "print(x1)\n",
    "\n",
    "x1[1]=3.16\n",
    "print(x1) # Los valores dentro de un arreglo deben ser todos del mismo tipo\n",
    "\n",
    "x2[0,1]=2\n",
    "print(\"\\n\",x2)"
   ]
  },
  {
   "cell_type": "markdown",
   "metadata": {},
   "source": [
    "### 4. Acceder a sub-arreglos"
   ]
  },
  {
   "cell_type": "markdown",
   "metadata": {},
   "source": [
    "Al igual que en las listas, para acceder a porciones o sub-arreglos se usa la notación \n",
    "\n",
    "x[comienzo:final:paso]"
   ]
  },
  {
   "cell_type": "code",
   "execution_count": 37,
   "metadata": {},
   "outputs": [
    {
     "name": "stdout",
     "output_type": "stream",
     "text": [
      "[1 3 3 3 7 9 3 5 2 4]\n",
      "Los primeros dos elementos son: [1 3]\n",
      "Los dos últimos elementos son: [2 4]\n",
      "Elementos intercalados:  [1 3 7 3 2]\n"
     ]
    }
   ],
   "source": [
    "# Arreglo unidimensional\n",
    "print(x1)\n",
    "print(\"Los primeros dos elementos son:\",x1[:2])\n",
    "print(\"Los dos últimos elementos son:\",x1[-2:])\n",
    "print(\"Elementos intercalados: \",x1[::2] )# cada 2 observaciones"
   ]
  },
  {
   "cell_type": "code",
   "execution_count": 44,
   "metadata": {},
   "outputs": [
    {
     "name": "stdout",
     "output_type": "stream",
     "text": [
      "[[7 2 8 8]\n",
      " [1 6 7 7]\n",
      " [8 1 5 9]]\n",
      "Primera fila \n",
      " [7 2 8 8]\n",
      "Primera columna \n",
      " [7 1 8]\n",
      "Dos filas y tres columnas \n",
      " [[7 2 8]\n",
      " [1 6 7]]\n",
      "Tres filas y columnas intercaladas \n",
      " [[7 8]\n",
      " [1 7]\n",
      " [8 5]]\n"
     ]
    }
   ],
   "source": [
    "# Arreglo multidimensional\n",
    "print(x2)\n",
    "print(\"Primera fila \\n\",x2[0])\n",
    "print(\"Primera columna \\n\",x2[:,0])\n",
    "print(\"Dos filas y tres columnas \\n\",x2[:2,:3])\n",
    "print(\"Tres filas y columnas intercaladas \\n\",x2[:,::2])"
   ]
  },
  {
   "cell_type": "markdown",
   "metadata": {},
   "source": [
    "### 5. Particionar los datos"
   ]
  },
  {
   "cell_type": "code",
   "execution_count": 45,
   "metadata": {},
   "outputs": [
    {
     "name": "stdout",
     "output_type": "stream",
     "text": [
      "[[ 0  1  2  3]\n",
      " [ 4  5  6  7]\n",
      " [ 8  9 10 11]\n",
      " [12 13 14 15]]\n"
     ]
    }
   ],
   "source": [
    "grid=np.arange(16).reshape((4,4)) # Crear un array y modificar su forma\n",
    "print(grid)"
   ]
  },
  {
   "cell_type": "code",
   "execution_count": 50,
   "metadata": {},
   "outputs": [
    {
     "name": "stdout",
     "output_type": "stream",
     "text": [
      "[[0 1 2 3]\n",
      " [4 5 6 7]]\n",
      "[[ 8  9 10 11]\n",
      " [12 13 14 15]]\n",
      "\n",
      " [[ 0  1]\n",
      " [ 4  5]\n",
      " [ 8  9]\n",
      " [12 13]]\n",
      "[[ 2  3]\n",
      " [ 6  7]\n",
      " [10 11]\n",
      " [14 15]]\n"
     ]
    }
   ],
   "source": [
    "# Partición vertical en dos de un arreglo\n",
    "upper, lower=np.vsplit(grid,[2]) \n",
    "print(upper)\n",
    "print(lower)\n",
    "\n",
    "# Partición horizontal en dos de un arreglo\n",
    "left,right=np.hsplit(grid,[2])\n",
    "print(\"\\n\",left)\n",
    "print(right)"
   ]
  },
  {
   "cell_type": "markdown",
   "metadata": {},
   "source": [
    "Para la multiplicación de matrices se usa la función np.dot(), en el caso de querer multiplicar elemento por elemento se acude a *"
   ]
  },
  {
   "cell_type": "code",
   "execution_count": 141,
   "metadata": {},
   "outputs": [
    {
     "name": "stdout",
     "output_type": "stream",
     "text": [
      "[[  7.05451947   8.16717136   4.89882313]\n",
      " [  9.16538431  10.93830509   6.65251603]\n",
      " [  6.19325314   6.89387807   4.20678667]\n",
      " [  5.08441229   7.53306863   4.45241449]] \n",
      "\n",
      "[[ 1.74379906  0.26695415  1.45224901  0.47208222  1.72208205]\n",
      " [ 0.34659609  0.24120654  0.69166271  1.33477597  1.08371064]\n",
      " [ 0.3878519   2.17691475  0.03028634  2.41551989  0.04121545]\n",
      " [ 3.79969074  0.20110421  0.06210701  2.16854516  0.15531813]]\n"
     ]
    }
   ],
   "source": [
    "# Para el producto de las matrices se debe cumplir que las dimensiones sean (mxn)*(nxp)=mxp\n",
    "a=np.random.rand(4,5)\n",
    "b=np.random.randint(0,5,[5,3]) # Para generar valores enteros se especifica el mínimo y el máximo y la forma de la matriz como una lista\n",
    "c=np.random.rand(4,5)*4\n",
    "n=a.dot(b)\n",
    "print(n,\"\\n\")\n",
    "print(a*c)"
   ]
  },
  {
   "cell_type": "markdown",
   "metadata": {},
   "source": [
    "### _Algunas funciones para la manipulación de arrays_"
   ]
  },
  {
   "cell_type": "code",
   "execution_count": 155,
   "metadata": {},
   "outputs": [
    {
     "name": "stdout",
     "output_type": "stream",
     "text": [
      "[[ 0.70414332  0.20667759]\n",
      " [ 0.9673032   0.29856183]\n",
      " [ 0.47940322  0.86079361]\n",
      " [ 0.52563664  0.7104637 ]\n",
      " [ 0.95253585  0.80246486]\n",
      " [ 0.27921547  0.55562018]\n",
      " [ 0.65733893  0.80675777]\n",
      " [ 0.36008117  0.98706906]\n",
      " [ 0.24006998  0.35550996]\n",
      " [ 0.61276214  0.27086609]] \n",
      " (10, 2)\n"
     ]
    }
   ],
   "source": [
    "# Para cambiar la forma de la matriz se hace uso de la función reshape\n",
    "\n",
    "reshape=a.reshape(10,2)\n",
    "print(reshape,\"\\n\",reshape.shape)"
   ]
  },
  {
   "cell_type": "code",
   "execution_count": 79,
   "metadata": {},
   "outputs": [
    {
     "name": "stdout",
     "output_type": "stream",
     "text": [
      "[ 0.96897034  0.57683898  0.70155337  0.63381748  0.21235697  0.90008178\n",
      "  0.01477881  0.24673246  0.05315245  0.55484288  0.15460657  0.73286515\n",
      "  0.49325181  0.17762067  0.24554694  0.53310157  0.88165324  0.04311981\n",
      "  0.94282708  0.47904244] \n",
      " (20,)\n"
     ]
    },
    {
     "data": {
      "text/plain": [
       "numpy.ndarray"
      ]
     },
     "execution_count": 79,
     "metadata": {},
     "output_type": "execute_result"
    }
   ],
   "source": [
    "# La función flatten transforma un arreglo n-dimensional en uno uni dimensional\n",
    "\n",
    "uni=a.flatten()\n",
    "print(uni,\"\\n\",uni.shape)"
   ]
  },
  {
   "cell_type": "code",
   "execution_count": 108,
   "metadata": {},
   "outputs": [
    {
     "name": "stdout",
     "output_type": "stream",
     "text": [
      "Transpuesta de la matriz: \n",
      "\n",
      " [[ 0.96897034  0.90008178  0.15460657  0.53310157]\n",
      " [ 0.57683898  0.01477881  0.73286515  0.88165324]\n",
      " [ 0.70155337  0.24673246  0.49325181  0.04311981]\n",
      " [ 0.63381748  0.05315245  0.17762067  0.94282708]\n",
      " [ 0.21235697  0.55484288  0.24554694  0.47904244]]\n"
     ]
    }
   ],
   "source": [
    "# La función transpose regresa la transupuesta de una matriz\n",
    "trans=a.transpose()\n",
    "print(\"Transpuesta de la matriz: \\n\\n\",trans)"
   ]
  },
  {
   "cell_type": "code",
   "execution_count": 152,
   "metadata": {},
   "outputs": [
    {
     "name": "stdout",
     "output_type": "stream",
     "text": [
      "[[47  4  7 80]\n",
      " [60 13 22 73]\n",
      " [45 80 93 33]\n",
      " [12 49  5 19]] \n",
      "\n",
      "[[-0.06805001  0.0789603  -0.01395396  0.00738843]\n",
      " [-0.00508954  0.00019432 -0.00085469  0.02216749]\n",
      " [ 0.01918931 -0.02261169  0.01580647 -0.02137394]\n",
      " [ 0.0510548  -0.04442037  0.00685762 -0.00357886]] \n",
      "\n",
      "[[  1.00000000e+00  -8.88178420e-16  -1.11022302e-16   2.77555756e-17]\n",
      " [ -4.44089210e-16   1.00000000e+00  -5.55111512e-17   1.73472348e-17]\n",
      " [ -6.66133815e-16  -6.66133815e-16   1.00000000e+00   0.00000000e+00]\n",
      " [ -1.11022302e-16  -2.22044605e-16   1.11022302e-16   1.00000000e+00]]\n"
     ]
    }
   ],
   "source": [
    "# Inversa de una matriz. Es preciso acudir al modulo de álgebra lineal (linalg)\n",
    "matriz=np.random.randint(4,100,[4,4])\n",
    "inv=np.linalg.inv(matriz)\n",
    "print(matriz,\"\\n\")\n",
    "print(inv,\"\\n\")\n",
    "print(matriz.dot(inv)) # El producto de una matriz por su determinante es una matriz identidad"
   ]
  },
  {
   "cell_type": "code",
   "execution_count": 153,
   "metadata": {},
   "outputs": [
    {
     "data": {
      "text/plain": [
       "4121983.0000000023"
      ]
     },
     "execution_count": 153,
     "metadata": {},
     "output_type": "execute_result"
    }
   ],
   "source": [
    "# Determinante de una matriz\n",
    "np.linalg.det(matriz)\n",
    "np.linalg.solve()"
   ]
  },
  {
   "cell_type": "code",
   "execution_count": 154,
   "metadata": {},
   "outputs": [
    {
     "data": {
      "text/plain": [
       "array([[ True,  True,  True,  True,  True],\n",
       "       [ True,  True,  True,  True,  True],\n",
       "       [ True,  True,  True,  True,  True],\n",
       "       [ True,  True,  True,  True,  True]], dtype=bool)"
      ]
     },
     "execution_count": 154,
     "metadata": {},
     "output_type": "execute_result"
    }
   ],
   "source": [
    "#Potencia de un array, equivalente a usar **\n",
    "a**2==np.power(a,2)"
   ]
  },
  {
   "cell_type": "code",
   "execution_count": 217,
   "metadata": {},
   "outputs": [
    {
     "data": {
      "image/png": "[encoded data removed]",
      "text/plain": [
       "<matplotlib.figure.Figure at 0x2b611599668>"
      ]
     },
     "metadata": {},
     "output_type": "display_data"
    }
   ],
   "source": [
    "# Otra de las funciones con las que cuenta numpy son las funciones trigonométricas\n",
    "x=np.linspace(25,70,100)\n",
    "y=np.sin(x)\n",
    "z=np.cos(x)\n",
    "plt.plot(x,y,color=\"green\",label=\"f(x)=sin(x)\")\n",
    "plt.plot(x,z,label=\"f(x)=cos(x)\")\n",
    "plt.title(\"Función\")\n",
    "plt.ylim(-2,2)\n",
    "plt.legend(loc=1)\n",
    "plt.show()"
   ]
  },
  {
   "cell_type": "markdown",
   "metadata": {},
   "source": [
    "### Ejercicio"
   ]
  },
  {
   "cell_type": "markdown",
   "metadata": {},
   "source": [
    "\n",
    "1) Crea un notebook.\n",
    "\n",
    "2) Usa celdas markdown para poner encabezados o titulos\n",
    "\n",
    "3) Usa celdas de código para escribir un programa que calcule la media y la varianza de una lista de numeros.\n",
    "\n",
    "la lista es [5,3.5,3.4,6,2.5]\n",
    "\n",
    "Tips\n",
    "\n",
    "- el operador que da la longitud de una lista es len(nombrelista)\n",
    "- para exponenciación $a^x$ se escribe a**x\n",
    "- Media $\\frac{1}{n} \\sum_{i=1}^n X_i $\n",
    "- Varianza : ${\\displaystyle S_{X}^{2}={\\frac {\\sum _{i=1}^{n}(X_{i}-{\\bar {X}})^{2}}{n-1}}}$\n"
   ]
  },
  {
   "cell_type": "code",
   "execution_count": 175,
   "metadata": {},
   "outputs": [
    {
     "name": "stdout",
     "output_type": "stream",
     "text": [
      "La varianza es: 1.57\n"
     ]
    }
   ],
   "source": [
    "# Alternativa utilizando numpy\n",
    "x=np.array([5,3.5,3.4,6,2.5])\n",
    "media=np.sum(x)/len(x)\n",
    "var=np.sum((np.subtract(x,media)**2))/(len(x))\n",
    "print(\"La varianza es: %.2f\" %var)"
   ]
  },
  {
   "cell_type": "code",
   "execution_count": 184,
   "metadata": {},
   "outputs": [
    {
     "name": "stdout",
     "output_type": "stream",
     "text": [
      "La varianza es: 1.57\n"
     ]
    }
   ],
   "source": [
    "# Alternativa usando listas\n",
    "media=0\n",
    "suma=0\n",
    "var=0\n",
    "for i in x:\n",
    "    suma+=i\n",
    "    media=suma/len(x)\n",
    "for i in x:\n",
    "    var+=((i-media)**2)/len(x)\n",
    "\n",
    "print(\"La varianza es: %.2f\" %var)"
   ]
  }
 ],
 "metadata": {
  "kernelspec": {
   "display_name": "Python 3",
   "language": "python",
   "name": "python3"
  },
  "language_info": {
   "codemirror_mode": {
    "name": "ipython",
    "version": 3
   },
   "file_extension": ".py",
   "mimetype": "text/x-python",
   "name": "python",
   "nbconvert_exporter": "python",
   "pygments_lexer": "ipython3",
   "version": "3.6.1"
  }
 },
 "nbformat": 4,
 "nbformat_minor": 2
}
