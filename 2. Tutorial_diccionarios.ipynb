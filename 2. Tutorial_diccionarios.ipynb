{
 "cells": [
  {
   "cell_type": "markdown",
   "metadata": {},
   "source": [
    "# Diccionarios"
   ]
  },
  {
   "cell_type": "markdown",
   "metadata": {},
   "source": [
    "Los diccionarios son arreglos similares a las listas, pero más generales. En una lista, el índice tiene que ser un entero, mientras que en el diccionarios se puede tomar cualquier valor.\n",
    "\n",
    "Los diccionarios pueden ser vistos como un emparejamiento entre un índice o llave y un valor, al igual que un diccionario (libro). Su representación está dada por corchetes {llave:valor}"
   ]
  },
  {
   "cell_type": "markdown",
   "metadata": {},
   "source": [
    "En este notebook se abordarán temas como:\n",
    "   \n",
    "[1. Crear diccionarios](#seccion 1)\n",
    "\n",
    "[2. Acceder a los elementos de un diccionario](#seccion 2)\n",
    "\n",
    "[3. Modificar un diccionario](#seccion 3)\n",
    "\n",
    "[4. Loops al interior de un diccionario](#seccion 4)"
   ]
  },
  {
   "cell_type": "markdown",
   "metadata": {},
   "source": [
    "###   <a id='seccion 1'></a>1. Crear de diccionarios"
   ]
  },
  {
   "cell_type": "code",
   "execution_count": 5,
   "metadata": {
    "collapsed": true
   },
   "outputs": [],
   "source": [
    "dict?"
   ]
  },
  {
   "cell_type": "markdown",
   "metadata": {},
   "source": [
    "Para generar un diccionario se puede usar la fucnión dict() o directamente corchetes, así:"
   ]
  },
  {
   "cell_type": "code",
   "execution_count": 1,
   "metadata": {},
   "outputs": [
    {
     "name": "stdout",
     "output_type": "stream",
     "text": [
      "{'v': 'verde', 'a': 'azul', 'am': 'amarillo'}\n",
      "{'one': 'uno'}\n"
     ]
    }
   ],
   "source": [
    "# Utilizando la función dict\n",
    "\n",
    "# Se genera una lista de emparejamientos (llave:valor)\n",
    "color=[[\"v\",\"verde\"],[\"a\",\"azul\"],[\"am\",\"amarillo\"]]\n",
    "color=dict(color)\n",
    "print(color)\n",
    "\n",
    "# Se agrega uno a uno los elementos al igual como se modifican las listas\n",
    "eng2sp=dict()\n",
    "eng2sp[\"one\"]=\"uno\"\n",
    "print(eng2sp)"
   ]
  },
  {
   "cell_type": "code",
   "execution_count": 2,
   "metadata": {},
   "outputs": [
    {
     "name": "stdout",
     "output_type": "stream",
     "text": [
      "{'one': 'uno', 'two': 'dos', 'three': 'tres'}\n"
     ]
    }
   ],
   "source": [
    "# Cómo segunda alternativa se usan los corchetes para crear el diccionario de forma directa\n",
    "\n",
    "eng2sp={\"one\":\"uno\",\"two\":\"dos\",\"three\":\"tres\"}\n",
    "print(eng2sp)"
   ]
  },
  {
   "cell_type": "code",
   "execution_count": 3,
   "metadata": {},
   "outputs": [
    {
     "name": "stdout",
     "output_type": "stream",
     "text": [
      "{'one': 'uno', 'two': 'dos', 'three': 'tres', 'four': 'cuatro'}\n"
     ]
    }
   ],
   "source": [
    "# Creación de diccionarios usando la función zip\n",
    "\n",
    "# Al igual que en la primera alternativa, se genera un emparejamiento entre llaves y valores, en este caso mediante la función zip\n",
    "en=[\"one\",\"two\",\"three\",\"four\"]\n",
    "es=[\"uno\",\"dos\",\"tres\",\"cuatro\"]\n",
    "eng2sp=dict(zip(en,es)) # la función zip compacta dos arreglos\n",
    "print(eng2sp)"
   ]
  },
  {
   "cell_type": "markdown",
   "metadata": {},
   "source": [
    "### <a id='seccion 2'></a> 2. Acceder a los elementos de un diccionario"
   ]
  },
  {
   "cell_type": "markdown",
   "metadata": {},
   "source": [
    "Para acceder a un elemento dentro del diccionario se emplea un método similar a las listas, pero buscando por llaves y no por valores"
   ]
  },
  {
   "cell_type": "code",
   "execution_count": 4,
   "metadata": {},
   "outputs": [
    {
     "name": "stdout",
     "output_type": "stream",
     "text": [
      "uno\n"
     ]
    }
   ],
   "source": [
    "print(eng2sp[\"one\"])"
   ]
  },
  {
   "cell_type": "code",
   "execution_count": 18,
   "metadata": {},
   "outputs": [
    {
     "data": {
      "text/plain": [
       "dict_items([('one', 'uno'), ('two', 'dos'), ('three', 'tres'), ('four', 'cuatro')])"
      ]
     },
     "execution_count": 18,
     "metadata": {},
     "output_type": "execute_result"
    }
   ],
   "source": [
    "eng2sp.items()"
   ]
  },
  {
   "cell_type": "code",
   "execution_count": 21,
   "metadata": {},
   "outputs": [
    {
     "name": "stdout",
     "output_type": "stream",
     "text": [
      "two\n"
     ]
    }
   ],
   "source": [
    "for i,j in eng2sp.items():\n",
    "    if j==\"dos\":\n",
    "        print(i)"
   ]
  },
  {
   "cell_type": "code",
   "execution_count": 6,
   "metadata": {},
   "outputs": [
    {
     "name": "stdout",
     "output_type": "stream",
     "text": [
      "dict_keys(['one', 'two', 'three', 'four'])\n",
      "dict_values(['uno', 'dos', 'tres', 'cuatro'])\n"
     ]
    }
   ],
   "source": [
    "# Para acceder a las llaves se usa dict.keys(), mientras que con los valores se usa dict.values()\n",
    "\n",
    "print(eng2sp.keys())\n",
    "print(eng2sp.values())"
   ]
  },
  {
   "cell_type": "markdown",
   "metadata": {},
   "source": [
    "### <a id='seccion 3'></a>3. Modificar los diccionarios"
   ]
  },
  {
   "cell_type": "code",
   "execution_count": 8,
   "metadata": {},
   "outputs": [
    {
     "name": "stdout",
     "output_type": "stream",
     "text": [
      "{'one': 'Uno', 'two': 'dos', 'three': 'tres', 'four': 'cuatro'}\n"
     ]
    }
   ],
   "source": [
    "# Modificar un elemento del diccionario\n",
    "\n",
    "eng2sp[\"one\"]=\"Uno\"\n",
    "print(eng2sp)"
   ]
  },
  {
   "cell_type": "code",
   "execution_count": 9,
   "metadata": {},
   "outputs": [
    {
     "name": "stdout",
     "output_type": "stream",
     "text": [
      "{'one': 'Uno', 'two': 'dos', 'three': 'tres'}\n"
     ]
    }
   ],
   "source": [
    "# Eliminar elementos\n",
    "\n",
    "del(eng2sp[\"four\"])\n",
    "print(eng2sp)"
   ]
  },
  {
   "cell_type": "code",
   "execution_count": 7,
   "metadata": {},
   "outputs": [
    {
     "name": "stdout",
     "output_type": "stream",
     "text": [
      "True\n"
     ]
    }
   ],
   "source": [
    "# Saber si hay un elemento dentro del dicionario\n",
    "\n",
    "print(\"one\" in eng2sp)"
   ]
  },
  {
   "cell_type": "code",
   "execution_count": 10,
   "metadata": {},
   "outputs": [
    {
     "name": "stdout",
     "output_type": "stream",
     "text": [
      "{'one': 'Uno', 'two': 'dos', 'three': 'tres', 'Nuevo': (['M', 5, 7.0], 'asdf', {'valor', 'llave'})}\n"
     ]
    }
   ],
   "source": [
    "# Agregar múltiple valores y acceder a ellos\n",
    "\n",
    "eng2sp[\"Nuevo\"]=[\"M\", 5, 7.0], (\"asdf\"), {\"llave\", \"valor\"}\n",
    "print(eng2sp)"
   ]
  },
  {
   "cell_type": "code",
   "execution_count": 41,
   "metadata": {},
   "outputs": [
    {
     "data": {
      "text/plain": [
       "['M', 5, 7.0]"
      ]
     },
     "execution_count": 41,
     "metadata": {},
     "output_type": "execute_result"
    }
   ],
   "source": [
    "# Acceder al primer elemento de la nueva llave\n",
    "\n",
    "eng2sp[\"Nuevo\"][0]"
   ]
  },
  {
   "cell_type": "code",
   "execution_count": 43,
   "metadata": {},
   "outputs": [
    {
     "ename": "TypeError",
     "evalue": "'tuple' object does not support item assignment",
     "output_type": "error",
     "traceback": [
      "\u001b[1;31m---------------------------------------------------------------------------\u001b[0m",
      "\u001b[1;31mTypeError\u001b[0m                                 Traceback (most recent call last)",
      "\u001b[1;32m<ipython-input-43-fa9106ebd74c>\u001b[0m in \u001b[0;36m<module>\u001b[1;34m()\u001b[0m\n\u001b[0;32m      1\u001b[0m \u001b[1;31m# Los valores de la nueva llave corresponden a una tupla, por lo que no se pueden modificar\u001b[0m\u001b[1;33m\u001b[0m\u001b[1;33m\u001b[0m\u001b[0m\n\u001b[0;32m      2\u001b[0m \u001b[1;33m\u001b[0m\u001b[0m\n\u001b[1;32m----> 3\u001b[1;33m \u001b[0meng2sp\u001b[0m\u001b[1;33m[\u001b[0m\u001b[1;34m\"Nuevo\"\u001b[0m\u001b[1;33m]\u001b[0m\u001b[1;33m[\u001b[0m\u001b[1;36m1\u001b[0m\u001b[1;33m]\u001b[0m\u001b[1;33m=\u001b[0m\u001b[1;34m\"O\"\u001b[0m\u001b[1;33m\u001b[0m\u001b[0m\n\u001b[0m",
      "\u001b[1;31mTypeError\u001b[0m: 'tuple' object does not support item assignment"
     ]
    }
   ],
   "source": [
    "# Los valores de la nueva llave corresponden a una tupla, por lo que no se pueden modificar\n",
    "\n",
    "eng2sp[\"Nuevo\"][0]=\"O\""
   ]
  },
  {
   "cell_type": "code",
   "execution_count": 11,
   "metadata": {},
   "outputs": [
    {
     "name": "stdout",
     "output_type": "stream",
     "text": [
      "{'one': 'Uno', 'two': 'dos', 'three': 'tres', 'Nuevo': (['O', 5, 7.0], 'asdf', {'valor', 'llave'})}\n"
     ]
    }
   ],
   "source": [
    "# Sin embargo, si se puede acceder al primer elemento y modificarlo puesto que es una lista\n",
    "\n",
    "eng2sp[\"Nuevo\"][0][0]=\"O\"\n",
    "print(eng2sp)"
   ]
  },
  {
   "cell_type": "markdown",
   "metadata": {},
   "source": [
    "### <a id='seccion 4'></a>4. Loops dentro de los diccionarios"
   ]
  },
  {
   "cell_type": "markdown",
   "metadata": {
    "collapsed": true
   },
   "source": [
    "Cuando se utiliza \"for\" para navergar a lo largo de un diccionario este lo hace con las llaves y no con los valores"
   ]
  },
  {
   "cell_type": "code",
   "execution_count": 12,
   "metadata": {},
   "outputs": [
    {
     "name": "stdout",
     "output_type": "stream",
     "text": [
      "Juan 23\n",
      "Pedro 26\n",
      "Antonio 30\n",
      "Isabela 27\n"
     ]
    }
   ],
   "source": [
    "names={\"Juan\":23,\"Pedro\":26,\"Antonio\":30,\"Isabela\":27}\n",
    "for i in names:\n",
    "    print(i,names[i])"
   ]
  },
  {
   "cell_type": "code",
   "execution_count": 13,
   "metadata": {},
   "outputs": [
    {
     "name": "stdout",
     "output_type": "stream",
     "text": [
      "Antonio 30\n",
      "Isabela 27\n",
      "Juan 23\n",
      "Pedro 26\n"
     ]
    }
   ],
   "source": [
    "# Para tener los valores ordenados hace falta crear una lista\n",
    "\n",
    "lst=list(names.keys()) # Se genera una lista con las llaves\n",
    "lst.sort() # Se organizan las llaves\n",
    "for i in lst:\n",
    "    print(i,names[i])"
   ]
  },
  {
   "cell_type": "code",
   "execution_count": 14,
   "metadata": {},
   "outputs": [
    {
     "name": "stdout",
     "output_type": "stream",
     "text": [
      "Antonio 30\n",
      "Isabela 27\n"
     ]
    }
   ],
   "source": [
    "# Regresar los valores mayores a 26\n",
    "\n",
    "for i in names:\n",
    "    if names[i]>26:\n",
    "        print(i,names[i])"
   ]
  },
  {
   "cell_type": "code",
   "execution_count": 51,
   "metadata": {},
   "outputs": [
    {
     "name": "stdout",
     "output_type": "stream",
     "text": [
      "{'b': 1, 'r': 2, 'o': 3, 'n': 1, 't': 1, 's': 1, 'a': 1, 'u': 1, 'i': 1}\n"
     ]
    }
   ],
   "source": [
    "# Contador de palabras\n",
    "\n",
    "word=\"brontosaurio\"\n",
    "d=dict()\n",
    "for c in word:\n",
    "    if c not in d:\n",
    "        d[c]=1\n",
    "    else:\n",
    "        d[c]+=1\n",
    "print(d)"
   ]
  },
  {
   "cell_type": "code",
   "execution_count": 52,
   "metadata": {},
   "outputs": [
    {
     "name": "stdout",
     "output_type": "stream",
     "text": [
      "{'b': 1, 'r': 2, 'o': 3, 'n': 1, 't': 1, 's': 1, 'a': 1, 'u': 1, 'i': 1}\n"
     ]
    }
   ],
   "source": [
    "# Alternativa\n",
    "\n",
    "d_2=dict()\n",
    "for i in word:\n",
    "    d_2[i]=d_2.get(i,0)+1 # con get se obtiene el valor por defecto de la clave \"key\" o asigna el valor que se especifique\n",
    "print(d_2)"
   ]
  },
  {
   "cell_type": "code",
   "execution_count": 15,
   "metadata": {},
   "outputs": [
    {
     "data": {
      "text/plain": [
       "{0: 2, 1: 3, 2: 2, 3: 3, 4: 1, 5: 1, 7: 3, 8: 2, 9: 1}"
      ]
     },
     "execution_count": 15,
     "metadata": {},
     "output_type": "execute_result"
    }
   ],
   "source": [
    "# Loop para contar cuantas veces se repite un número\n",
    "\n",
    "num=[7,3,4,7,1,2,0,7,9,3,8,5,1,8,2,3,0,1]\n",
    "cont={}\n",
    "for i in num:\n",
    "    if i not in cont:\n",
    "        cont[i]=0\n",
    "    cont[i]+=1\n",
    "cont"
   ]
  },
  {
   "cell_type": "markdown",
   "metadata": {},
   "source": [
    "Leer un archivo y contar el número de palabras que contine"
   ]
  },
  {
   "cell_type": "code",
   "execution_count": 3,
   "metadata": {},
   "outputs": [
    {
     "name": "stdout",
     "output_type": "stream",
     "text": [
      "Ingrese el nombre del archivo:Romeo.txt\n",
      "{'But': 1, 'soft': 1, 'what': 1, 'light': 1, 'through': 1, 'yonder': 1, 'window': 1, 'breaks': 1, 'It': 1, 'is': 3, 'the': 3, 'east': 1, 'and': 3, 'Juliet': 1, 'sun': 2, 'Arise': 1, 'fair': 1, 'kill': 1, 'envious': 1, 'moon': 1, 'Who': 1, 'already': 1, 'sick': 1, 'pale': 1, 'with': 1, 'grief': 1}\n"
     ]
    }
   ],
   "source": [
    "fname=input(\"Ingrese el nombre del archivo:\") # Romeo.txt\n",
    "try:\n",
    "    fhand=open(fname)\n",
    "except:\n",
    "    print(\"El archivo %s no puede ser abierto\" %fname)\n",
    "    exit()\n",
    "\n",
    "counts=dict()\n",
    "for line in fhand:\n",
    "    words=line.split()\n",
    "    for i in words:\n",
    "        counts[i]=counts.get(i,0)+1\n",
    "print(counts)"
   ]
  }
 ],
 "metadata": {
  "kernelspec": {
   "display_name": "Python 3",
   "language": "python",
   "name": "python3"
  },
  "language_info": {
   "codemirror_mode": {
    "name": "ipython",
    "version": 3
   },
   "file_extension": ".py",
   "mimetype": "text/x-python",
   "name": "python",
   "nbconvert_exporter": "python",
   "pygments_lexer": "ipython3",
   "version": "3.6.5"
  }
 },
 "nbformat": 4,
 "nbformat_minor": 2
}
