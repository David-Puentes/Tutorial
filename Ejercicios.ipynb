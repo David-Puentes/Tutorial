{
 "cells": [
  {
   "cell_type": "markdown",
   "metadata": {},
   "source": [
    "# Promedio de clase"
   ]
  },
  {
   "cell_type": "code",
   "execution_count": 3,
   "metadata": {},
   "outputs": [
    {
     "data": {
      "text/plain": [
       "3.6455555555555557"
      ]
     },
     "execution_count": 3,
     "metadata": {},
     "output_type": "execute_result"
    }
   ],
   "source": [
    "# Quiz para evaluar los conocimientos adquiridos hasta ahora.\n",
    "# Se solicita crear un programa para conocer las calificaciones de los estudiantes en un salón de clase.\n",
    "Pedro={\"Nombre\":\"Pedro\",\"Tareas\":[4.0,3.8,4.7],\"Quizes\":[4.2,4.5,4.8,5.0],\"Parciales\":[3.2,4.1,2.8]}\n",
    "Andrea={\"Nombre\":\"Andrea\",\"Tareas\":[5,2.8,4.7],\"Quizes\":[3.8,3.5,3.2,4.0],\"Parciales\":[4.2,3.1,3.0]}\n",
    "Paula={\"Nombre\":\"Pedro\",\"Tareas\":[4.3,3.6,4.2],\"Quizes\":[4.7,3.5,2.8,4.0],\"Parciales\":[3.6,5.0,1.5]}\n",
    "Estudiantes=[Pedro,Andrea,Paula]\n",
    "def promedio(number):\n",
    "    total=sum(number)\n",
    "    total=float(total)\n",
    "    return total/len(number)\n",
    "def promedio_final(estudiante):\n",
    "    Tareas=promedio(estudiante[\"Tareas\"])\n",
    "    Quizes=promedio(estudiante[\"Quizes\"])\n",
    "    Parciales=promedio(estudiante[\"Parciales\"])\n",
    "    return 0.1*Tareas + 0.3*Quizes + 0.6*Parciales\n",
    "def promedio_clase(estudiantes):\n",
    "    pro = []\n",
    "    for i in estudiantes:\n",
    "        prom=promedio_final(i)\n",
    "        pro.append(prom)\n",
    "    return promedio(pro)\n",
    "\n",
    "promedio_final(Pedro)\n",
    "#promedio_final(Pedro)\n",
    "#promedio_clase(Estudiantes)"
   ]
  },
  {
   "cell_type": "markdown",
   "metadata": {},
   "source": [
    "# Cambio de palabras"
   ]
  },
  {
   "cell_type": "code",
   "execution_count": null,
   "metadata": {
    "collapsed": true
   },
   "outputs": [],
   "source": [
    "# Recordando juego de palabras\n",
    "print(\"Mi primer juego\")\n",
    "Palabra=str(input(\"Ingrese una palabra:\"))\n",
    "A=\"ay\"\n",
    "if len(Palabra)>2 and Palabra.isalpha():\n",
    "    Nueva= Palabra.lower()\n",
    "    palabra=Nueva[0:3]\n",
    "    n_palabra=Nueva[3:len(Nueva)]+palabra+A\n",
    "    print(n_palabra)\n",
    "else:\n",
    "    print(\"No hay palabra\")"
   ]
  },
  {
   "cell_type": "markdown",
   "metadata": {},
   "source": [
    "# Astucia Naval"
   ]
  },
  {
   "cell_type": "code",
   "execution_count": 1,
   "metadata": {},
   "outputs": [
    {
     "name": "stdout",
     "output_type": "stream",
     "text": [
      "O O O O O\n",
      "O O O O O\n",
      "O O O O O\n",
      "O O O O O\n",
      "O O O O O\n",
      "0\n",
      "2\n",
      "Turn 1\n",
      "Guess Row: 4\n",
      "Guess Col: 3\n",
      "You missed my battleship!\n",
      "O O O O O\n",
      "O O O O O\n",
      "O O O O O\n",
      "O O O O O\n",
      "O O O X O\n",
      "Turn 2\n",
      "Guess Row: 24\n",
      "Guess Col: 4\n",
      "Oops, that's not even in the ocean.\n",
      "O O O O O\n",
      "O O O O O\n",
      "O O O O O\n",
      "O O O O O\n",
      "O O O X O\n",
      "Turn 3\n",
      "Guess Row: 2\n",
      "Guess Col: 1\n",
      "You missed my battleship!\n",
      "O O O O O\n",
      "O O O O O\n",
      "O X O O O\n",
      "O O O O O\n",
      "O O O X O\n",
      "Turn 4\n",
      "Guess Row: 0\n",
      "Guess Col: 2\n",
      "Congratulations! You sank my battleship!\n"
     ]
    }
   ],
   "source": [
    "from random import randint\n",
    "\n",
    "board = []\n",
    "\n",
    "for x in range(0, 5):\n",
    "  board.append([\"O\"] * 5)\n",
    "\n",
    "def print_board(board):\n",
    "  for row in board:\n",
    "    print (\" \".join(row))\n",
    "\n",
    "print_board(board)\n",
    "\n",
    "def random_row(board):\n",
    "  return randint(0, len(board) - 1)\n",
    "\n",
    "def random_col(board):\n",
    "  return randint(0, len(board[0]) - 1)\n",
    "\n",
    "ship_row = random_row(board)\n",
    "ship_col = random_col(board)\n",
    "print (ship_row)\n",
    "print (ship_col)\n",
    "\n",
    "# Everything from here on should be in your for loop\n",
    "# don't forget to properly indent!\n",
    "for turn in range(4):\n",
    "  print (\"Turn\", turn + 1)\n",
    "  guess_row = int(input(\"Guess Row: \"))\n",
    "  guess_col = int(input(\"Guess Col: \"))\n",
    "\n",
    "  if guess_row == ship_row and guess_col == ship_col:\n",
    "    print (\"Congratulations! You sank my battleship!\")\n",
    "    break\n",
    "  else:\n",
    "    if guess_row not in range(5) or \\\n",
    "      guess_col not in range(5):\n",
    "      print (\"Oops, that's not even in the ocean.\")\n",
    "    elif board[guess_row][guess_col] == \"X\":\n",
    "      print( \"You guessed that one already.\" )\n",
    "    else:\n",
    "      print (\"You missed my battleship!\")\n",
    "      board[guess_row][guess_col] = \"X\"\n",
    "      if turn==3:\n",
    "        print(\"Game Over\")\n",
    "    print_board(board)"
   ]
  },
  {
   "cell_type": "code",
   "execution_count": null,
   "metadata": {
    "collapsed": true
   },
   "outputs": [],
   "source": [
    "import matplotlib.pyplot as plt\n",
    "import numpy as np\n",
    "\n",
    "A=np.random.normal(15,0.5,80)\n",
    "B=np.random.normal(19,0.3,80)\n",
    "C=np.random.normal(112,30,60)\n",
    "D=[\"red\",\"green\", \"blue\"]\n",
    "\n",
    "plt.scatter(A,B,s=C,c=D)\n",
    "plt.show()\n",
    "help(plt)"
   ]
  },
  {
   "cell_type": "code",
   "execution_count": 1,
   "metadata": {},
   "outputs": [
    {
     "data": {
      "text/plain": [
       "12"
      ]
     },
     "execution_count": 1,
     "metadata": {},
     "output_type": "execute_result"
    }
   ],
   "source": [
    "# Sumar todos los dígitos de un número\n",
    "def suma(A):\n",
    "    A=str(A)\n",
    "    F=0\n",
    "    for i in A:\n",
    "        F+=int(i)\n",
    "    return(F)\n",
    "\n",
    "suma(1452)"
   ]
  },
  {
   "cell_type": "code",
   "execution_count": 17,
   "metadata": {},
   "outputs": [
    {
     "data": {
      "text/plain": [
       "12"
      ]
     },
     "execution_count": 17,
     "metadata": {},
     "output_type": "execute_result"
    }
   ],
   "source": [
    "# Par ver el último dígito de un número basta con calcular el módulo del número con 10\n",
    "1456%10\n",
    "\n",
    "#Por otro lado, si se desea quitar el último número se usa //10\n",
    "1456//10\n",
    "\n",
    "# Solución al ejercicio anterior usando estos operadores\n",
    "def digit_sum(n):\n",
    "    total=0\n",
    "    for i in range(len(str(n))):\n",
    "        total= total+ n%10\n",
    "        n=n//10\n",
    "    return total\n",
    "\n",
    "digit_sum(1452)"
   ]
  },
  {
   "cell_type": "code",
   "execution_count": null,
   "metadata": {
    "collapsed": true
   },
   "outputs": [],
   "source": [
    "# Factorial de un número\n",
    "def factorial(x):\n",
    "    o=1\n",
    "    for i in range(1,x+1):\n",
    "        o=o*i\n",
    "    return(o)\n",
    "factorial(15)"
   ]
  },
  {
   "cell_type": "code",
   "execution_count": 1,
   "metadata": {},
   "outputs": [
    {
     "data": {
      "text/plain": [
       "False"
      ]
     },
     "execution_count": 1,
     "metadata": {},
     "output_type": "execute_result"
    }
   ],
   "source": [
    "# Ejercicio para verificar si un número es primo\n",
    "def is_prime(x):\n",
    "    if x<2:\n",
    "        return False\n",
    "    else:\n",
    "        for i in range(2,x-1):\n",
    "            if x%i==0:\n",
    "                return False\n",
    "        return True\n",
    "is_prime(9)"
   ]
  },
  {
   "cell_type": "code",
   "execution_count": 5,
   "metadata": {},
   "outputs": [
    {
     "data": {
      "text/plain": [
       "'divaD'"
      ]
     },
     "execution_count": 5,
     "metadata": {},
     "output_type": "execute_result"
    }
   ],
   "source": [
    "# Ejercicio para cambiar el orden de las palabras\n",
    "def reverse(x):\n",
    "    F=[]\n",
    "    final=\"\"\n",
    "    for i in range(len(x)):\n",
    "        o=len(x)-i-1\n",
    "        F.append(x[o])\n",
    "        final+=F[i]\n",
    "    return final\n",
    "reverse(\"David\")"
   ]
  },
  {
   "cell_type": "code",
   "execution_count": 16,
   "metadata": {},
   "outputs": [
    {
     "data": {
      "text/plain": [
       "'Dvd Pnts'"
      ]
     },
     "execution_count": 16,
     "metadata": {},
     "output_type": "execute_result"
    }
   ],
   "source": [
    "# Eliminar las vocales de una palabra\n",
    "def vocales(x):\n",
    "    F=[]\n",
    "    for i in x:\n",
    "        if i not in \"aeiouAEIOU\":\n",
    "            F.append(i)\n",
    "    return \"\".join(F)\n",
    "vocales(\"David Puentes\")\n",
    "            "
   ]
  },
  {
   "cell_type": "code",
   "execution_count": 22,
   "metadata": {},
   "outputs": [
    {
     "data": {
      "text/plain": [
       "1"
      ]
     },
     "execution_count": 22,
     "metadata": {},
     "output_type": "execute_result"
    }
   ],
   "source": [
    "# Juego de scrabble\n",
    "score = {\"a\": 1, \"c\": 3, \"b\": 3, \"e\": 1, \"d\": 2, \"g\": 2, \n",
    "         \"f\": 4, \"i\": 1, \"h\": 4, \"k\": 5, \"j\": 8, \"m\": 3, \n",
    "         \"l\": 1, \"o\": 1, \"n\": 1, \"q\": 10, \"p\": 3, \"s\": 1, \n",
    "         \"r\": 1, \"u\": 1, \"t\": 1, \"w\": 4, \"v\": 4, \"y\": 4, \n",
    "         \"x\": 8, \"z\": 10}\n",
    "def scrabble_score(x):\n",
    "    A=0\n",
    "    x=x.lower()\n",
    "    for i in x:\n",
    "        A+=score[i]\n",
    "    return(A)\n",
    "\n",
    "scrabble_score('David')"
   ]
  },
  {
   "cell_type": "code",
   "execution_count": 1,
   "metadata": {},
   "outputs": [
    {
     "data": {
      "text/plain": [
       "'David ******* Puentes Garzón'"
      ]
     },
     "execution_count": 1,
     "metadata": {},
     "output_type": "execute_result"
    }
   ],
   "source": [
    "# Censurar palabras en un texto\n",
    "def censor(x,y):\n",
    "    x=x.split() #La función split() permite fraccionar un texto de acuerdo a espacios o signos de puntuación, en este caso se toma espacio\n",
    "    for i in x:\n",
    "        if i==y:\n",
    "            x[x.index(i)]=len(i)*\"*\"\n",
    "    return \" \".join(x)\n",
    "censor(\"David Esteban Puentes Garzón\",\"Esteban\")"
   ]
  },
  {
   "cell_type": "code",
   "execution_count": 19,
   "metadata": {},
   "outputs": [
    {
     "data": {
      "text/plain": [
       "2"
      ]
     },
     "execution_count": 19,
     "metadata": {},
     "output_type": "execute_result"
    }
   ],
   "source": [
    "# Ejercicio para contar el número de veces que un número se repite en una lista\n",
    "def count(x,y):\n",
    "    count=0\n",
    "    for i in x:\n",
    "        if i==y:\n",
    "            count+=1\n",
    "    return count\n",
    "count([\"a\",\"b\",3,\"b\"],\"b\")\n",
    "            "
   ]
  },
  {
   "cell_type": "code",
   "execution_count": null,
   "metadata": {
    "collapsed": true
   },
   "outputs": [],
   "source": [
    "# Función que elimine los valores impares de una lista\n",
    "def purify(x):\n",
    "    A=[]\n",
    "    for i in x:\n",
    "        if i%2 ==0:\n",
    "            A.append(i)\n",
    "    return(A)\n",
    "purify([1,12,3,24,3])"
   ]
  },
  {
   "cell_type": "code",
   "execution_count": null,
   "metadata": {
    "collapsed": true
   },
   "outputs": [],
   "source": [
    "# Multiplicar todos los elementos de una lista\n",
    "def product(x):\n",
    "    A=1\n",
    "    for i in x:\n",
    "        A*=i\n",
    "    return A\n",
    "product([2,3,4])"
   ]
  },
  {
   "cell_type": "code",
   "execution_count": 27,
   "metadata": {},
   "outputs": [
    {
     "data": {
      "text/plain": [
       "['a', 'b', 2, 3, 5]"
      ]
     },
     "execution_count": 27,
     "metadata": {},
     "output_type": "execute_result"
    }
   ],
   "source": [
    "# Remover los elementos repetidos en una lista\n",
    "def remove_duplicates(x):\n",
    "    A=[]\n",
    "    for i in x:\n",
    "        if i not in A:\n",
    "            A.append(i)\n",
    "    return A\n",
    "remove_duplicates([\"a\",\"b\",\"a\",2,3,5,3])\n",
    "            "
   ]
  },
  {
   "cell_type": "code",
   "execution_count": 32,
   "metadata": {},
   "outputs": [
    {
     "data": {
      "text/plain": [
       "4.5"
      ]
     },
     "execution_count": 32,
     "metadata": {},
     "output_type": "execute_result"
    }
   ],
   "source": [
    "# Crear una función para calcular la mediana de una lista\n",
    "def median(x):\n",
    "    x=sorted(x)\n",
    "    A=0\n",
    "    if len(x)%2==0:\n",
    "        o=int(len(x)/2)\n",
    "        A=(x[o]+x[o-1])/2.0\n",
    "    else:\n",
    "        o=int(len(x)/2)\n",
    "        A=x[o]\n",
    "    return A\n",
    "median([2, 4, 5, 9])"
   ]
  },
  {
   "cell_type": "code",
   "execution_count": null,
   "metadata": {
    "collapsed": true
   },
   "outputs": [],
   "source": [
    "def median(lst):\n",
    "    sorted_list = sorted(lst)\n",
    "    if len(sorted_list) % 2 != 0:\n",
    "        #odd number of elements\n",
    "        index = len(sorted_list)//2 \n",
    "        return sorted_list[index]\n",
    "    elif len(sorted_list) % 2 == 0:\n",
    "        #even no. of elements\n",
    "        index_1 = len(sorted_list)/2 - 1\n",
    "        index_2 = len(sorted_list)/2\n",
    "        mean = (sorted_list[index_1] + sorted_list[index_2])/2.0\n",
    "        return mean"
   ]
  },
  {
   "cell_type": "code",
   "execution_count": 3,
   "metadata": {},
   "outputs": [
    {
     "data": {
      "text/plain": [
       "80.42307692307692"
      ]
     },
     "execution_count": 3,
     "metadata": {},
     "output_type": "execute_result"
    }
   ],
   "source": [
    "grades = [100, 100, 90, 40, 80, 100, 85, 70, 90, 65, 90, 85, 50.5]\n",
    "\n",
    "def grades_sum(scores):\n",
    "  total = 0\n",
    "  for score in scores: \n",
    "    total += score\n",
    "  return total\n",
    "\n",
    "def grades_average(grades_input):\n",
    "  average=grades_sum(grades_input)/int(len(grades_input))\n",
    "  return average"
   ]
  },
  {
   "cell_type": "code",
   "execution_count": null,
   "metadata": {
    "collapsed": true
   },
   "outputs": [],
   "source": [
    "check_bit4= bin(int(input(\"Ingrese un número: \")))\n",
    "num=bin(0b1000)\n",
    "desire=def\n",
    "if desire > 0:\n",
    "  return \"on\"\n",
    "else:\n",
    "  return \"off\"\n",
    "type(num)"
   ]
  },
  {
   "cell_type": "code",
   "execution_count": 93,
   "metadata": {},
   "outputs": [
    {
     "data": {
      "text/plain": [
       "-3"
      ]
     },
     "execution_count": 93,
     "metadata": {},
     "output_type": "execute_result"
    }
   ],
   "source": [
    "# Crear una función para extraer las coordenadas de una dirección\n",
    "\n",
    "import re\n",
    "\n",
    "a=\"Carrera 27#11-68\"\n",
    "b=\"Carrera 11# 14 - 16\"\n",
    "a=re.split(' |#|-',a)\n",
    "b=re.split(' |#|-',b)\n",
    "\n",
    "o=[]\n",
    "for i in a:\n",
    "    if i.isdigit():\n",
    "        o.append(int(i))\n",
    "\n",
    "e=[]\n",
    "for i in b:\n",
    "    if i.isdigit():\n",
    "        e.append(int(i))\n",
    "\n"
   ]
  },
  {
   "cell_type": "code",
   "execution_count": 80,
   "metadata": {},
   "outputs": [
    {
     "name": "stdout",
     "output_type": "stream",
     "text": [
      "['12', '12']\n"
     ]
    }
   ],
   "source": [
    "o=[\"12\",\"12\",\"a\"]\n",
    "x=[]\n",
    "for i in o:\n",
    "    if i.isdigit():\n",
    "        x.append(i)\n",
    "print(x)"
   ]
  }
 ],
 "metadata": {
  "kernelspec": {
   "display_name": "Python 3",
   "language": "python",
   "name": "python3"
  },
  "language_info": {
   "codemirror_mode": {
    "name": "ipython",
    "version": 3
   },
   "file_extension": ".py",
   "mimetype": "text/x-python",
   "name": "python",
   "nbconvert_exporter": "python",
   "pygments_lexer": "ipython3",
   "version": "3.6.5"
  }
 },
 "nbformat": 4,
 "nbformat_minor": 2
}
